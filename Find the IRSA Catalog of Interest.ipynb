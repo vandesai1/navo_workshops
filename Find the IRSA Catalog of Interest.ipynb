{
 "cells": [
  {
   "cell_type": "markdown",
   "metadata": {},
   "source": [
    "# Find the IRSA Table that you want to search"
   ]
  },
  {
   "cell_type": "code",
   "execution_count": 25,
   "metadata": {
    "collapsed": true
   },
   "outputs": [],
   "source": [
    "from astroquery.utils.tap.core import TapPlus\n",
    "import requests\n",
    "from io import BytesIO\n",
    "from astropy.table import Table"
   ]
  },
  {
   "cell_type": "markdown",
   "metadata": {},
   "source": [
    "## IRSA Table Access Protocol Base URL"
   ]
  },
  {
   "cell_type": "code",
   "execution_count": 26,
   "metadata": {
    "collapsed": true
   },
   "outputs": [],
   "source": [
    "irsa_base_url = 'https://irsa.ipac.caltech.edu/TAP/sync?'"
   ]
  },
  {
   "cell_type": "markdown",
   "metadata": {},
   "source": [
    "## Form a URL that will return a list of available tables"
   ]
  },
  {
   "cell_type": "code",
   "execution_count": 33,
   "metadata": {
    "collapsed": false
   },
   "outputs": [],
   "source": [
    "table_list_url = irsa_base_url+'QUERY=SELECT+*+FROM+TAP_SCHEMA.tables&FORMAT=FITS'"
   ]
  },
  {
   "cell_type": "code",
   "execution_count": 34,
   "metadata": {
    "collapsed": false
   },
   "outputs": [
    {
     "data": {
      "text/plain": [
       "'https://irsa.ipac.caltech.edu/TAP/sync?QUERY=SELECT+*+FROM+TAP_SCHEMA.tables&FORMAT=FITS'"
      ]
     },
     "execution_count": 34,
     "metadata": {},
     "output_type": "execute_result"
    }
   ],
   "source": [
    "table_list_url"
   ]
  },
  {
   "cell_type": "markdown",
   "metadata": {},
   "source": [
    "## Query IRSA for the list of available tables"
   ]
  },
  {
   "cell_type": "code",
   "execution_count": 35,
   "metadata": {
    "collapsed": false
   },
   "outputs": [],
   "source": [
    "r = requests.get(table_list_url)"
   ]
  },
  {
   "cell_type": "code",
   "execution_count": 36,
   "metadata": {
    "collapsed": false
   },
   "outputs": [
    {
     "data": {
      "text/plain": [
       "200"
      ]
     },
     "execution_count": 36,
     "metadata": {},
     "output_type": "execute_result"
    }
   ],
   "source": [
    "r.status_code"
   ]
  },
  {
   "cell_type": "code",
   "execution_count": 37,
   "metadata": {
    "collapsed": false
   },
   "outputs": [],
   "source": [
    "table = Table.read(BytesIO(r.content), hdu=1)"
   ]
  },
  {
   "cell_type": "markdown",
   "metadata": {},
   "source": [
    "## Explore the list of available tables"
   ]
  },
  {
   "cell_type": "code",
   "execution_count": 38,
   "metadata": {
    "collapsed": false
   },
   "outputs": [
    {
     "name": "stderr",
     "output_type": "stream",
     "text": [
      "/Users/desai/anaconda/lib/python3.5/site-packages/astropy/table/column.py:268: FutureWarning: elementwise comparison failed; returning scalar instead, but in the future will perform elementwise comparison\n",
      "  return self.data.__eq__(other)\n"
     ]
    },
    {
     "data": {
      "text/plain": [
       "<Table length=734>\n",
       "        name        dtype  shape\n",
       "------------------- ------ -----\n",
       "null_bitfield_flags  uint8  (2,)\n",
       "        table_index  int64      \n",
       "        schema_name  str44      \n",
       "         table_name  str43      \n",
       "         table_type  str12      \n",
       "        description str303      \n",
       "              utype   str7      \n",
       "          irsa_dbms  str11      \n",
       "           irsa_pos  str10      \n",
       "               cntr  int64      "
      ]
     },
     "execution_count": 38,
     "metadata": {},
     "output_type": "execute_result"
    }
   ],
   "source": [
    "table.info"
   ]
  },
  {
   "cell_type": "code",
   "execution_count": 47,
   "metadata": {
    "collapsed": false
   },
   "outputs": [
    {
     "data": {
      "text/html": [
       "&lt;Table length=734&gt;\n",
       "<table id=\"table4594448872\">\n",
       "<thead><tr><th>schema_name</th><th>description</th><th>table_name</th></tr></thead>\n",
       "<thead><tr><th>str44</th><th>str303</th><th>str43</th></tr></thead>\n",
       "<tr><td>public</td><td>SDWFS Aug &apos;09 DR1.1 IRAC 8.0um-Selected 3x30sec Coadd, epoch 4 (Mar &apos;08)</td><td>sdwfs_ch4_epoch4</td></tr>\n",
       "<tr><td>spitzer</td><td>SDWFS Light Curve Catalog</td><td>sdwfs_lcurve</td></tr>\n",
       "<tr><td>spitzer</td><td>SDWFS Variability Catalog</td><td>sdwfs_var</td></tr>\n",
       "<tr><td>spitzer</td><td>Spitzer SDWFS Combined Image Metadata</td><td>spitzer.sdwfs_combined</td></tr>\n",
       "<tr><td>spitzer</td><td>Spitzer SDWFS Epoch1 Image Metadata</td><td>spitzer.sdwfs_epoch1</td></tr>\n",
       "<tr><td>spitzer</td><td>Spitzer SDWFS Epoch2 Image Metadata</td><td>spitzer.sdwfs_epoch2</td></tr>\n",
       "<tr><td>spitzer</td><td>Spitzer SDWFS Epoch3 Image Metadata</td><td>spitzer.sdwfs_epoch3</td></tr>\n",
       "<tr><td>spitzer</td><td>Spitzer SDWFS Epoch4 Image Metadata</td><td>spitzer.sdwfs_epoch4</td></tr>\n",
       "<tr><td>spitzer</td><td>SEP MIPS 24 micron Point Source Catalog</td><td>sepm24</td></tr>\n",
       "<tr><td>spitzer</td><td>SEP MIPS 70 micron Point Source Catalog</td><td>sepm70</td></tr>\n",
       "<tr><td>...</td><td>...</td><td>...</td></tr>\n",
       "<tr><td>ztf</td><td>ZTF Calibration Metadata Table</td><td>ztf.ztf_current_meta_cal</td></tr>\n",
       "<tr><td>planck</td><td>The Planck Public Data Release 2 Time Ordered Information (LFI 30 GHz)</td><td>planck_toi_030</td></tr>\n",
       "<tr><td>planck</td><td>The Planck Public Data Release 2 Time Ordered Information (LFI 44 GHz)</td><td>planck_toi_044</td></tr>\n",
       "<tr><td>planck</td><td>The Planck Public Data Release 2 Time Ordered Information (LFI 70 GHz)</td><td>planck_toi_070</td></tr>\n",
       "<tr><td>planck</td><td>The Planck Public Data Release 2 Time Ordered Information (HFI 100 GHz)</td><td>planck_toi_100</td></tr>\n",
       "<tr><td>planck</td><td>The Planck Public Data Release 2 Time Ordered Information (HFI 143 GHz)</td><td>planck_toi_143</td></tr>\n",
       "<tr><td>planck</td><td>The Planck Public Data Release 2 Time Ordered Information (HFI 217 GHz)</td><td>planck_toi_217</td></tr>\n",
       "<tr><td>planck</td><td>The Planck Public Data Release 2 Time Ordered Information (HFI 353 GHz)</td><td>planck_toi_353</td></tr>\n",
       "<tr><td>planck</td><td>The Planck Public Data Release 2 Time Ordered Information (HFI 545 GHz)</td><td>planck_toi_545</td></tr>\n",
       "<tr><td>planck</td><td>The Planck Public Data Release 2 Time Ordered Information (HFI 857 GHz)</td><td>planck_toi_857</td></tr>\n",
       "</table>"
      ],
      "text/plain": [
       "<Table length=734>\n",
       "                schema_name                  ...\n",
       "                   str44                     ...\n",
       "-------------------------------------------- ...\n",
       "public                                       ...\n",
       "spitzer                                      ...\n",
       "spitzer                                      ...\n",
       "spitzer                                      ...\n",
       "spitzer                                      ...\n",
       "spitzer                                      ...\n",
       "spitzer                                      ...\n",
       "spitzer                                      ...\n",
       "spitzer                                      ...\n",
       "spitzer                                      ...\n",
       "                                         ... ...\n",
       "ztf                                          ...\n",
       "planck                                       ...\n",
       "planck                                       ...\n",
       "planck                                       ...\n",
       "planck                                       ...\n",
       "planck                                       ...\n",
       "planck                                       ...\n",
       "planck                                       ...\n",
       "planck                                       ...\n",
       "planck                                       ..."
      ]
     },
     "execution_count": 47,
     "metadata": {},
     "output_type": "execute_result"
    }
   ],
   "source": [
    "table['schema_name', 'description', 'table_name']"
   ]
  },
  {
   "cell_type": "markdown",
   "metadata": {},
   "source": [
    "## Zero in on the AllWISE tables"
   ]
  },
  {
   "cell_type": "code",
   "execution_count": 57,
   "metadata": {
    "collapsed": false
   },
   "outputs": [],
   "source": [
    "index = table['schema_name'] == 'wise_allwise                                '"
   ]
  },
  {
   "cell_type": "code",
   "execution_count": 64,
   "metadata": {
    "collapsed": false
   },
   "outputs": [
    {
     "data": {
      "text/html": [
       "&lt;Table length=7&gt;\n",
       "<table id=\"table4564185440\">\n",
       "<thead><tr><th>description</th><th>table_name</th></tr></thead>\n",
       "<thead><tr><th>str303</th><th>str43</th></tr></thead>\n",
       "<tr><td>AllWISE Source Catalog</td><td>allwise_p3as_psd</td></tr>\n",
       "<tr><td>AllWISE Multiepoch Photometry Table</td><td>allwise_p3as_mep</td></tr>\n",
       "<tr><td>AllWISE Reject Table</td><td>allwise_p3as_psr</td></tr>\n",
       "<tr><td>AllWISE Atlas Metadata Table</td><td>allwise_p3as_cdd</td></tr>\n",
       "<tr><td>AllWISE Frame Cross-Reference Table</td><td>allwise_p3am_xrf</td></tr>\n",
       "<tr><td>AllWISE Atlas Inventory Table</td><td>allwise_p3al_lod</td></tr>\n",
       "<tr><td>AllWISE Atlas Image Inventory Table</td><td>allwise_p3am_cdd</td></tr>\n",
       "</table>"
      ],
      "text/plain": [
       "<Table length=7>\n",
       "                                                                                                                                                  description                                                                                                                                                   ...\n",
       "                                                                                                                                                     str303                                                                                                                                                     ...\n",
       "--------------------------------------------------------------------------------------------------------------------------------------------------------------------------------------------------------------------------------------------------------------------------------------------------------------- ...\n",
       "AllWISE Source Catalog                                                                                                                                                                                                                                                                                          ...\n",
       "AllWISE Multiepoch Photometry Table                                                                                                                                                                                                                                                                             ...\n",
       "AllWISE Reject Table                                                                                                                                                                                                                                                                                            ...\n",
       "AllWISE Atlas Metadata Table                                                                                                                                                                                                                                                                                    ...\n",
       "AllWISE Frame Cross-Reference Table                                                                                                                                                                                                                                                                             ...\n",
       "AllWISE Atlas Inventory Table                                                                                                                                                                                                                                                                                   ...\n",
       "AllWISE Atlas Image Inventory Table                                                                                                                                                                                                                                                                             ..."
      ]
     },
     "execution_count": 64,
     "metadata": {},
     "output_type": "execute_result"
    }
   ],
   "source": [
    "table['description', 'table_name'][index]"
   ]
  },
  {
   "cell_type": "markdown",
   "metadata": {},
   "source": [
    "## Isolate the AllWISE Source Catalog"
   ]
  },
  {
   "cell_type": "code",
   "execution_count": 76,
   "metadata": {
    "collapsed": true
   },
   "outputs": [],
   "source": [
    "table_name = 'allwise_p3as_psd                           '"
   ]
  },
  {
   "cell_type": "code",
   "execution_count": 77,
   "metadata": {
    "collapsed": true
   },
   "outputs": [],
   "source": [
    "index = table['table_name'] == table_name"
   ]
  },
  {
   "cell_type": "code",
   "execution_count": 78,
   "metadata": {
    "collapsed": false
   },
   "outputs": [
    {
     "data": {
      "text/html": [
       "&lt;Table length=1&gt;\n",
       "<table id=\"table4563570080\">\n",
       "<thead><tr><th>null_bitfield_flags [2]</th><th>table_index</th><th>schema_name</th><th>table_name</th><th>table_type</th><th>description</th><th>utype</th><th>irsa_dbms</th><th>irsa_pos</th><th>cntr</th></tr></thead>\n",
       "<thead><tr><th>uint8</th><th>int64</th><th>str44</th><th>str43</th><th>str12</th><th>str303</th><th>str7</th><th>str11</th><th>str10</th><th>int64</th></tr></thead>\n",
       "<tr><td>4 .. 0</td><td>1</td><td>wise_allwise</td><td>allwise_p3as_psd</td><td>table</td><td>AllWISE Source Catalog</td><td></td><td>ORACLE</td><td>y</td><td>1</td></tr>\n",
       "</table>"
      ],
      "text/plain": [
       "<Table length=1>\n",
       "null_bitfield_flags [2] table_index ...  irsa_pos   cntr\n",
       "         uint8             int64    ...   str10    int64\n",
       "----------------------- ----------- ... ---------- -----\n",
       "                 4 .. 0           1 ... y              1"
      ]
     },
     "execution_count": 78,
     "metadata": {},
     "output_type": "execute_result"
    }
   ],
   "source": [
    "table[index]"
   ]
  }
 ],
 "metadata": {
  "kernelspec": {
   "display_name": "Python 3",
   "language": "python",
   "name": "python3"
  },
  "language_info": {
   "codemirror_mode": {
    "name": "ipython",
    "version": 3
   },
   "file_extension": ".py",
   "mimetype": "text/x-python",
   "name": "python",
   "nbconvert_exporter": "python",
   "pygments_lexer": "ipython3",
   "version": "3.5.1"
  }
 },
 "nbformat": 4,
 "nbformat_minor": 2
}
