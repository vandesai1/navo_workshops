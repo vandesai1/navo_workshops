{
 "cells": [
  {
   "cell_type": "markdown",
   "metadata": {},
   "source": [
    "# IRSA AllWISE Example (SIA2)"
   ]
  },
  {
   "cell_type": "code",
   "execution_count": 116,
   "metadata": {
    "collapsed": false
   },
   "outputs": [],
   "source": [
    "import requests #allows you to send URL requests\n",
    "from io import BytesIO\n",
    "from astropy.table import Table\n",
    "import firefly_client #https://firefly-client.lsst.io/v/DM-10984-user-guide/index.html"
   ]
  },
  {
   "cell_type": "markdown",
   "metadata": {},
   "source": [
    "Send a URL request to IRSA."
   ]
  },
  {
   "cell_type": "code",
   "execution_count": 179,
   "metadata": {
    "collapsed": true
   },
   "outputs": [],
   "source": [
    "import requests\n",
    "r = requests.get(\"https://irsa.ipac.caltech.edu/SIA?COLLECTION=wise_allwise\" + \n",
    "                       \"&POS=circle+-164.7+-5.8+0.002777&RESPONSEFORMAT=fits\")"
   ]
  },
  {
   "cell_type": "markdown",
   "metadata": {},
   "source": [
    "Make sure it returned successfully."
   ]
  },
  {
   "cell_type": "code",
   "execution_count": 150,
   "metadata": {
    "collapsed": false
   },
   "outputs": [
    {
     "data": {
      "text/plain": [
       "200"
      ]
     },
     "execution_count": 150,
     "metadata": {},
     "output_type": "execute_result"
    }
   ],
   "source": [
    "r.status_code"
   ]
  },
  {
   "cell_type": "markdown",
   "metadata": {},
   "source": [
    "Put the results in an astropy table. See some documentation here:\n",
    "http://docs.astropy.org/en/stable/table/access_table.html"
   ]
  },
  {
   "cell_type": "code",
   "execution_count": 151,
   "metadata": {
    "collapsed": true
   },
   "outputs": [],
   "source": [
    "table = Table.read(BytesIO(r.content), hdu=1)"
   ]
  },
  {
   "cell_type": "markdown",
   "metadata": {},
   "source": [
    "Give me some basic info about the table that was returned."
   ]
  },
  {
   "cell_type": "code",
   "execution_count": 182,
   "metadata": {
    "collapsed": false
   },
   "outputs": [
    {
     "name": "stderr",
     "output_type": "stream",
     "text": [
      "/Users/desai/anaconda/lib/python3.5/site-packages/astropy/table/column.py:268: FutureWarning: elementwise comparison failed; returning scalar instead, but in the future will perform elementwise comparison\n",
      "  return self.data.__eq__(other)\n"
     ]
    },
    {
     "data": {
      "text/plain": [
       "<Table length=27>\n",
       "           name            dtype  shape  unit n_bad\n",
       "------------------------- ------- ----- ----- -----\n",
       "      null_bitfield_flags   uint8  (6,)           0\n",
       "                 s_region  str181         deg     0\n",
       "           obs_collection   str12                 0\n",
       "               obs_intent    str7                 0\n",
       "           algorithm_name    str6                 0\n",
       "           telescope_name    str4                 0\n",
       "       telescope_keywords    str1                 0\n",
       "          instrument_name    str4                 0\n",
       "      instrument_keywords    str1                 0\n",
       "  environment_photometric    bool                 0\n",
       "              proposal_id    str1                 0\n",
       "              proposal_pi   str16                 0\n",
       "         proposal_project    str4                 0\n",
       "           proposal_title   str58                 0\n",
       "              target_name    str1                 0\n",
       "              target_type    str5                 0\n",
       "          target_standard    bool                 0\n",
       "            target_moving    bool                 0\n",
       "          target_keywords    str1                 0\n",
       "              calib_level   int16                 0\n",
       "         dataproduct_type    str5                 0\n",
       "position_dimension_naxis1   int64                 0\n",
       "position_dimension_naxis2   int64                 0\n",
       "      position_samplesize float64         deg     0\n",
       "   position_timedependent    bool                 0\n",
       "            energy_emband    str8                 0\n",
       "      energy_bandpassname    str2                 0\n",
       "                    t_min float64           d     0\n",
       "                    t_max float64           d     0\n",
       "                t_exptime float64           s     0\n",
       "             t_resolution float64           s    27\n",
       "               access_url  str113                 0\n",
       "            access_format   str18                 0\n",
       "           access_estsize   int64       kbyte     0\n",
       "                   obs_id   str36                 0\n",
       "        obs_publisher_did   str42                 0\n",
       "                     s_ra float64         deg     0\n",
       "                    s_dec float64         deg     0\n",
       "                    s_fov float64         deg     0\n",
       "             s_resolution float64         deg     0\n",
       "                   em_min float64           m     0\n",
       "                   em_max float64           m     0\n",
       "             em_res_power float64                27\n",
       "                    o_ucd    str1                 0"
      ]
     },
     "execution_count": 182,
     "metadata": {},
     "output_type": "execute_result"
    }
   ],
   "source": [
    "table.info"
   ]
  },
  {
   "cell_type": "code",
   "execution_count": 184,
   "metadata": {
    "collapsed": false
   },
   "outputs": [
    {
     "name": "stdout",
     "output_type": "stream",
     "text": [
      "    s_ra      s_dec   energy_bandpassname   access_format   \n",
      "    deg        deg                                          \n",
      "----------- --------- ------------------- ------------------\n",
      "-164.049907 -6.057778                  W3 application/x-gzip\n",
      "-164.049907 -6.057778                  W3 image/fits        \n",
      "-164.049907 -6.057778                  W3 text/plain        \n",
      "-164.049907 -6.057778                  W3 text/plain        \n",
      "-164.049907 -6.057778                  W3 application/x-gzip\n",
      "-164.049907 -6.057778                  W3 text/plain        \n",
      "-164.049907 -6.057778                  W3 text/plain        \n",
      "-164.049907 -6.057778                  W1 text/plain        \n",
      "-164.049907 -6.057778                  W1 text/plain        \n",
      "-164.049907 -6.057778                  W1 image/fits        \n",
      "        ...       ...                 ...                ...\n",
      "-164.049907 -6.057778                  W2 application/x-gzip\n",
      "-164.049907 -6.057778                  W2 application/x-gzip\n",
      "-164.049907 -6.057778                  W2 image/fits        \n",
      "-164.049907 -6.057778                  W2 text/plain        \n",
      "-164.049907 -6.057778                  W2 text/plain        \n",
      "-164.049907 -6.057778                  W4 text/plain        \n",
      "-164.049907 -6.057778                  W4 application/x-gzip\n",
      "-164.049907 -6.057778                  W4 image/fits        \n",
      "-164.049907 -6.057778                  W4 application/x-gzip\n",
      "-164.049907 -6.057778                  W4 text/plain        \n",
      "Length = 27 rows\n"
     ]
    }
   ],
   "source": [
    "print(table['s_ra', 's_dec', 'energy_bandpassname', 'access_format'])"
   ]
  },
  {
   "cell_type": "code",
   "execution_count": 165,
   "metadata": {
    "collapsed": false
   },
   "outputs": [],
   "source": [
    "index = table['energy_bandpassname'] == 'W1'"
   ]
  },
  {
   "cell_type": "code",
   "execution_count": 177,
   "metadata": {
    "collapsed": false
   },
   "outputs": [
    {
     "data": {
      "text/plain": [
       "array(['application/x-gzip', 'image/fits        ', 'text/plain        ',\n",
       "       'text/plain        ', 'application/x-gzip', 'text/plain        ',\n",
       "       'text/plain        ', 'text/plain        ', 'text/plain        ',\n",
       "       'image/fits        ', 'text/plain        ', 'application/x-gzip',\n",
       "       'application/x-gzip', 'text/plain        ', 'text/plain        ',\n",
       "       'text/plain        ', 'text/plain        ', 'application/x-gzip',\n",
       "       'application/x-gzip', 'image/fits        ', 'text/plain        ',\n",
       "       'text/plain        ', 'text/plain        ', 'application/x-gzip',\n",
       "       'image/fits        ', 'application/x-gzip', 'text/plain        '], \n",
       "      dtype='<U18')"
      ]
     },
     "execution_count": 177,
     "metadata": {},
     "output_type": "execute_result"
    }
   ],
   "source": [
    "table['access_format'].data"
   ]
  },
  {
   "cell_type": "code",
   "execution_count": null,
   "metadata": {
    "collapsed": true
   },
   "outputs": [],
   "source": []
  },
  {
   "cell_type": "code",
   "execution_count": null,
   "metadata": {
    "collapsed": true
   },
   "outputs": [],
   "source": []
  },
  {
   "cell_type": "code",
   "execution_count": 178,
   "metadata": {
    "collapsed": false
   },
   "outputs": [
    {
     "ename": "AttributeError",
     "evalue": "'Column' object has no attribute 'startswith'",
     "output_type": "error",
     "traceback": [
      "\u001b[0;31m---------------------------------------------------------------------------\u001b[0m",
      "\u001b[0;31mAttributeError\u001b[0m                            Traceback (most recent call last)",
      "\u001b[0;32m<ipython-input-178-056bd4e0ae6d>\u001b[0m in \u001b[0;36m<module>\u001b[0;34m()\u001b[0m\n\u001b[0;32m----> 1\u001b[0;31m \u001b[0mindex2\u001b[0m \u001b[0;34m=\u001b[0m \u001b[0mtable\u001b[0m\u001b[0;34m[\u001b[0m\u001b[0;34m'access_format'\u001b[0m\u001b[0;34m]\u001b[0m\u001b[0;34m.\u001b[0m\u001b[0mstartswith\u001b[0m\u001b[0;34m(\u001b[0m\u001b[0;34m'image/fits'\u001b[0m\u001b[0;34m)\u001b[0m \u001b[0;31m#but there are spaces\u001b[0m\u001b[0;34m\u001b[0m\u001b[0m\n\u001b[0m",
      "\u001b[0;31mAttributeError\u001b[0m: 'Column' object has no attribute 'startswith'"
     ]
    }
   ],
   "source": [
    "index2 = table['access_format'].startswith('image/fits') #but there are spaces"
   ]
  },
  {
   "cell_type": "code",
   "execution_count": 171,
   "metadata": {
    "collapsed": false
   },
   "outputs": [
    {
     "data": {
      "text/plain": [
       "array([False, False, False, False, False, False, False, False, False,\n",
       "       False, False, False, False, False, False, False, False, False,\n",
       "       False, False, False, False, False, False, False, False, False], dtype=bool)"
      ]
     },
     "execution_count": 171,
     "metadata": {},
     "output_type": "execute_result"
    }
   ],
   "source": [
    "index2"
   ]
  },
  {
   "cell_type": "code",
   "execution_count": 137,
   "metadata": {
    "collapsed": false
   },
   "outputs": [],
   "source": [
    "newtable = table[index]"
   ]
  },
  {
   "cell_type": "code",
   "execution_count": 138,
   "metadata": {
    "collapsed": false,
    "scrolled": true
   },
   "outputs": [],
   "source": [
    "table = newtable"
   ]
  },
  {
   "cell_type": "code",
   "execution_count": 139,
   "metadata": {
    "collapsed": false
   },
   "outputs": [
    {
     "data": {
      "text/html": [
       "&lt;Table length=0&gt;\n",
       "<table id=\"table4553287888\">\n",
       "<thead><tr><th>null_bitfield_flags [6]</th><th>s_region</th><th>obs_collection</th><th>obs_intent</th><th>algorithm_name</th><th>telescope_name</th><th>telescope_keywords</th><th>instrument_name</th><th>instrument_keywords</th><th>environment_photometric</th><th>proposal_id</th><th>proposal_pi</th><th>proposal_project</th><th>proposal_title</th><th>target_name</th><th>target_type</th><th>target_standard</th><th>target_moving</th><th>target_keywords</th><th>calib_level</th><th>dataproduct_type</th><th>position_dimension_naxis1</th><th>position_dimension_naxis2</th><th>position_samplesize</th><th>position_timedependent</th><th>energy_emband</th><th>energy_bandpassname</th><th>t_min</th><th>t_max</th><th>t_exptime</th><th>t_resolution</th><th>access_url</th><th>access_format</th><th>access_estsize</th><th>obs_id</th><th>obs_publisher_did</th><th>s_ra</th><th>s_dec</th><th>s_fov</th><th>s_resolution</th><th>em_min</th><th>em_max</th><th>em_res_power</th><th>o_ucd</th></tr></thead>\n",
       "<thead><tr><th></th><th>deg</th><th></th><th></th><th></th><th></th><th></th><th></th><th></th><th></th><th></th><th></th><th></th><th></th><th></th><th></th><th></th><th></th><th></th><th></th><th></th><th></th><th></th><th>deg</th><th></th><th></th><th></th><th>d</th><th>d</th><th>s</th><th>s</th><th></th><th></th><th>kbyte</th><th></th><th></th><th>deg</th><th>deg</th><th>deg</th><th>deg</th><th>m</th><th>m</th><th></th><th></th></tr></thead>\n",
       "<thead><tr><th>uint8</th><th>str181</th><th>str12</th><th>str7</th><th>str6</th><th>str4</th><th>str1</th><th>str4</th><th>str1</th><th>bool</th><th>str1</th><th>str16</th><th>str4</th><th>str58</th><th>str1</th><th>str5</th><th>bool</th><th>bool</th><th>str1</th><th>int16</th><th>str5</th><th>int64</th><th>int64</th><th>float64</th><th>bool</th><th>str8</th><th>str2</th><th>float64</th><th>float64</th><th>float64</th><th>float64</th><th>str113</th><th>str18</th><th>int64</th><th>str36</th><th>str42</th><th>float64</th><th>float64</th><th>float64</th><th>float64</th><th>float64</th><th>float64</th><th>float64</th><th>str1</th></tr></thead>\n",
       "</table>"
      ],
      "text/plain": [
       "<Table length=0>\n",
       "null_bitfield_flags [6] s_region obs_collection ...  em_max em_res_power o_ucd\n",
       "                          deg                   ...    m                      \n",
       "         uint8           str181      str12      ... float64   float64     str1\n",
       "----------------------- -------- -------------- ... ------- ------------ -----"
      ]
     },
     "execution_count": 139,
     "metadata": {},
     "output_type": "execute_result"
    }
   ],
   "source": [
    "table"
   ]
  },
  {
   "cell_type": "code",
   "execution_count": 102,
   "metadata": {
    "collapsed": true
   },
   "outputs": [],
   "source": [
    "from firefly_client import FireflyClient\n",
    "fc = FireflyClient('irsa.ipac.caltech.edu:80', basedir='irsaviewer')"
   ]
  },
  {
   "cell_type": "code",
   "execution_count": 103,
   "metadata": {
    "collapsed": false
   },
   "outputs": [
    {
     "data": {
      "text/plain": [
       "'http://irsa.ipac.caltech.edu:80/irsaviewer?__wsch=6ca4c8e6-2eaa-4d79-bb79-d7f83a966eac'"
      ]
     },
     "execution_count": 103,
     "metadata": {},
     "output_type": "execute_result"
    }
   ],
   "source": [
    "fc.get_firefly_url('full')"
   ]
  },
  {
   "cell_type": "markdown",
   "metadata": {},
   "source": [
    "Write file.\n",
    "Upload file."
   ]
  },
  {
   "cell_type": "code",
   "execution_count": 108,
   "metadata": {
    "collapsed": false
   },
   "outputs": [],
   "source": [
    "table.write('interacting_galaxies_ipac.tbl', format='ipac')"
   ]
  },
  {
   "cell_type": "code",
   "execution_count": 109,
   "metadata": {
    "collapsed": true
   },
   "outputs": [],
   "source": [
    "tval = fc.upload_file('interacting_galaxies_ipac.tbl')"
   ]
  },
  {
   "cell_type": "code",
   "execution_count": 110,
   "metadata": {
    "collapsed": false
   },
   "outputs": [
    {
     "data": {
      "text/plain": [
       "{'success': True}"
      ]
     },
     "execution_count": 110,
     "metadata": {},
     "output_type": "execute_result"
    }
   ],
   "source": [
    "fc.show_table(tval, meta={'datasource':'access_url'}, tbl_id = 'access_url') #test this in Firefox. works in chrome and safari"
   ]
  },
  {
   "cell_type": "code",
   "execution_count": 78,
   "metadata": {
    "collapsed": true
   },
   "outputs": [],
   "source": []
  },
  {
   "cell_type": "code",
   "execution_count": 79,
   "metadata": {
    "collapsed": true
   },
   "outputs": [],
   "source": []
  },
  {
   "cell_type": "code",
   "execution_count": 80,
   "metadata": {
    "collapsed": true
   },
   "outputs": [],
   "source": []
  },
  {
   "cell_type": "code",
   "execution_count": 81,
   "metadata": {
    "collapsed": true
   },
   "outputs": [],
   "source": []
  },
  {
   "cell_type": "code",
   "execution_count": 82,
   "metadata": {
    "collapsed": true
   },
   "outputs": [],
   "source": []
  },
  {
   "cell_type": "code",
   "execution_count": 83,
   "metadata": {
    "collapsed": false
   },
   "outputs": [
    {
     "data": {
      "text/plain": [
       "{'success': True}"
      ]
     },
     "execution_count": 83,
     "metadata": {},
     "output_type": "execute_result"
    }
   ],
   "source": []
  },
  {
   "cell_type": "code",
   "execution_count": null,
   "metadata": {
    "collapsed": true
   },
   "outputs": [],
   "source": []
  }
 ],
 "metadata": {
  "kernelspec": {
   "display_name": "Python 3",
   "language": "python",
   "name": "python3"
  },
  "language_info": {
   "codemirror_mode": {
    "name": "ipython",
    "version": 3
   },
   "file_extension": ".py",
   "mimetype": "text/x-python",
   "name": "python",
   "nbconvert_exporter": "python",
   "pygments_lexer": "ipython3",
   "version": "3.5.1"
  }
 },
 "nbformat": 4,
 "nbformat_minor": 2
}
