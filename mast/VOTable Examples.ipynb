{
 "cells": [
  {
   "cell_type": "markdown",
   "metadata": {},
   "source": [
    "# Initialization"
   ]
  },
  {
   "cell_type": "code",
   "execution_count": 1,
   "metadata": {
    "collapsed": true
   },
   "outputs": [],
   "source": [
    "#\n",
    "# Imports\n",
    "#\n",
    "\n",
    "import requests\n",
    "import io\n",
    "from astropy.table import Table\n",
    "\n",
    "# There are a number of relatively unimportant warnings that \n",
    "# show up, so for now, suppress them:\n",
    "import warnings\n",
    "warnings.filterwarnings(\"ignore\")\n",
    "\n",
    "# \n",
    "# Convenience functions\n",
    "# \n",
    "\n",
    "def aptable_from_votable_response(response):\n",
    "    \"\"\"\n",
    "    Takes a VOTABLE response from a web service and returns an astropy table.\n",
    "    \n",
    "    Parameters\n",
    "    ----------\n",
    "    response : requests.Response\n",
    "        Response whose contents are assumed to be a VOTABLE.\n",
    "        \n",
    "    Returns\n",
    "    -------\n",
    "    aptable : astropy.table.Table\n",
    "        Astropy Table containing the data from the first TABLE in the VOTABLE.\n",
    "    \"\"\"\n",
    "    \n",
    "    # The astropy table reader would like a file-like object, so convert\n",
    "    # the response content a byte stream.  This assumes Python 3.x.\n",
    "    # \n",
    "    # (The reader also accepts just a string, but that seems to have two \n",
    "    # problems:  It looks for newlines to see if the string is itself a table,\n",
    "    # and we need to support unicode content.)\n",
    "    file_like_content = io.BytesIO(response.content)\n",
    "    \n",
    "    # The astropy table reader will auto-detect that the content is a VOTABLE\n",
    "    # and parse it appropriately.\n",
    "    aptable = Table.read(file_like_content)\n",
    "    return aptable\n"
   ]
  },
  {
   "cell_type": "markdown",
   "metadata": {},
   "source": [
    "# Examples\n",
    "## TAP Query from HEASARC\n",
    "Here, we will use a HEASARC catalog called 'zcat' that has columns including RA, DEC, and Bmag. The selection criteria match a single source.  "
   ]
  },
  {
   "cell_type": "code",
   "execution_count": 2,
   "metadata": {
    "scrolled": true
   },
   "outputs": [
    {
     "data": {
      "text/html": [
       "&lt;Table masked=True length=1&gt;\n",
       "<table id=\"table4458995272\" class=\"table-striped table-bordered table-condensed\">\n",
       "<thead><tr><th>__row</th><th>name</th><th>ra</th><th>dec</th><th>lii</th><th>bii</th><th>bmag</th><th>radial_velocity</th><th>radial_velocity_error</th><th>ref_bmag</th><th>ref_radial_velocity</th><th>morph_type</th><th>bar_type</th><th>luminosity_class</th><th>structure</th><th>diameter_1</th><th>diameter_2</th><th>bt_mag</th><th>ugc_or_eso</th><th>distance</th><th>rfn_number</th><th>comments</th><th>redshift</th><th>ref_redshift</th><th>notes</th><th>class</th><th>__x_ra_dec</th><th>__y_ra_dec</th><th>__z_ra_dec</th></tr></thead>\n",
       "<thead><tr><th>int32</th><th>object</th><th>float64</th><th>float64</th><th>float64</th><th>float64</th><th>float32</th><th>int32</th><th>int32</th><th>object</th><th>int32</th><th>int32</th><th>object</th><th>int32</th><th>object</th><th>float64</th><th>float64</th><th>float64</th><th>object</th><th>float64</th><th>object</th><th>object</th><th>float64</th><th>int32</th><th>object</th><th>int32</th><th>float64</th><th>float64</th><th>float64</th></tr></thead>\n",
       "<tr><td>44890</td><td>N4676A</td><td>191.54198643000001</td><td>30.732265689999998</td><td>140.35832761</td><td>86.216130669999998</td><td>15.0</td><td>6651</td><td>50</td><td>H</td><td>2712</td><td>20</td><td></td><td>-1</td><td>P</td><td>2.2000000000000002</td><td>0.34999999999999998</td><td>--</td><td>07938</td><td>--</td><td></td><td>VV224,I 819,Arp242</td><td>--</td><td>-1</td><td></td><td>6200</td><td>-0.17198682305215199</td><td>-0.84218280700419401</td><td>0.51102705631205503</td></tr>\n",
       "</table>"
      ],
      "text/plain": [
       "<Table masked=True length=1>\n",
       "__row  name          ra         ...      __y_ra_dec           __z_ra_dec    \n",
       "int32 object      float64       ...       float64              float64      \n",
       "----- ------ ------------------ ... -------------------- -------------------\n",
       "44890 N4676A 191.54198643000001 ... -0.84218280700419401 0.51102705631205503"
      ]
     },
     "execution_count": 2,
     "metadata": {},
     "output_type": "execute_result"
    }
   ],
   "source": [
    "tap_params = {\n",
    "    \"request\":\"doQuery\",\n",
    "    \"lang\":\"ADQL\",\n",
    "    \"query\":\n",
    "    \"\"\"SELECT * FROM zcat as cat where \n",
    "    cat.RA > 191. and cat.RA < 192 and cat.Dec > 30. and cat.Dec < 31 and cat.Bmag > 14.9\"\"\"\n",
    "    }\n",
    "response = requests.get('https://heasarc.gsfc.nasa.gov/xamin/vo/tap/sync', params=tap_params)\n",
    "\n",
    "# The aptable_from_votable_response call below is just an overly documented\n",
    "# wrapper for these two lines of code which do the same thing:\n",
    "##\n",
    "##    file_like_content = io.BytesIO(response.content)\n",
    "##    aptable = Table.read(file_like_content)\n",
    "\n",
    "aptable = aptable_from_votable_response(response)\n",
    "\n",
    "aptable\n"
   ]
  },
  {
   "cell_type": "markdown",
   "metadata": {},
   "source": [
    "## Finding SkyView SIA resources from the NAVO directory with TAP"
   ]
  },
  {
   "cell_type": "code",
   "execution_count": 3,
   "metadata": {},
   "outputs": [
    {
     "data": {
      "text/html": [
       "&lt;Table masked=True length=88&gt;\n",
       "<table id=\"table4448264992\" class=\"table-striped table-bordered table-condensed\">\n",
       "<thead><tr><th>short_name</th><th>ivoid</th><th>cap_type</th></tr></thead>\n",
       "<thead><tr><th>object</th><th>object</th><th>object</th></tr></thead>\n",
       "<tr><td>1420MHz</td><td>ivo://nasa.heasarc/skyview/1420mhz</td><td>simpleimageaccess</td></tr>\n",
       "<tr><td>2MASS</td><td>ivo://nasa.heasarc/skyview/2mass</td><td>simpleimageaccess</td></tr>\n",
       "<tr><td>408MHz</td><td>ivo://nasa.heasarc/skyview/408mhz</td><td>simpleimageaccess</td></tr>\n",
       "<tr><td>AKARI</td><td>ivo://nasa.heasarc/skyview/akari</td><td>simpleimageaccess</td></tr>\n",
       "<tr><td>ASCA</td><td>ivo://nasa.heasarc/ascamaster</td><td>simpleimageaccess</td></tr>\n",
       "<tr><td>ASCA/AGN</td><td>ivo://nasa.heasarc/tartarus</td><td>simpleimageaccess</td></tr>\n",
       "<tr><td>ASCASIS</td><td>ivo://nasa.heasarc/ascasis</td><td>simpleimageaccess</td></tr>\n",
       "<tr><td>BATSIG</td><td>ivo://nasa.heasarc/skyview/batsig</td><td>simpleimageaccess</td></tr>\n",
       "<tr><td>CDFS-LESS</td><td>ivo://nasa.heasarc/skyview/cdfs-less</td><td>simpleimageaccess</td></tr>\n",
       "<tr><td>Chandra</td><td>ivo://nasa.heasarc/chanmaster</td><td>simpleimageaccess</td></tr>\n",
       "<tr><td>...</td><td>...</td><td>...</td></tr>\n",
       "<tr><td>SwiftUVOT</td><td>ivo://nasa.heasarc/swiftuvlog</td><td>simpleimageaccess</td></tr>\n",
       "<tr><td>SwiftXRT</td><td>ivo://nasa.heasarc/swiftxrlog</td><td>simpleimageaccess</td></tr>\n",
       "<tr><td>TGSS</td><td>ivo://nasa.heasarc/skyview/tgss</td><td>simpleimageaccess</td></tr>\n",
       "<tr><td>UKIDSS</td><td>ivo://nasa.heasarc/skyview/ukidss</td><td>simpleimageaccess</td></tr>\n",
       "<tr><td>VLSS</td><td>ivo://nasa.heasarc/skyview/vlss</td><td>simpleimageaccess</td></tr>\n",
       "<tr><td>WENSS</td><td>ivo://nasa.heasarc/skyview/wenss</td><td>simpleimageaccess</td></tr>\n",
       "<tr><td>WFCF1</td><td>ivo://nasa.heasarc/skyview/wfcf1</td><td>simpleimageaccess</td></tr>\n",
       "<tr><td>Wise</td><td>ivo://nasa.heasarc/skyview/wise</td><td>simpleimageaccess</td></tr>\n",
       "<tr><td>WMAP</td><td>ivo://nasa.heasarc/skyview/wmap</td><td>simpleimageaccess</td></tr>\n",
       "<tr><td>XMM</td><td>ivo://nasa.heasarc/xmmmaster</td><td>simpleimageaccess</td></tr>\n",
       "</table>"
      ],
      "text/plain": [
       "<Table masked=True length=88>\n",
       "short_name                ivoid                      cap_type    \n",
       "  object                  object                      object     \n",
       "---------- ------------------------------------ -----------------\n",
       "   1420MHz   ivo://nasa.heasarc/skyview/1420mhz simpleimageaccess\n",
       "     2MASS     ivo://nasa.heasarc/skyview/2mass simpleimageaccess\n",
       "    408MHz    ivo://nasa.heasarc/skyview/408mhz simpleimageaccess\n",
       "     AKARI     ivo://nasa.heasarc/skyview/akari simpleimageaccess\n",
       "      ASCA        ivo://nasa.heasarc/ascamaster simpleimageaccess\n",
       "  ASCA/AGN          ivo://nasa.heasarc/tartarus simpleimageaccess\n",
       "   ASCASIS           ivo://nasa.heasarc/ascasis simpleimageaccess\n",
       "    BATSIG    ivo://nasa.heasarc/skyview/batsig simpleimageaccess\n",
       " CDFS-LESS ivo://nasa.heasarc/skyview/cdfs-less simpleimageaccess\n",
       "   Chandra        ivo://nasa.heasarc/chanmaster simpleimageaccess\n",
       "       ...                                  ...               ...\n",
       " SwiftUVOT        ivo://nasa.heasarc/swiftuvlog simpleimageaccess\n",
       "  SwiftXRT        ivo://nasa.heasarc/swiftxrlog simpleimageaccess\n",
       "      TGSS      ivo://nasa.heasarc/skyview/tgss simpleimageaccess\n",
       "    UKIDSS    ivo://nasa.heasarc/skyview/ukidss simpleimageaccess\n",
       "      VLSS      ivo://nasa.heasarc/skyview/vlss simpleimageaccess\n",
       "     WENSS     ivo://nasa.heasarc/skyview/wenss simpleimageaccess\n",
       "     WFCF1     ivo://nasa.heasarc/skyview/wfcf1 simpleimageaccess\n",
       "      Wise      ivo://nasa.heasarc/skyview/wise simpleimageaccess\n",
       "      WMAP      ivo://nasa.heasarc/skyview/wmap simpleimageaccess\n",
       "       XMM         ivo://nasa.heasarc/xmmmaster simpleimageaccess"
      ]
     },
     "execution_count": 3,
     "metadata": {},
     "output_type": "execute_result"
    }
   ],
   "source": [
    "tap_params[\"query\"]=\"\"\"\n",
    "    select b.short_name,a.ivoid,a.cap_type from rr.capability a \n",
    "    natural join rr.resource b \n",
    "    where a.cap_type='simpleimageaccess' and a.ivoid like 'ivo://nasa.heasarc%' \n",
    "    order by short_name;\n",
    "    \"\"\"\n",
    "r = requests.post('http://vao.stsci.edu/RegTAP/TapService.aspx/sync', data=tap_params)\n",
    "\n",
    "aptable = aptable_from_votable_response(r)\n",
    "aptable\n"
   ]
  },
  {
   "cell_type": "markdown",
   "metadata": {},
   "source": [
    "## HLA SIA search around M61"
   ]
  },
  {
   "cell_type": "code",
   "execution_count": 4,
   "metadata": {},
   "outputs": [
    {
     "data": {
      "text/html": [
       "&lt;Table masked=True length=20&gt;\n",
       "<table id=\"table4461588432\" class=\"table-striped table-bordered table-condensed\">\n",
       "<thead><tr><th>Dataset</th><th>URL</th></tr></thead>\n",
       "<thead><tr><th>object</th><th>object</th></tr></thead>\n",
       "<tr><td>hst_05446_4d_wfpc2_f606w_wf</td><td>http://hla.stsci.edu/cgi-bin/getdata.cgi?config=ops&amp;amp;dataset=hst_05446_4d_wfpc2_f606w_wf</td></tr>\n",
       "<tr><td>hst_05446_4d_wfpc2_total_wf</td><td>http://hla.stsci.edu/cgi-bin/getdata.cgi?config=ops&amp;amp;dataset=hst_05446_4d_wfpc2_total_wf</td></tr>\n",
       "<tr><td>hst_06358_08_wfpc2_f218w_wf</td><td>http://hla.stsci.edu/cgi-bin/getdata.cgi?config=ops&amp;amp;dataset=hst_06358_08_wfpc2_f218w_wf</td></tr>\n",
       "<tr><td>hst_06358_08_wfpc2_total_wf</td><td>http://hla.stsci.edu/cgi-bin/getdata.cgi?config=ops&amp;amp;dataset=hst_06358_08_wfpc2_total_wf</td></tr>\n",
       "<tr><td>hst_09042_62_wfpc2_f450w_wf</td><td>http://hla.stsci.edu/cgi-bin/getdata.cgi?config=ops&amp;amp;dataset=hst_09042_62_wfpc2_f450w_wf</td></tr>\n",
       "<tr><td>hst_09042_62_wfpc2_f814w_wf</td><td>http://hla.stsci.edu/cgi-bin/getdata.cgi?config=ops&amp;amp;dataset=hst_09042_62_wfpc2_f814w_wf</td></tr>\n",
       "<tr><td>hst_09042_62_wfpc2_total_wf</td><td>http://hla.stsci.edu/cgi-bin/getdata.cgi?config=ops&amp;amp;dataset=hst_09042_62_wfpc2_total_wf</td></tr>\n",
       "<tr><td>hst_09042_62_wfpc2_f814w_f450w_wf</td><td>http://hla.stsci.edu/cgi-bin/fitscut.cgi?red=hst_09042_62_wfpc2_f814w_wf&amp;amp;blue=hst_09042_62_wfpc2_f450w_wf&amp;amp;size=ALL&amp;amp;format=fits&amp;amp;config=ops</td></tr>\n",
       "<tr><td>hst_12574_01_acs_wfc_f435w</td><td>http://hla.stsci.edu/cgi-bin/getdata.cgi?config=ops&amp;amp;dataset=hst_12574_01_acs_wfc_f435w</td></tr>\n",
       "<tr><td>hst_12574_01_acs_wfc_f814w</td><td>http://hla.stsci.edu/cgi-bin/getdata.cgi?config=ops&amp;amp;dataset=hst_12574_01_acs_wfc_f814w</td></tr>\n",
       "<tr><td>hst_12574_01_acs_wfc_total</td><td>http://hla.stsci.edu/cgi-bin/getdata.cgi?config=ops&amp;amp;dataset=hst_12574_01_acs_wfc_total</td></tr>\n",
       "<tr><td>hst_12574_01_acs_wfc_f814w_f435w</td><td>http://hla.stsci.edu/cgi-bin/fitscut.cgi?red=hst_12574_01_acs_wfc_f814w&amp;amp;blue=hst_12574_01_acs_wfc_f435w&amp;amp;size=ALL&amp;amp;format=fits&amp;amp;config=ops</td></tr>\n",
       "<tr><td>HST_7330_2u_NIC_NIC2_F160W</td><td>http://hla.stsci.edu/cgi-bin/getdata.cgi?config=ops&amp;amp;dataset=HST_7330_2u_NIC_NIC2_F160W</td></tr>\n",
       "<tr><td>HST_7330_2u_NIC_NIC2_total</td><td>http://hla.stsci.edu/cgi-bin/getdata.cgi?config=ops&amp;amp;dataset=HST_7330_2u_NIC_NIC2_total</td></tr>\n",
       "<tr><td>hst_9379_41_acs_hrc_f330w</td><td>http://hla.stsci.edu/cgi-bin/getdata.cgi?config=ops&amp;amp;dataset=hst_9379_41_acs_hrc_f330w</td></tr>\n",
       "<tr><td>hst_9379_41_acs_hrc_total</td><td>http://hla.stsci.edu/cgi-bin/getdata.cgi?config=ops&amp;amp;dataset=hst_9379_41_acs_hrc_total</td></tr>\n",
       "<tr><td>hst_9776_21_acs_hrc_f555w</td><td>http://hla.stsci.edu/cgi-bin/getdata.cgi?config=ops&amp;amp;dataset=hst_9776_21_acs_hrc_f555w</td></tr>\n",
       "<tr><td>hst_9776_21_acs_hrc_f814w</td><td>http://hla.stsci.edu/cgi-bin/getdata.cgi?config=ops&amp;amp;dataset=hst_9776_21_acs_hrc_f814w</td></tr>\n",
       "<tr><td>hst_9776_21_acs_hrc_total</td><td>http://hla.stsci.edu/cgi-bin/getdata.cgi?config=ops&amp;amp;dataset=hst_9776_21_acs_hrc_total</td></tr>\n",
       "<tr><td>hst_9776_21_acs_hrc_f814w_f555w</td><td>http://hla.stsci.edu/cgi-bin/fitscut.cgi?red=hst_9776_21_acs_hrc_f814w&amp;amp;blue=hst_9776_21_acs_hrc_f555w&amp;amp;size=ALL&amp;amp;format=fits&amp;amp;config=ops</td></tr>\n",
       "</table>"
      ],
      "text/plain": [
       "<Table masked=True length=20>\n",
       "             Dataset              ...\n",
       "              object              ...\n",
       "--------------------------------- ...\n",
       "      hst_05446_4d_wfpc2_f606w_wf ...\n",
       "      hst_05446_4d_wfpc2_total_wf ...\n",
       "      hst_06358_08_wfpc2_f218w_wf ...\n",
       "      hst_06358_08_wfpc2_total_wf ...\n",
       "      hst_09042_62_wfpc2_f450w_wf ...\n",
       "      hst_09042_62_wfpc2_f814w_wf ...\n",
       "      hst_09042_62_wfpc2_total_wf ...\n",
       "hst_09042_62_wfpc2_f814w_f450w_wf ...\n",
       "       hst_12574_01_acs_wfc_f435w ...\n",
       "       hst_12574_01_acs_wfc_f814w ...\n",
       "       hst_12574_01_acs_wfc_total ...\n",
       " hst_12574_01_acs_wfc_f814w_f435w ...\n",
       "       HST_7330_2u_NIC_NIC2_F160W ...\n",
       "       HST_7330_2u_NIC_NIC2_total ...\n",
       "        hst_9379_41_acs_hrc_f330w ...\n",
       "        hst_9379_41_acs_hrc_total ...\n",
       "        hst_9776_21_acs_hrc_f555w ...\n",
       "        hst_9776_21_acs_hrc_f814w ...\n",
       "        hst_9776_21_acs_hrc_total ...\n",
       "  hst_9776_21_acs_hrc_f814w_f555w ..."
      ]
     },
     "execution_count": 4,
     "metadata": {},
     "output_type": "execute_result"
    }
   ],
   "source": [
    "params = {\n",
    "    'POS': '185.47873,4.47365',\n",
    "    'SIZE': '0.001'\n",
    "}\n",
    "r = requests.get('http://hla.stsci.edu/cgi-bin/hlaSIAP.cgi?imagetype=best&inst=ACS,ACSGrism,WFC3,WFPC2,NICMOS,NICGRISM,COS,STIS,FOS,GHRS&proprietary=false&',\n",
    "                params=params)\n",
    "\n",
    "aptable = aptable_from_votable_response(r)\n",
    "aptable['Dataset','URL']"
   ]
  },
  {
   "cell_type": "markdown",
   "metadata": {},
   "source": [
    "## UCD Handling\n",
    "### Show the UCD for each Column"
   ]
  },
  {
   "cell_type": "code",
   "execution_count": 27,
   "metadata": {},
   "outputs": [
    {
     "data": {
      "text/html": [
       "&lt;Table length=33&gt;\n",
       "<table id=\"table4483231696\" class=\"table-striped table-bordered table-condensed\">\n",
       "<thead><tr><th>Column Name</th><th>UCD</th></tr></thead>\n",
       "<thead><tr><th>str14</th><th>str25</th></tr></thead>\n",
       "<tr><td>URL</td><td>VOX:Image_AccessReference</td></tr>\n",
       "<tr><td>RA</td><td>POS_EQ_RA_MAIN</td></tr>\n",
       "<tr><td>DEC</td><td>POS_EQ_DEC_MAIN</td></tr>\n",
       "<tr><td>Level</td><td>PRODUCT_LEVEL</td></tr>\n",
       "<tr><td>Target</td><td>TARGET_NAME</td></tr>\n",
       "<tr><td>Detector</td><td>INST_ID</td></tr>\n",
       "<tr><td>Aperture</td><td>INST_APERT</td></tr>\n",
       "<tr><td>Spectral_Elt</td><td>MAIN_FILTER</td></tr>\n",
       "<tr><td>NExposures</td><td>NUM_EXPOSURES</td></tr>\n",
       "<tr><td>ExpTime</td><td>EXPOSURE_TIME</td></tr>\n",
       "<tr><td>...</td><td>...</td></tr>\n",
       "<tr><td>NReleaseDate</td><td>TIME_EPOCH</td></tr>\n",
       "<tr><td>Title</td><td>VOX:Image_Title</td></tr>\n",
       "<tr><td>naxis</td><td>VOX:Image_Naxis</td></tr>\n",
       "<tr><td>scale</td><td>VOX:Image_Scale</td></tr>\n",
       "<tr><td>naxes</td><td>VOX:Image_Naxes</td></tr>\n",
       "<tr><td>crpix</td><td>VOX:WCS_CoordRefPixel</td></tr>\n",
       "<tr><td>crval</td><td>VOX:WCS_CoordRefValue</td></tr>\n",
       "<tr><td>cd_matrix</td><td>VOX:WCS_CDMatrix</td></tr>\n",
       "<tr><td>filename</td><td>None</td></tr>\n",
       "<tr><td>regionSTCS</td><td>None</td></tr>\n",
       "</table>"
      ],
      "text/plain": [
       "<Table length=33>\n",
       "Column Name             UCD           \n",
       "   str14               str25          \n",
       "------------ -------------------------\n",
       "         URL VOX:Image_AccessReference\n",
       "          RA            POS_EQ_RA_MAIN\n",
       "         DEC           POS_EQ_DEC_MAIN\n",
       "       Level             PRODUCT_LEVEL\n",
       "      Target               TARGET_NAME\n",
       "    Detector                   INST_ID\n",
       "    Aperture                INST_APERT\n",
       "Spectral_Elt               MAIN_FILTER\n",
       "  NExposures             NUM_EXPOSURES\n",
       "     ExpTime             EXPOSURE_TIME\n",
       "         ...                       ...\n",
       "NReleaseDate                TIME_EPOCH\n",
       "       Title           VOX:Image_Title\n",
       "       naxis           VOX:Image_Naxis\n",
       "       scale           VOX:Image_Scale\n",
       "       naxes           VOX:Image_Naxes\n",
       "       crpix     VOX:WCS_CoordRefPixel\n",
       "       crval     VOX:WCS_CoordRefValue\n",
       "   cd_matrix          VOX:WCS_CDMatrix\n",
       "    filename                      None\n",
       "  regionSTCS                      None"
      ]
     },
     "execution_count": 27,
     "metadata": {},
     "output_type": "execute_result"
    }
   ],
   "source": [
    "# If the VOTABLE FIELD has a UCD, it will be present in the metadata (key=='ucd')  \n",
    "# for the corresponding Column in the astropy Table.\n",
    "name_ucd = []\n",
    "for key in aptable.columns:\n",
    "    col = aptable.columns[key]\n",
    "    name = col.name\n",
    "    ucd = col.meta.get('ucd')\n",
    "    name_ucd.append([str(name), str(ucd)])\n",
    "\n",
    "name_ucd_table = Table(rows=name_ucd, names=('Column Name', 'UCD'))\n",
    "name_ucd_table"
   ]
  },
  {
   "cell_type": "markdown",
   "metadata": {},
   "source": [
    "### Find title image access URL columns by UCD from an SIA response"
   ]
  },
  {
   "cell_type": "code",
   "execution_count": 38,
   "metadata": {},
   "outputs": [
    {
     "data": {
      "text/html": [
       "&lt;Table masked=True length=20&gt;\n",
       "<table id=\"table4483330512\" class=\"table-striped table-bordered table-condensed\">\n",
       "<thead><tr><th>Title</th><th>URL</th></tr></thead>\n",
       "<thead><tr><th>object</th><th>object</th></tr></thead>\n",
       "<tr><td>05446_4d WFPC2 F606W (combined) NGC4303</td><td>http://hla.stsci.edu/cgi-bin/getdata.cgi?config=ops&amp;amp;dataset=hst_05446_4d_wfpc2_f606w_wf</td></tr>\n",
       "<tr><td>05446_4d WFPC2 detection (combined) NGC4303</td><td>http://hla.stsci.edu/cgi-bin/getdata.cgi?config=ops&amp;amp;dataset=hst_05446_4d_wfpc2_total_wf</td></tr>\n",
       "<tr><td>06358_08 WFPC2 F218W (combined) NGC4303</td><td>http://hla.stsci.edu/cgi-bin/getdata.cgi?config=ops&amp;amp;dataset=hst_06358_08_wfpc2_f218w_wf</td></tr>\n",
       "<tr><td>06358_08 WFPC2 detection (combined) NGC4303</td><td>http://hla.stsci.edu/cgi-bin/getdata.cgi?config=ops&amp;amp;dataset=hst_06358_08_wfpc2_total_wf</td></tr>\n",
       "<tr><td>09042_62 WFPC2 F450W (combined) NGC4303</td><td>http://hla.stsci.edu/cgi-bin/getdata.cgi?config=ops&amp;amp;dataset=hst_09042_62_wfpc2_f450w_wf</td></tr>\n",
       "<tr><td>09042_62 WFPC2 F814W (combined) NGC4303</td><td>http://hla.stsci.edu/cgi-bin/getdata.cgi?config=ops&amp;amp;dataset=hst_09042_62_wfpc2_f814w_wf</td></tr>\n",
       "<tr><td>09042_62 WFPC2 detection (combined) NGC4303</td><td>http://hla.stsci.edu/cgi-bin/getdata.cgi?config=ops&amp;amp;dataset=hst_09042_62_wfpc2_total_wf</td></tr>\n",
       "<tr><td>09042_62 WFPC2 F814W/F450W (color) NGC4303</td><td>http://hla.stsci.edu/cgi-bin/fitscut.cgi?red=hst_09042_62_wfpc2_f814w_wf&amp;amp;blue=hst_09042_62_wfpc2_f450w_wf&amp;amp;size=ALL&amp;amp;format=fits&amp;amp;config=ops</td></tr>\n",
       "<tr><td>12574_01 ACS/WFC F435W (combined) SN-2006OV</td><td>http://hla.stsci.edu/cgi-bin/getdata.cgi?config=ops&amp;amp;dataset=hst_12574_01_acs_wfc_f435w</td></tr>\n",
       "<tr><td>12574_01 ACS/WFC F814W (combined) SN-2006OV</td><td>http://hla.stsci.edu/cgi-bin/getdata.cgi?config=ops&amp;amp;dataset=hst_12574_01_acs_wfc_f814w</td></tr>\n",
       "<tr><td>12574_01 ACS/WFC detection (combined) SN-2006OV</td><td>http://hla.stsci.edu/cgi-bin/getdata.cgi?config=ops&amp;amp;dataset=hst_12574_01_acs_wfc_total</td></tr>\n",
       "<tr><td>12574_01 ACS/WFC F814W/F435W (color) SN-2006OV</td><td>http://hla.stsci.edu/cgi-bin/fitscut.cgi?red=hst_12574_01_acs_wfc_f814w&amp;amp;blue=hst_12574_01_acs_wfc_f435w&amp;amp;size=ALL&amp;amp;format=fits&amp;amp;config=ops</td></tr>\n",
       "<tr><td>7330_2u NIC2 F160W (combined) NGC4303</td><td>http://hla.stsci.edu/cgi-bin/getdata.cgi?config=ops&amp;amp;dataset=HST_7330_2u_NIC_NIC2_F160W</td></tr>\n",
       "<tr><td>7330_2u NIC2 detection (combined) NGC4303</td><td>http://hla.stsci.edu/cgi-bin/getdata.cgi?config=ops&amp;amp;dataset=HST_7330_2u_NIC_NIC2_total</td></tr>\n",
       "<tr><td>9379_41 ACS/HRC F330W (combined) NGC4303</td><td>http://hla.stsci.edu/cgi-bin/getdata.cgi?config=ops&amp;amp;dataset=hst_9379_41_acs_hrc_f330w</td></tr>\n",
       "<tr><td>9379_41 ACS/HRC detection (combined) NGC4303</td><td>http://hla.stsci.edu/cgi-bin/getdata.cgi?config=ops&amp;amp;dataset=hst_9379_41_acs_hrc_total</td></tr>\n",
       "<tr><td>9776_21 ACS/HRC F555W (combined) NGC4303</td><td>http://hla.stsci.edu/cgi-bin/getdata.cgi?config=ops&amp;amp;dataset=hst_9776_21_acs_hrc_f555w</td></tr>\n",
       "<tr><td>9776_21 ACS/HRC F814W (combined) NGC4303</td><td>http://hla.stsci.edu/cgi-bin/getdata.cgi?config=ops&amp;amp;dataset=hst_9776_21_acs_hrc_f814w</td></tr>\n",
       "<tr><td>9776_21 ACS/HRC detection (combined) NGC4303</td><td>http://hla.stsci.edu/cgi-bin/getdata.cgi?config=ops&amp;amp;dataset=hst_9776_21_acs_hrc_total</td></tr>\n",
       "<tr><td>9776_21 ACS/HRC F814W/F555W (color) NGC4303</td><td>http://hla.stsci.edu/cgi-bin/fitscut.cgi?red=hst_9776_21_acs_hrc_f814w&amp;amp;blue=hst_9776_21_acs_hrc_f555w&amp;amp;size=ALL&amp;amp;format=fits&amp;amp;config=ops</td></tr>\n",
       "</table>"
      ],
      "text/plain": [
       "<Table masked=True length=20>\n",
       "                     Title                      ...\n",
       "                     object                     ...\n",
       "----------------------------------------------- ...\n",
       "        05446_4d WFPC2 F606W (combined) NGC4303 ...\n",
       "    05446_4d WFPC2 detection (combined) NGC4303 ...\n",
       "        06358_08 WFPC2 F218W (combined) NGC4303 ...\n",
       "    06358_08 WFPC2 detection (combined) NGC4303 ...\n",
       "        09042_62 WFPC2 F450W (combined) NGC4303 ...\n",
       "        09042_62 WFPC2 F814W (combined) NGC4303 ...\n",
       "    09042_62 WFPC2 detection (combined) NGC4303 ...\n",
       "     09042_62 WFPC2 F814W/F450W (color) NGC4303 ...\n",
       "    12574_01 ACS/WFC F435W (combined) SN-2006OV ...\n",
       "    12574_01 ACS/WFC F814W (combined) SN-2006OV ...\n",
       "12574_01 ACS/WFC detection (combined) SN-2006OV ...\n",
       " 12574_01 ACS/WFC F814W/F435W (color) SN-2006OV ...\n",
       "          7330_2u NIC2 F160W (combined) NGC4303 ...\n",
       "      7330_2u NIC2 detection (combined) NGC4303 ...\n",
       "       9379_41 ACS/HRC F330W (combined) NGC4303 ...\n",
       "   9379_41 ACS/HRC detection (combined) NGC4303 ...\n",
       "       9776_21 ACS/HRC F555W (combined) NGC4303 ...\n",
       "       9776_21 ACS/HRC F814W (combined) NGC4303 ...\n",
       "   9776_21 ACS/HRC detection (combined) NGC4303 ...\n",
       "    9776_21 ACS/HRC F814W/F555W (color) NGC4303 ..."
      ]
     },
     "execution_count": 38,
     "metadata": {},
     "output_type": "execute_result"
    }
   ],
   "source": [
    "#\n",
    "# Define function to find a column by UCD.\n",
    "#\n",
    "def find_column_by_ucd(table, ucd):\n",
    "    \n",
    "    # Loop through all the columns looking for the UCD\n",
    "    for key in table.columns:\n",
    "        col = table.columns[key]\n",
    "        ucdval = col.meta.get('ucd')\n",
    "        if (ucdval is not None):\n",
    "            if (ucd == ucdval):\n",
    "                return col\n",
    "    \n",
    "    return None\n",
    "\n",
    "#\n",
    "# Perform an SIA query.\n",
    "#\n",
    "params = {\n",
    "    'POS': '185.47873,4.47365',\n",
    "    'SIZE': '0.001'\n",
    "}\n",
    "r = requests.get('http://hla.stsci.edu/cgi-bin/hlaSIAP.cgi?imagetype=best&inst=ACS,ACSGrism,WFC3,WFPC2,NICMOS,NICGRISM,COS,STIS,FOS,GHRS&proprietary=false&',\n",
    "                params=params)\n",
    "aptable = aptable_from_votable_response(r)\n",
    "\n",
    "#\n",
    "# Use UCDs to find the title and access URL columns, then display the results with just those columns.\n",
    "#\n",
    "title_col = find_column_by_ucd(aptable, 'VOX:Image_Title')\n",
    "access_url_col = find_column_by_ucd(aptable, 'VOX:Image_AccessReference')\n",
    "\n",
    "#\n",
    "# Output the results if successful.\n",
    "#\n",
    "if (title_col is not None and access_url_col is not None):\n",
    "    result = aptable[title_col.name, access_url_col.name]\n",
    "else:\n",
    "        result = 'A needed column was not found.  title_col = ' + str(title_col) + ', access_url_col = ' + str(access_url_col)\n",
    "\n",
    "result\n"
   ]
  }
 ],
 "metadata": {
  "kernelspec": {
   "display_name": "Python 3",
   "language": "python",
   "name": "python3"
  },
  "language_info": {
   "codemirror_mode": {
    "name": "ipython",
    "version": 3
   },
   "file_extension": ".py",
   "mimetype": "text/x-python",
   "name": "python",
   "nbconvert_exporter": "python",
   "pygments_lexer": "ipython3",
   "version": "3.6.1"
  }
 },
 "nbformat": 4,
 "nbformat_minor": 2
}
