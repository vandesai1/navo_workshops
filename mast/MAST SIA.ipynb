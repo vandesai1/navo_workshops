{
 "cells": [
  {
   "cell_type": "markdown",
   "metadata": {},
   "source": [
    "# Introduction\n",
    "Explain what this notebook is for."
   ]
  },
  {
   "cell_type": "markdown",
   "metadata": {},
   "source": [
    "# Initialization"
   ]
  },
  {
   "cell_type": "code",
   "execution_count": 1,
   "metadata": {
    "collapsed": true
   },
   "outputs": [],
   "source": [
    "#\n",
    "# Imports\n",
    "#\n",
    "\n",
    "import requests\n",
    "import io\n",
    "from astropy.table import Table, unique\n",
    "import numpy as np\n",
    "\n",
    "# There are a number of relatively unimportant warnings that \n",
    "# show up, so for now, suppress them:\n",
    "import warnings\n",
    "warnings.filterwarnings(\"ignore\")\n"
   ]
  },
  {
   "cell_type": "markdown",
   "metadata": {},
   "source": [
    "# Utility Functions"
   ]
  },
  {
   "cell_type": "code",
   "execution_count": 38,
   "metadata": {
    "collapsed": true
   },
   "outputs": [],
   "source": [
    "\n",
    "# \n",
    "# Convenience functions\n",
    "# \n",
    "\n",
    "def aptable_from_votable_response(response):\n",
    "    \"\"\"\n",
    "    Takes a VOTABLE response from a web service and returns an astropy table.\n",
    "    \n",
    "    Parameters\n",
    "    ----------\n",
    "    response : requests.Response\n",
    "        Response whose contents are assumed to be a VOTABLE.\n",
    "        \n",
    "    Returns\n",
    "    -------\n",
    "    aptable : astropy.table.Table\n",
    "        Astropy Table containing the data from the first TABLE in the VOTABLE.\n",
    "    \"\"\"\n",
    "    \n",
    "    # The astropy table reader would like a file-like object, so convert\n",
    "    # the response content a byte stream.  This assumes Python 3.x.\n",
    "    # \n",
    "    # (The reader also accepts just a string, but that seems to have two \n",
    "    # problems:  It looks for newlines to see if the string is itself a table,\n",
    "    # and we need to support unicode content.)\n",
    "    file_like_content = io.BytesIO(response.content)\n",
    "    \n",
    "    # The astropy table reader will auto-detect that the content is a VOTABLE\n",
    "    # and parse it appropriately.\n",
    "    aptable = Table.read(file_like_content)\n",
    "    return aptable\n",
    "\n",
    "def tap_query_sync(query, tap_service, print_url=False):\n",
    "    \"\"\"\n",
    "    Executes the specified TAP query at the specified TAP service and return\n",
    "    the result as an astropy Table.\n",
    "    \"\"\"\n",
    "    tap_params = {\n",
    "        \"request\": \"doQuery\",\n",
    "        \"lang\": \"ADQL\",\n",
    "        \"query\": query\n",
    "    }\n",
    "    results = requests.post(tap_service, data=tap_params)\n",
    "    if (print_url):\n",
    "        print('Queried: ' + results.url)\n",
    "    aptable = aptable_from_votable_response(results)\n",
    "    return aptable\n",
    "\n",
    "def sia_query(access_url, ra, dec, size, print_url=False):\n",
    "    params = {\n",
    "        'POS': sval(ra) + ',' + sval(dec),\n",
    "        'SIZE': sval(size)\n",
    "    }\n",
    "    results = requests.get(access_url, params)\n",
    "    if (print_url):\n",
    "        print('Queried: ' + results.url)\n",
    "    aptable = aptable_from_votable_response(results)\n",
    "    return aptable\n",
    "\n",
    "def sval(val):\n",
    "    if (isinstance(val, bytes)):\n",
    "        return str(val, 'utf-8')\n",
    "    else:\n",
    "        return str(val)\n",
    "    \n",
    "svalv = np.vectorize(sval)\n",
    "\n",
    "def stringify_table(t):\n",
    "    # This mess will look for columns that should be strings and convert them.\n",
    "    scols = []\n",
    "    for col in t.columns:\n",
    "        colobj = t.columns[col]\n",
    "        if (colobj.dtype == 'object' and isinstance(t[colobj.name][0], bytes)):\n",
    "            scols.append(colobj.name)\n",
    "\n",
    "    for colname in scols:\n",
    "        t[colname] = svalv(t[colname])\n"
   ]
  },
  {
   "cell_type": "markdown",
   "metadata": {},
   "source": [
    "# Find SIA Services\n",
    "<div class=\"alert alert-block alert-danger\">\n",
    "<b>TBD:</b> Decide which columns to return from this based on helping figure out which services to use.\n",
    "</div>"
   ]
  },
  {
   "cell_type": "code",
   "execution_count": 40,
   "metadata": {},
   "outputs": [
    {
     "name": "stdout",
     "output_type": "stream",
     "text": [
      "Queried: https://vao.stsci.edu/RegTAP/TapService.aspx/sync\n"
     ]
    },
    {
     "data": {
      "text/html": [
       "&lt;Table masked=True length=42&gt;\n",
       "<table id=\"table4508532520\" class=\"table-striped table-bordered table-condensed\">\n",
       "<thead><tr><th>waveband</th><th>short_name</th><th>ivoid</th><th>res_description</th><th>access_url</th></tr></thead>\n",
       "<thead><tr><th>str19</th><th>str23</th><th>str38</th><th>str1285</th><th>str149</th></tr></thead>\n",
       "<tr><td>infrared#optical</td><td>BoRG</td><td>ivo://archive.stsci.edu/borg</td><td>The Brightest of Reionizing Galaxies (BoRG) observations were first obtained in HST Cycle 17 in program GO 11700 (PI: Michele Trenti). BoRG is an ongoing pure-parallel program that obtains WFC3 imaging in four filters (F606W, F098M, F125W, F160W) on random sightlines at high Galactic latitudes (|b| &amp;gt; 30 degrees). BoRG also assimilates data from the similar Hubble Infrared Pure Parallel Imaging Extragalactic Survey (HIPPIES) pure-parallel program (GO 11702; PI: Yan). Data from the HIPPIES program uses the F600LP filter instead of F606W.</td><td>http://archive.stsci.edu/siap/search.php?id=borg&amp;amp;</td></tr>\n",
       "<tr><td>optical</td><td>GHOSTS</td><td>ivo://archive.stsci.edu/ghosts</td><td>The GHOSTS survey is the largest study to date of the resolved stellar populations in the outskirts of disk galaxies. The sample consists of 14 disk galaxies within 17 Mpc, whose outer disks and halos are imaged with the Hubble Space Telescope Advanced Camera for Surveys (ACS).</td><td>http://archive.stsci.edu/siap/search.php?id=ghosts&amp;amp;</td></tr>\n",
       "<tr><td>uv</td><td>GALEX</td><td>ivo://archive.stsci.edu/sia/galex</td><td>The Galaxy Evolution Explorer (GALEX), a NASA Small Explorer mission, is performing the first all-sky, deep imaging and spectroscopic ultraviolet surveys in space. The prime goal of GALEX is to study star formation in galaxies and its evolution with time.</td><td>http://galex.stsci.edu/gxWS/siap/gxsiap.aspx?</td></tr>\n",
       "<tr><td>uv</td><td>GALEX</td><td>ivo://archive.stsci.edu/siap/galex</td><td>The Galaxy Evolution Explorer (GALEX), a NASA Small Explorer mission, is performing the first all-sky, deep imaging and spectroscopic ultraviolet surveys in space. The prime goal of GALEX is to study star formation in galaxies and its evolution with time.</td><td>http://galex.stsci.edu/gxWS/SIAP/gxSIAP.aspx?</td></tr>\n",
       "<tr><td>optical#infrared#uv</td><td>HLA</td><td>ivo://archive.stsci.edu/siap/hla</td><td>The Hubble Space Telecope Legacy Archive (HLA) was developed at the Space Telescope Science Institute to optimize the science return from HST instruments. This resource is an image service which accesses all HLA observation data. The calibrated data is fully online with several forms of access including footprint visualization, composite images, extracted spectra and source lists.</td><td>http://hla.stsci.edu/cgi-bin/hlaSIAP.cgi?imagetype=best&amp;amp;inst=ACS,ACSGrism,WFC3,WFPC2,NICMOS,NICGRISM,COS,STIS,FOS,GHRS&amp;amp;proprietary=false&amp;amp;</td></tr>\n",
       "<tr><td>optical#uv</td><td>HST.ACSGGCT</td><td>ivo://mast.stsci/acsggct</td><td>The ACSGGCT program used the HST ACS/WFC instrument to obtain uniform imaging of 65 of the nearest globular clusters to provide an extensive homogeneous dataset for a broad range of scientific investigations. An overview of the project was published by Sarajedini, A. et al. 2007, &quot;The ACS Survey of Galactic Globular Clusters. I. Overview and Clusters Without Previous Hubble Space Telescope Photometry&quot; AJ, 133, 1658.</td><td>http://archive.stsci.edu/siap/search.php?id=acsggct&amp;amp;</td></tr>\n",
       "<tr><td>optical</td><td>HST.Andromeda</td><td>ivo://mast.stsci/andromeda</td><td>Using the Advanced Camera for Surveys on the Hubble Space Telescope, Thomas Brown (STScI) et al. obtained deep optical images reaching well below the oldest main sequence turnoff in six fields of the Andromeda Galaxy. The fields fall at four positions on the southeast minor axis, one position in the giant stellar stream, and one position on the northeast major axis. These data were obtained as part of three large observing programs (9453, 10265, 10816) designed to probe the star formation history of the stellar population in various structures of the galaxy.</td><td>http://archive.stsci.edu/siap/search.php?id=andromeda&amp;amp;</td></tr>\n",
       "<tr><td>optical#uv</td><td>HST.ANGRRR</td><td>ivo://mast.stsci/angrrr</td><td>An archive of stellar photometry for galaxies within 3.5 Mpc, excluding Local Group galaxies, based on primary and parallel wide-filter UV and optical observations taken with HST ACS/WFC or WFPC2.The sample includes all observations taken through Dec. 2008, as well as observations taken as part of Cycle 16 Supplemental GO programs 11986 and 11987. This release includes the ANGST targets within 3.5 Mpc; these observations have been rereduced using updated CTE corrections and zeropoints. Galaxies with 3.5 &amp;lt; D &amp;lt;= 5 Mpc will be included in a later release.</td><td>http://archive.stsci.edu/siap/search.php?id=angrrr&amp;amp;</td></tr>\n",
       "<tr><td>optical#infrared#uv</td><td>CANDELS</td><td>ivo://mast.stsci/candels</td><td>CANDELS is designed to document the first third of galactic evolution from z = 8 to 1.5 via deep imaging of more than 250,000 galaxies with WFC3/IR and ACS. It will also find the first Type Ia SNe beyond z greater than 1.5 and establish their accuracy as standard candles for cosmology. Five premier multi-wavelength sky regions are selected; each has multi-wavelength data from Spitzer and other facilities, and has extensive spectroscopy of the brighter galaxies. The use of ?ve widely separated ?elds mitigates cosmic variance and yields statistically robust and complete samples of galaxies down to 109 solar masses out to z ~ 8.</td><td>http://archive.stsci.edu/siap/search.php?id=candels&amp;amp;</td></tr>\n",
       "<tr><td>optical#infrared#uv</td><td>HST.CLASH</td><td>ivo://mast.stsci/clash</td><td>By observing 25 massive galaxy clusters with HST&apos;s new panchromatic imaging capabilities (Wide-field Camera 3, WFC3, and the Advanced Camera for Surveys, ACS), CLASH will accomplish its four primary science goals: - Map, with unprecedented accuracy, the distribution of dark matter in galaxy clusters using strong and weak gravitational lensing; - Detect Type Ia supernovae out to redshift z ~ 2, allowing us to test the constancy of dark energy&apos;s repulsive force over time and look for any evolutionary effects in the supernovae themselves; - Detect and characterize some of the most distant galaxies yet discovered at z &amp;gt; 7 (when the Universe was younger than 800 million years old - or less than 6% of its current age); - Study the internal structure and evolution of the galaxies in and behind these clusters.</td><td>http://archive.stsci.edu/siap/search.php?id=clash&amp;amp;</td></tr>\n",
       "<tr><td>...</td><td>...</td><td>...</td><td>...</td><td>...</td></tr>\n",
       "<tr><td>optical</td><td>HST.UDF</td><td>ivo://mast.stsci/siap/hst.udf</td><td>The ACS Ultra Deep Field (UDF) is a cycle 12 survey carried out using the Advanced Camera for Surveys (ACS) on HST and taking advantage of the Director&apos;s Discretionary time. The UDF consists of a single ultra-deep field (412 orbits in total taken in 4 bands) within the CDF-S GOODS area. It is the deepest image ever obtained with Hubble. This service also includes data from the UDF follow-Up program by PI Massimo Stiavelli and colleagues obtained under HST cycle 14 program 10632 titled Searching for galaxies at z&amp;gt;6.5 in the Hubble Ultra Deep Field (also known as UDF05).</td><td>http://archive.stsci.edu/siap/search.php?id=udf&amp;amp;</td></tr>\n",
       "<tr><td>optical</td><td>HST.M82</td><td>ivo://mast.stsci/siap/m82</td><td>In March 2006, the Hubble Heritage Team obtained a large 4-color (B, V, I, and H-alpha) mosaic image of the M82 with the Advanced Camera for Surveys (ACS) onboard the Hubble Space Telescope.</td><td>http://archive.stsci.edu/siap/search.php?id=m82&amp;amp;</td></tr>\n",
       "<tr><td>optical</td><td>HST.merggal</td><td>ivo://mast.stsci/siap/merggal</td><td>A gallery of images of interacting and merging galaxies from Hubble Space Telescope press releases. These data were originally acquired under HST programs 6276, 10592, 11091, 11092, and 11095, and include WFPC2 images of Arp 87, NGC 6050, and Arp 148 (and two ACS images of Arp 148).</td><td>http://archive.stsci.edu/siap/search.php?id=merggal&amp;amp;</td></tr>\n",
       "<tr><td>optical</td><td>HST.STAGES</td><td>ivo://mast.stsci/siap/stages</td><td>STAGES is a large area (0.5x0.5 degree) survey of the complex Abell 901(a,b)/902 multiple-cluster system at z=0.165. An 80-tile imaging mosaic in F606W was conducted in HST cycle 13 with the HST/ACS instrument.</td><td>http://archive.stsci.edu/siap/search.php?id=stages&amp;amp;</td></tr>\n",
       "<tr><td>uv</td><td>HST.udfuv</td><td>ivo://mast.stsci/siap/udfuv</td><td>Wavelength coverage of the Hubble Ultra Deep Field (UDF) has been extended to ultraviolet wavelength observations. Observations include ACS-SBC images in the Far-UV {1500 Angstrom} and WFPC2 images in the Near-UV {F300W} during excution of the HST Treasury program 10403 ( PI Harry Teplitz -- California Institute of Technology). Included with this set of data are ACS/SBC observations of the Hubble Deep Field (HDF) North.</td><td>http://archive.stsci.edu/siap/search.php?id=udfuv&amp;amp;</td></tr>\n",
       "<tr><td>uv</td><td>UIT</td><td>ivo://mast.stsci/siap/uit</td><td>The Ultraviolet Imaging Telescope UIT was one of three ultraviolet telescopes on the ASTRO-1 mission flown on the space shuttle Columbia during 2-10 December 1990. The same three instruments were later flown on the space shuttle Endeavour from 3-17 March 1995, as part of the ASTRO-2 mission. Exposures were obtained on 70-mm photographic film in the 1200-3300 Å range using broadband filters and later digitized using a Perkin-Elmer microdensitometer. Image resolution was 3&quot; over a 40&apos; field of view. Overall, UIT-1 obtained 821 exposures of 66 targets, and UIT-2 obtained 758 images of 193 targets.</td><td>http://archive.stsci.edu/siap/search.php?id=UIT&amp;amp;</td></tr>\n",
       "<tr><td>radio</td><td>VLA-FIRST</td><td>ivo://mast.stsci/siap/vla-first</td><td>Faint Images of the Radio Sky at Twenty-cm (FIRST) is a systematic survey of the North and South Galactic caps begun in 1993, using the NRAO Very Large Array (VLA) . Typical images are comprised of 1150x1550 1.8&quot; pixels with 5&quot; resolution. Source catalogs are also available including peak and integrated flux densities generated from the high resolution coadded images. The survey yields very accurate (&amp;lt;1 arcsec rms) radio positions of faint (&amp;gt;1 mJy/beam) compact sources. The areas observed were chosen to coincide with the Sloan Digital Sky Survey.</td><td>http://archive.stsci.edu/siap/search.php?id=vla-first&amp;amp;</td></tr>\n",
       "<tr><td>optical</td><td>XMM-OM</td><td>ivo://mast.stsci/siap/xmm-om</td><td>The Newton X-ray Multi-Mirror Mission (XMM) was launched in December, 1999 with a projected lifetime of 10 years. Although intended primarily as an X-ray observatory, XMM included a small but powerful optical/UV 30 cm telescope co-aligned with the X-ray telescopes for contemporaneous observations. The modified Ritchey-Chretien telescope is capable of detecting 24th magnitude sources in its 17 arcmin field of view. It provides images in the 160-600nm wave band with 1 arcsec resolution. MAST is serving a OM Mosaic product that uses a pipeline described by Kuntz et. al. OMCat: Catalog of Serendipitous Sources Detected with the XMM-Newton Optical Monitor PASP, 120:740-758</td><td>http://archive.stsci.edu/siap/search.php?id=XMM-OM&amp;amp;</td></tr>\n",
       "<tr><td>optical#infrared#uv</td><td>HST PR Images 2008-2010</td><td>ivo://mast.stsci/stpr</td><td>The MAST Hubble Space Telescope Press Release Image Archive contains TIFF and JPEG images released between 2008 and 2010. In most cases, images have been coadded/mosaiced from data taken in different bandpasses and at various observation times, so some metadata values may not be accurate. In general, images are for display and not for scientific analysis.</td><td>http://archive.stsci.edu/stpr/vo_search.php?</td></tr>\n",
       "<tr><td>optical#infrared#uv</td><td>HST PR SIA</td><td>ivo://opo.stsci/hst_pr_sia</td><td>The Hubble Space Telescope Press Release Image Archive is a pointed image archive of press release images from the Hubble Space Telescope. The resource provides a conditionally compliant simple image access (SIA) interface to access the image archive. SIA 1.0 compliance is conditional because press release images, in general, do not retain specific observation parameters like observation date and spectral bandpass. The TIFF or JPEG format images are highly processed (i.e., unsuited for astronomical analysis), and may contain annotations on top of the astronomical image. All images have associated valid world coordinate system metadata. Identical images may be available in the archive with different access identifiers, different image formats, or different pixel resolutions.</td><td>http://hubblesite.org/cgi-bin/sia/hst_pr_sia.pl?</td></tr>\n",
       "</table>"
      ],
      "text/plain": [
       "<Table masked=True length=42>\n",
       "      waveband      ...\n",
       "       str19        ...\n",
       "------------------- ...\n",
       "   infrared#optical ...\n",
       "            optical ...\n",
       "                 uv ...\n",
       "                 uv ...\n",
       "optical#infrared#uv ...\n",
       "         optical#uv ...\n",
       "            optical ...\n",
       "         optical#uv ...\n",
       "optical#infrared#uv ...\n",
       "optical#infrared#uv ...\n",
       "                ... ...\n",
       "            optical ...\n",
       "            optical ...\n",
       "            optical ...\n",
       "            optical ...\n",
       "                 uv ...\n",
       "                 uv ...\n",
       "              radio ...\n",
       "            optical ...\n",
       "optical#infrared#uv ...\n",
       "optical#infrared#uv ..."
      ]
     },
     "execution_count": 40,
     "metadata": {},
     "output_type": "execute_result"
    }
   ],
   "source": [
    "#\n",
    "# Perform a synchronous TAP query on the NAVO registry to find Simple Image Access\n",
    "# services from MAST.\n",
    "#\n",
    "tap_service_url = \"https://vao.stsci.edu/RegTAP/TapService.aspx/sync\"\n",
    "query = \"\"\"\n",
    "    select b.waveband,b.short_name,a.ivoid,b.res_description,c.access_url from rr.capability a \n",
    "    natural join rr.resource b \n",
    "    natural join rr.interface c\n",
    "    where a.cap_type='SimpleImageAccess' and a.ivoid like 'ivo://%stsci%' \n",
    "    order by short_name\n",
    "\"\"\"\n",
    "results = tap_query_sync(query, tap_service_url, print_url=True)\n",
    "\n",
    "# Ensure that the result rows are unique and that string columns are actually strings.\n",
    "unique_results = unique(results, 'ivoid')\n",
    "stringify_table(unique_results)\n",
    "\n",
    "unique_results"
   ]
  },
  {
   "cell_type": "markdown",
   "metadata": {},
   "source": [
    "# Create a Subset (optional)"
   ]
  },
  {
   "cell_type": "code",
   "execution_count": 42,
   "metadata": {
    "collapsed": true
   },
   "outputs": [],
   "source": [
    "# Select only GALEX, HLA and VLA-FIRST.  Well, skip GALEX for now...\n",
    "short_list = unique_results[np.isin(unique_results['short_name'], \n",
    "                                    ['HLA', 'VLA-FIRST'])]\n"
   ]
  },
  {
   "cell_type": "markdown",
   "metadata": {},
   "source": [
    "# Query Those Services on a Position"
   ]
  },
  {
   "cell_type": "code",
   "execution_count": 43,
   "metadata": {},
   "outputs": [
    {
     "name": "stdout",
     "output_type": "stream",
     "text": [
      "Queried: http://hla.stsci.edu/cgi-bin/hlaSIAP.cgi?imagetype=best&amp;inst=ACS,ACSGrism,WFC3,WFPC2,NICMOS,NICGRISM,COS,STIS,FOS,GHRS&amp;proprietary=false&amp;&POS=185.47873%2C4.47365&SIZE=0\n"
     ]
    },
    {
     "data": {
      "text/html": [
       "&lt;Table masked=True length=20&gt;\n",
       "<table id=\"table4508531848\" class=\"table-striped table-bordered table-condensed\">\n",
       "<thead><tr><th>URL</th><th>RA</th><th>DEC</th><th>Level</th><th>Target</th><th>Detector</th><th>Aperture</th><th>Spectral_Elt</th><th>NExposures</th><th>ExpTime</th><th>StartTime</th><th>Dataset</th><th>PropID</th><th>VisitNum</th><th>PI_Name</th><th>DAOCat</th><th>SEXCat</th><th>Mode</th><th>DBCreationDate</th><th>Source</th><th>Wavelength</th><th>Format</th><th>ReleaseDate</th><th>NReleaseDate</th><th>Title</th><th>naxis</th><th>scale</th><th>naxes</th><th>crpix</th><th>crval</th><th>cd_matrix</th><th>filename</th><th>regionSTCS</th></tr></thead>\n",
       "<thead><tr><th></th><th>deg</th><th>deg</th><th></th><th></th><th></th><th></th><th></th><th></th><th>s</th><th></th><th></th><th></th><th></th><th></th><th></th><th></th><th></th><th></th><th></th><th>0.1 nm</th><th></th><th></th><th></th><th></th><th></th><th>deg / pix</th><th></th><th>pix</th><th>deg</th><th>deg / pix</th><th></th><th></th></tr></thead>\n",
       "<thead><tr><th>object</th><th>float64</th><th>float64</th><th>int32</th><th>object</th><th>object</th><th>object</th><th>object</th><th>int32</th><th>float64</th><th>object</th><th>object</th><th>object</th><th>object</th><th>object</th><th>object</th><th>object</th><th>object</th><th>object</th><th>object</th><th>float64</th><th>object</th><th>object</th><th>int64</th><th>object</th><th>object</th><th>object</th><th>int32</th><th>object</th><th>object</th><th>object</th><th>object</th><th>object</th></tr></thead>\n",
       "<tr><td>http://hla.stsci.edu/cgi-bin/getdata.cgi?config=ops&amp;amp;dataset=hst_05446_4d_wfpc2_f606w_wf</td><td>185.46908300000001</td><td>4.4770649999999996</td><td>2</td><td>NGC4303</td><td>WFPC2</td><td>PC1</td><td>F606W</td><td>2</td><td>160.0</td><td>1994-06-06 19:15:17</td><td>hst_05446_4d_wfpc2_f606w_wf</td><td>5446</td><td>4d</td><td>ILLINGWORTH</td><td>Loaded</td><td>Loaded</td><td>IMAGE</td><td>2010-02-05 12:40:40</td><td>CADC</td><td>5997.0</td><td>image/fits</td><td>1995-06-07 21:15:15</td><td>802559715</td><td>05446_4d WFPC2 F606W (combined) NGC4303</td><td>[1950 1950]</td><td>[2.77778e-05]</td><td>2</td><td>[975.0 975.0]</td><td>[185.469083 4.477065]</td><td>[-2.77778e-05 0.0 0.0 2.77778e-05]</td><td>hst_05446_4d_wfpc2_f606w_wf</td><td>Polygon J2000 185.46429900 4.49677100 185.46432740 4.49669020 185.44536100 4.48985500 185.45202188 4.47148838 185.45183800 4.47142100 185.45263582 4.46925775 185.45949200 4.45066700 185.48032700 4.45830100 185.47643160 4.46887017 185.48470800 4.47181600 185.48195228 4.47950057 185.49259600 4.48321900 185.48525700 4.50409400</td></tr>\n",
       "<tr><td>http://hla.stsci.edu/cgi-bin/getdata.cgi?config=ops&amp;amp;dataset=hst_05446_4d_wfpc2_total_wf</td><td>185.46908300000001</td><td>4.4770649999999996</td><td>2</td><td>NGC4303</td><td>WFPC2</td><td>PC1</td><td>detection</td><td>2</td><td>160.0</td><td>1994-06-06 19:15:17</td><td>hst_05446_4d_wfpc2_total_wf</td><td>5446</td><td>4d</td><td>ILLINGWORTH</td><td>Loaded</td><td>Loaded</td><td>IMAGE</td><td>2010-02-05 12:40:40</td><td>CADC</td><td>5997.0</td><td>image/fits</td><td>1995-06-07 21:15:15</td><td>802559715</td><td>05446_4d WFPC2 detection (combined) NGC4303</td><td>[1950 1950]</td><td>[2.77778e-05]</td><td>2</td><td>[975.0 975.0]</td><td>[185.469083 4.477065]</td><td>[-2.77778e-05 0.0 0.0 2.77778e-05]</td><td>hst_05446_4d_wfpc2_total_wf</td><td>Polygon J2000 185.45183800 4.47142100 185.45263582 4.46925775 185.45949200 4.45066700 185.48032700 4.45830100 185.47643160 4.46887017 185.48470800 4.47181600 185.48195228 4.47950057 185.49259600 4.48321900 185.48525700 4.50409400 185.46429900 4.49677100 185.46432740 4.49669020 185.44536100 4.48985500 185.45202188 4.47148838</td></tr>\n",
       "<tr><td>http://hla.stsci.edu/cgi-bin/getdata.cgi?config=ops&amp;amp;dataset=hst_06358_08_wfpc2_f218w_wf</td><td>185.46928399999999</td><td>4.4695410000000004</td><td>2</td><td>NGC4303</td><td>WFPC2</td><td>WF3-FIX</td><td>F218W</td><td>2</td><td>1200.0</td><td>1996-03-15 22:44:16</td><td>hst_06358_08_wfpc2_f218w_wf</td><td>6358</td><td>08</td><td>COLINA</td><td>Loaded</td><td>Loaded</td><td>IMAGE</td><td>2010-02-05 15:26:18</td><td>CADC</td><td>2203.0</td><td>image/fits</td><td>1997-03-16 13:55:12</td><td>858520512</td><td>06358_08 WFPC2 F218W (combined) NGC4303</td><td>[2100 2100]</td><td>[2.77778e-05]</td><td>2</td><td>[1050.0 1050.0]</td><td>[185.469284 4.469541]</td><td>[-2.77778e-05 0.0 0.0 2.77778e-05]</td><td>hst_06358_08_wfpc2_f218w_wf</td><td>Polygon J2000 185.45635100 4.49776400 185.45631547 4.49769835 185.44693440 4.48036390 185.44650542 4.47957121 185.44581100 4.47828800 185.45574989 4.47294109 185.45150600 4.46526900 185.45867497 4.46133072 185.45317000 4.45151700 185.47253700 4.44072200 185.48337500 4.46004600 185.48330019 4.46008771 185.49297000 4.47773100 185.47577938 4.48709586 185.47587200 4.48726700</td></tr>\n",
       "<tr><td>http://hla.stsci.edu/cgi-bin/getdata.cgi?config=ops&amp;amp;dataset=hst_06358_08_wfpc2_total_wf</td><td>185.46928399999999</td><td>4.4695410000000004</td><td>2</td><td>NGC4303</td><td>WFPC2</td><td>WF3-FIX</td><td>detection</td><td>2</td><td>1200.0</td><td>1996-03-15 22:44:16</td><td>hst_06358_08_wfpc2_total_wf</td><td>6358</td><td>08</td><td>COLINA</td><td>Loaded</td><td>Loaded</td><td>IMAGE</td><td>2010-02-05 15:26:18</td><td>CADC</td><td>2203.0</td><td>image/fits</td><td>1997-03-16 13:55:12</td><td>858520512</td><td>06358_08 WFPC2 detection (combined) NGC4303</td><td>[2100 2100]</td><td>[2.77778e-05]</td><td>2</td><td>[1050.0 1050.0]</td><td>[185.469284 4.469541]</td><td>[-2.77778e-05 0.0 0.0 2.77778e-05]</td><td>hst_06358_08_wfpc2_total_wf</td><td>Polygon J2000 185.48330019 4.46008771 185.49297000 4.47773100 185.47577938 4.48709586 185.47587200 4.48726700 185.45635100 4.49776400 185.45631547 4.49769835 185.44693440 4.48036390 185.44650542 4.47957121 185.44581100 4.47828800 185.45574989 4.47294109 185.45150600 4.46526900 185.45867497 4.46133072 185.45317000 4.45151700 185.47253700 4.44072200 185.48337500 4.46004600</td></tr>\n",
       "<tr><td>http://hla.stsci.edu/cgi-bin/getdata.cgi?config=ops&amp;amp;dataset=hst_09042_62_wfpc2_f450w_wf</td><td>185.47791900000001</td><td>4.4724930000000001</td><td>2</td><td>NGC4303</td><td>WFPC2</td><td>WFALL</td><td>F450W</td><td>2</td><td>460.0</td><td>2001-07-26 02:06:15</td><td>hst_09042_62_wfpc2_f450w_wf</td><td>9042</td><td>62</td><td>SMARTT</td><td>Loaded</td><td>Loaded</td><td>IMAGE</td><td>2010-02-05 23:40:58</td><td>CADC</td><td>4556.0</td><td>image/fits</td><td>2001-07-26 12:41:15</td><td>996151275</td><td>09042_62 WFPC2 F450W (combined) NGC4303</td><td>[2050 2050]</td><td>[2.77778e-05]</td><td>2</td><td>[1025.0 1025.0]</td><td>[185.477919 4.472493]</td><td>[-2.77778e-05 0.0 0.0 2.77778e-05]</td><td>hst_09042_62_wfpc2_f450w_wf</td><td>Polygon J2000 185.50158300 4.48116300 185.49114100 4.50068200 185.47154600 4.49026200 185.47158582 4.49018755 185.45388500 4.48055300 185.46327243 4.46341094 185.46310200 4.46331700 185.46422041 4.46130091 185.47383600 4.44396700 185.49326200 4.45467400 185.48779775 4.46452824 185.49552800 4.46869600 185.49163130 4.47587293</td></tr>\n",
       "<tr><td>http://hla.stsci.edu/cgi-bin/getdata.cgi?config=ops&amp;amp;dataset=hst_09042_62_wfpc2_f814w_wf</td><td>185.47791900000001</td><td>4.4724930000000001</td><td>2</td><td>NGC4303</td><td>WFPC2</td><td>WFALL</td><td>F814W</td><td>2</td><td>460.0</td><td>2001-07-26 02:21:15</td><td>hst_09042_62_wfpc2_f814w_wf</td><td>9042</td><td>62</td><td>SMARTT</td><td>Loaded</td><td>Loaded</td><td>IMAGE</td><td>2010-02-05 23:40:58</td><td>CADC</td><td>8012.0</td><td>image/fits</td><td>2001-07-26 12:58:28</td><td>996152308</td><td>09042_62 WFPC2 F814W (combined) NGC4303</td><td>[2050 2050]</td><td>[2.77778e-05]</td><td>2</td><td>[1025.0 1025.0]</td><td>[185.477919 4.472493]</td><td>[-2.77778e-05 0.0 0.0 2.77778e-05]</td><td>hst_09042_62_wfpc2_f814w_wf</td><td>Polygon J2000 185.49114100 4.50068200 185.47154600 4.49026200 185.47158582 4.49018755 185.45388500 4.48055300 185.46327243 4.46341094 185.46310200 4.46331700 185.46422041 4.46130091 185.47383600 4.44396700 185.49326200 4.45467400 185.48779775 4.46452824 185.49552800 4.46869600 185.49163130 4.47587293 185.50158300 4.48116300</td></tr>\n",
       "<tr><td>http://hla.stsci.edu/cgi-bin/getdata.cgi?config=ops&amp;amp;dataset=hst_09042_62_wfpc2_total_wf</td><td>185.47791900000001</td><td>4.4724930000000001</td><td>2</td><td>NGC4303</td><td>WFPC2</td><td>WFALL</td><td>detection</td><td>4</td><td>920.0</td><td>2001-07-26 02:06:15</td><td>hst_09042_62_wfpc2_total_wf</td><td>9042</td><td>62</td><td>SMARTT</td><td>Loaded</td><td>Loaded</td><td>IMAGE</td><td>2010-02-05 23:40:58</td><td>CADC</td><td>6284.0</td><td>image/fits</td><td>2001-07-26 12:58:28</td><td>996152308</td><td>09042_62 WFPC2 detection (combined) NGC4303</td><td>[2050 2050]</td><td>[2.77778e-05]</td><td>2</td><td>[1025.0 1025.0]</td><td>[185.477919 4.472493]</td><td>[-2.77778e-05 0.0 0.0 2.77778e-05]</td><td>hst_09042_62_wfpc2_total_wf</td><td>Polygon J2000 185.49163130 4.47587293 185.50158300 4.48116300 185.49114100 4.50068200 185.47154600 4.49026200 185.47158582 4.49018755 185.45388500 4.48055300 185.46327243 4.46341094 185.46310200 4.46331700 185.46422041 4.46130091 185.47383600 4.44396700 185.49326200 4.45467400 185.48779775 4.46452824 185.49552800 4.46869600</td></tr>\n",
       "<tr><td>http://hla.stsci.edu/cgi-bin/fitscut.cgi?red=hst_09042_62_wfpc2_f814w_wf&amp;amp;blue=hst_09042_62_wfpc2_f450w_wf&amp;amp;size=ALL&amp;amp;format=fits&amp;amp;config=ops</td><td>185.47791900000001</td><td>4.4724930000000001</td><td>4</td><td>NGC4303</td><td>WFPC2</td><td>WFALL</td><td>F814W/F450W</td><td>4</td><td>920.0</td><td>2001-07-26 02:06:15</td><td>hst_09042_62_wfpc2_f814w_f450w_wf</td><td>9042</td><td>62</td><td>SMARTT</td><td>Loaded</td><td>Loaded</td><td>IMAGE</td><td>2010-02-05 23:40:58</td><td>CADC</td><td>237.132075472</td><td>image/fits</td><td>2001-07-26 12:58:28</td><td>996152308</td><td>09042_62 WFPC2 F814W/F450W (color) NGC4303</td><td>[2050 2050]</td><td>[2.77778e-05]</td><td>2</td><td>[1025.0 1025.0]</td><td>[185.477919 4.472493]</td><td>[-2.77778e-05 0.0 0.0 2.77778e-05]</td><td>hst_09042_62_wfpc2_f814w_wf,hst_09042_62_wfpc2_f450w_wf</td><td>Polygon J2000 185.49114100 4.50068200 185.47154600 4.49026200 185.47158582 4.49018755 185.45388500 4.48055300 185.46327243 4.46341094 185.46310200 4.46331700 185.46422041 4.46130091 185.47383600 4.44396700 185.49326200 4.45467400 185.48779775 4.46452824 185.49552800 4.46869600 185.49163130 4.47587293 185.50158300 4.48116300</td></tr>\n",
       "<tr><td>http://hla.stsci.edu/cgi-bin/getdata.cgi?config=ops&amp;amp;dataset=hst_12574_01_acs_wfc_f435w</td><td>185.45008999999999</td><td>4.4786130000000002</td><td>2</td><td>SN-2006OV</td><td>ACS/WFC</td><td>WFC1-CTE</td><td>F435W</td><td>2</td><td>1090.0</td><td>2012-05-24 04:20:19</td><td>hst_12574_01_acs_wfc_f435w</td><td>12574</td><td>01</td><td>Leonard</td><td>Loaded</td><td>Loaded</td><td>ACCUM</td><td>2016-06-13 05:44:58</td><td>HLA</td><td>4327.3008</td><td>image/fits</td><td>2013-05-24 08:33:43</td><td>1369384423</td><td>12574_01 ACS/WFC F435W (combined) SN-2006OV</td><td>[5692 5680]</td><td>[1.38889e-05]</td><td>2</td><td>[2846.5 2840.5]</td><td>[185.45009 4.478613]</td><td>[-1.38889e-05 0.0 0.0 1.38889e-05]</td><td>hst_12574_01_acs_wfc_f435w</td><td>Polygon J2000 185.48979670 4.49101260 185.46452820 4.50242230 185.46451434 4.50239790 185.46448820 4.50240970 185.43678420 4.45364580 185.43681030 4.45363402 185.46205100 4.44223720 185.46206441 4.44226081 185.46209100 4.44224880 Polygon J2000  185.43629120 4.45353370 185.43630245 4.45355414 185.43632120 4.45354550 185.46368780 4.50325470 185.43763830 4.51525520 185.43762661 4.51523397 185.43760830 4.51524240 185.41024340 4.46553300 185.41026174 4.46552455</td></tr>\n",
       "<tr><td>http://hla.stsci.edu/cgi-bin/getdata.cgi?config=ops&amp;amp;dataset=hst_12574_01_acs_wfc_f814w</td><td>185.45008999999999</td><td>4.4786130000000002</td><td>2</td><td>SN-2006OV</td><td>ACS/WFC</td><td>WFC1-CTE</td><td>F814W</td><td>2</td><td>1090.0</td><td>2012-05-24 05:46:21</td><td>hst_12574_01_acs_wfc_f814w</td><td>12574</td><td>01</td><td>Leonard</td><td>Loaded</td><td>Loaded</td><td>ACCUM</td><td>2016-06-13 05:44:58</td><td>HLA</td><td>8059.3491000000004</td><td>image/fits</td><td>2013-05-24 08:41:10</td><td>1369384870</td><td>12574_01 ACS/WFC F814W (combined) SN-2006OV</td><td>[5692 5680]</td><td>[1.38889e-05]</td><td>2</td><td>[2846.5 2840.5]</td><td>[185.45009 4.478613]</td><td>[-1.38889e-05 0.0 0.0 1.38889e-05]</td><td>hst_12574_01_acs_wfc_f814w</td><td>Polygon J2000 185.46450632 4.50239937 185.46448810 4.50240760 185.43678550 4.45364860 185.43680376 4.45364036 185.46205110 4.44224070 185.46206252 4.44226079 185.46208110 4.44225240 185.48978530 4.49101110 185.46451810 4.50242010 Polygon J2000  185.41026282 4.46552591 185.43629100 4.45353580 185.43630229 4.45355632 185.43632100 4.45354770 185.46368670 4.50325330 185.43763850 4.51525300 185.43762685 4.51523185 185.43760850 4.51524030 185.41024440 4.46553440</td></tr>\n",
       "<tr><td>http://hla.stsci.edu/cgi-bin/getdata.cgi?config=ops&amp;amp;dataset=hst_12574_01_acs_wfc_total</td><td>185.45008999999999</td><td>4.4786130000000002</td><td>2</td><td>SN-2006OV</td><td>ACS/WFC</td><td>WFC1-CTE</td><td>detection</td><td>4</td><td>2180.0</td><td>2012-05-24 04:20:19</td><td>hst_12574_01_acs_wfc_total</td><td>12574</td><td>01</td><td>Leonard</td><td>Loaded</td><td>Loaded</td><td>ACCUM</td><td>2016-06-13 05:44:58</td><td>HLA</td><td>--</td><td>image/fits</td><td>2013-05-24 08:41:10</td><td>1369384870</td><td>12574_01 ACS/WFC detection (combined) SN-2006OV</td><td>[5692 5680]</td><td>[1.38889e-05]</td><td>2</td><td>[2846.5 2840.5]</td><td>[185.45009 4.478613]</td><td>[-1.38889e-05 0.0 0.0 1.38889e-05]</td><td>hst_12574_01_acs_wfc_total</td><td>Polygon J2000 185.41024340 4.46553300 185.41026174 4.46552455 185.43629120 4.45353370 185.43630245 4.45355414 185.43632120 4.45354550 185.46368780 4.50325470 185.43763830 4.51525520 185.43762661 4.51523397 185.43760830 4.51524240 Polygon J2000  185.46206441 4.44226081 185.46209100 4.44224880 185.48979670 4.49101260 185.46452820 4.50242230 185.46452514 4.50241692 185.46451810 4.50242010 185.46450729 4.50240108 185.46448820 4.50240970 185.43678420 4.45364580 185.43681030 4.45363402 185.46205100 4.44223720</td></tr>\n",
       "<tr><td>http://hla.stsci.edu/cgi-bin/fitscut.cgi?red=hst_12574_01_acs_wfc_f814w&amp;amp;blue=hst_12574_01_acs_wfc_f435w&amp;amp;size=ALL&amp;amp;format=fits&amp;amp;config=ops</td><td>185.45008999999999</td><td>4.4786130000000002</td><td>4</td><td>SN-2006OV</td><td>ACS/WFC</td><td>WFC1-CTE</td><td>F814W/F435W</td><td>4</td><td>2180.0</td><td>2012-05-24 04:20:19</td><td>hst_12574_01_acs_wfc_f814w_f435w</td><td>12574</td><td>01</td><td>Leonard</td><td>Loaded</td><td>Loaded</td><td>ACCUM</td><td>2016-06-13 05:44:58</td><td>HLA</td><td>233.71037547200001</td><td>image/fits</td><td>2013-05-24 08:41:10</td><td>1369384870</td><td>12574_01 ACS/WFC F814W/F435W (color) SN-2006OV</td><td>[5692 5680]</td><td>[1.38889e-05]</td><td>2</td><td>[2846.5 2840.5]</td><td>[185.45009 4.478613]</td><td>[-1.38889e-05 0.0 0.0 1.38889e-05]</td><td>hst_12574_01_acs_wfc_f814w,hst_12574_01_acs_wfc_f435w</td><td>Polygon J2000 185.46450632 4.50239937 185.46448810 4.50240760 185.43678550 4.45364860 185.43680376 4.45364036 185.46205110 4.44224070 185.46206252 4.44226079 185.46208110 4.44225240 185.48978530 4.49101110 185.46451810 4.50242010 Polygon J2000  185.41026282 4.46552591 185.43629100 4.45353580 185.43630229 4.45355632 185.43632100 4.45354770 185.46368670 4.50325330 185.43763850 4.51525300 185.43762685 4.51523185 185.43760850 4.51524030 185.41024440 4.46553440</td></tr>\n",
       "<tr><td>http://hla.stsci.edu/cgi-bin/getdata.cgi?config=ops&amp;amp;dataset=HST_7330_2u_NIC_NIC2_F160W</td><td>185.47920199999999</td><td>4.4742059999999997</td><td>2</td><td>NGC4303</td><td>NIC2</td><td>NIC2</td><td>F160W</td><td>2</td><td>639.89999999999998</td><td>1998-04-30 00:52:19</td><td>HST_7330_2u_NIC_NIC2_F160W</td><td>7330</td><td>2u</td><td>Mulchaey</td><td></td><td></td><td>MULTIACCUM</td><td>2009-12-07 21:43:42</td><td>HLA</td><td>16059.9</td><td>image/fits</td><td>1998-07-29 16:20:56</td><td>901729256</td><td>7330_2u NIC2 F160W (combined) NGC4303</td><td>[480 480]</td><td>[1.38889e-05]</td><td>2</td><td>[240.0 240.0]</td><td>[185.479202 4.474206]</td><td>[-1.38889e-05 0.0 0.0 1.38889e-05]</td><td>HST_7330_2u_NIC_NIC2_F160W</td><td>Polygon J2000 185.47591840 4.47619550 185.47714000 4.47095910 185.48235099 4.47217868 185.48248660 4.47221040 185.48126510 4.47744690 185.48112960 4.47741470</td></tr>\n",
       "<tr><td>http://hla.stsci.edu/cgi-bin/getdata.cgi?config=ops&amp;amp;dataset=HST_7330_2u_NIC_NIC2_total</td><td>185.47920199999999</td><td>4.4742059999999997</td><td>2</td><td>NGC4303</td><td>NIC2</td><td>NIC2</td><td>detection</td><td>2</td><td>639.89999999999998</td><td>1998-04-30 00:52:19</td><td>HST_7330_2u_NIC_NIC2_total</td><td>7330</td><td>2u</td><td>Mulchaey</td><td></td><td></td><td>MULTIACCUM</td><td>2009-12-07 21:43:42</td><td>HLA</td><td>--</td><td>image/fits</td><td>1998-07-29 16:20:56</td><td>901729256</td><td>7330_2u NIC2 detection (combined) NGC4303</td><td>[480 480]</td><td>[1.38889e-05]</td><td>2</td><td>[240.0 240.0]</td><td>[185.479202 4.474206]</td><td>[-1.38889e-05 0.0 0.0 1.38889e-05]</td><td>HST_7330_2u_NIC_NIC2_total</td><td>Polygon J2000 185.48112960 4.47741470 185.47591840 4.47619550 185.47714000 4.47095910 185.48235099 4.47217868 185.48248660 4.47221040 185.48126510 4.47744690</td></tr>\n",
       "<tr><td>http://hla.stsci.edu/cgi-bin/getdata.cgi?config=ops&amp;amp;dataset=hst_9379_41_acs_hrc_f330w</td><td>185.47889000000001</td><td>4.4736760000000002</td><td>2</td><td>NGC4303</td><td>ACS/HRC</td><td>HRC-FIX</td><td>F330W</td><td>2</td><td>1200.0</td><td>2003-03-01 23:02:04</td><td>hst_9379_41_acs_hrc_f330w</td><td>9379</td><td>41</td><td>Schmitt</td><td></td><td></td><td>ACCUM</td><td>2016-06-13 09:26:41</td><td>HLA</td><td>3362.6929</td><td>image/fits</td><td>2003-06-01 12:24:38</td><td>1054470278</td><td>9379_41 ACS/HRC F330W (combined) NGC4303</td><td>[1293 1316]</td><td>[6.94444e-06]</td><td>2</td><td>[647.0 658.5]</td><td>[185.47889 4.473676]</td><td>[-6.94444e-06 0.0 0.0 6.94444e-06]</td><td>hst_9379_41_acs_hrc_f330w</td><td>Polygon J2000 185.48137440 4.46925860 185.48337790 4.47709050 185.47637440 4.47813690 185.47437090 4.47030490</td></tr>\n",
       "<tr><td>http://hla.stsci.edu/cgi-bin/getdata.cgi?config=ops&amp;amp;dataset=hst_9379_41_acs_hrc_total</td><td>185.47889000000001</td><td>4.4736760000000002</td><td>2</td><td>NGC4303</td><td>ACS/HRC</td><td>HRC-FIX</td><td>detection</td><td>2</td><td>1200.0</td><td>2003-03-01 23:02:04</td><td>hst_9379_41_acs_hrc_total</td><td>9379</td><td>41</td><td>Schmitt</td><td></td><td></td><td>ACCUM</td><td>2016-06-13 09:26:41</td><td>HLA</td><td>--</td><td>image/fits</td><td>2003-06-01 12:24:38</td><td>1054470278</td><td>9379_41 ACS/HRC detection (combined) NGC4303</td><td>[1293 1316]</td><td>[6.94444e-06]</td><td>2</td><td>[647.0 658.5]</td><td>[185.47889 4.473676]</td><td>[-6.94444e-06 0.0 0.0 6.94444e-06]</td><td>hst_9379_41_acs_hrc_total</td><td>Polygon J2000 185.47637440 4.47813690 185.47437090 4.47030490 185.48137440 4.46925860 185.48337790 4.47709050</td></tr>\n",
       "<tr><td>http://hla.stsci.edu/cgi-bin/getdata.cgi?config=ops&amp;amp;dataset=hst_9776_21_acs_hrc_f555w</td><td>185.47873999999999</td><td>4.4736339999999997</td><td>2</td><td>NGC4303</td><td>ACS/HRC</td><td>HRC</td><td>F555W</td><td>3</td><td>1200.0</td><td>2004-05-24 07:57:47</td><td>hst_9776_21_acs_hrc_f555w</td><td>9776</td><td>21</td><td>Richstone</td><td>Loaded</td><td>Loaded</td><td>ACCUM</td><td>2016-06-12 13:40:44</td><td>HLA</td><td>5355.6099000000004</td><td>image/fits</td><td>2005-05-24 12:57:51</td><td>1116939471</td><td>9776_21 ACS/HRC F555W (combined) NGC4303</td><td>[1545 1556]</td><td>[6.94444e-06]</td><td>2</td><td>[772.5 778.0]</td><td>[185.47874 4.473634]</td><td>[-6.94444e-06 0.0 0.0 6.94444e-06]</td><td>hst_9776_21_acs_hrc_f555w</td><td>Polygon J2000 185.48411480 4.47533950 185.47784490 4.47861990 185.47337480 4.47187930 185.47964460 4.46859890</td></tr>\n",
       "<tr><td>http://hla.stsci.edu/cgi-bin/getdata.cgi?config=ops&amp;amp;dataset=hst_9776_21_acs_hrc_f814w</td><td>185.47873999999999</td><td>4.4736339999999997</td><td>2</td><td>NGC4303</td><td>ACS/HRC</td><td>HRC</td><td>F814W</td><td>3</td><td>1200.0</td><td>2004-05-24 07:34:21</td><td>hst_9776_21_acs_hrc_f814w</td><td>9776</td><td>21</td><td>Richstone</td><td>Loaded</td><td>Loaded</td><td>ACCUM</td><td>2016-06-12 13:40:44</td><td>HLA</td><td>8115.4434000000001</td><td>image/fits</td><td>2005-05-24 12:56:50</td><td>1116939410</td><td>9776_21 ACS/HRC F814W (combined) NGC4303</td><td>[1545 1556]</td><td>[6.94444e-06]</td><td>2</td><td>[772.5 778.0]</td><td>[185.47874 4.473634]</td><td>[-6.94444e-06 0.0 0.0 6.94444e-06]</td><td>hst_9776_21_acs_hrc_f814w</td><td>Polygon J2000 185.47337490 4.47187920 185.47964430 4.46859920 185.48411460 4.47533960 185.47784520 4.47861960</td></tr>\n",
       "<tr><td>http://hla.stsci.edu/cgi-bin/getdata.cgi?config=ops&amp;amp;dataset=hst_9776_21_acs_hrc_total</td><td>185.47873999999999</td><td>4.4736339999999997</td><td>2</td><td>NGC4303</td><td>ACS/HRC</td><td>HRC</td><td>detection</td><td>6</td><td>2400.0</td><td>2004-05-24 07:34:21</td><td>hst_9776_21_acs_hrc_total</td><td>9776</td><td>21</td><td>Richstone</td><td>Loaded</td><td>Loaded</td><td>ACCUM</td><td>2016-06-12 13:40:44</td><td>HLA</td><td>--</td><td>image/fits</td><td>2005-05-24 12:57:51</td><td>1116939471</td><td>9776_21 ACS/HRC detection (combined) NGC4303</td><td>[1545 1556]</td><td>[6.94444e-06]</td><td>2</td><td>[772.5 778.0]</td><td>[185.47874 4.473634]</td><td>[-6.94444e-06 0.0 0.0 6.94444e-06]</td><td>hst_9776_21_acs_hrc_total</td><td>Polygon J2000 185.48411480 4.47533950 185.47784490 4.47861990 185.47337480 4.47187930 185.47964460 4.46859890</td></tr>\n",
       "<tr><td>http://hla.stsci.edu/cgi-bin/fitscut.cgi?red=hst_9776_21_acs_hrc_f814w&amp;amp;blue=hst_9776_21_acs_hrc_f555w&amp;amp;size=ALL&amp;amp;format=fits&amp;amp;config=ops</td><td>185.47873999999999</td><td>4.4736339999999997</td><td>4</td><td>NGC4303</td><td>ACS/HRC</td><td>HRC</td><td>F814W/F555W</td><td>6</td><td>2400.0</td><td>2004-05-24 07:34:21</td><td>hst_9776_21_acs_hrc_f814w_f555w</td><td>9776</td><td>21</td><td>Richstone</td><td>Loaded</td><td>Loaded</td><td>ACCUM</td><td>2016-06-12 13:40:44</td><td>HLA</td><td>254.170816981</td><td>image/fits</td><td>2005-05-24 12:56:50</td><td>1116939410</td><td>9776_21 ACS/HRC F814W/F555W (color) NGC4303</td><td>[1545 1556]</td><td>[6.94444e-06]</td><td>2</td><td>[772.5 778.0]</td><td>[185.47874 4.473634]</td><td>[-6.94444e-06 0.0 0.0 6.94444e-06]</td><td>hst_9776_21_acs_hrc_f814w,hst_9776_21_acs_hrc_f555w</td><td>Polygon J2000 185.47337490 4.47187920 185.47964430 4.46859920 185.48411460 4.47533960 185.47784520 4.47861960</td></tr>\n",
       "</table>"
      ],
      "text/plain": [
       "<Table masked=True length=20>\n",
       "                                                                           URL                                                                            ...\n",
       "                                                                                                                                                          ...\n",
       "                                                                          object                                                                          ...\n",
       "--------------------------------------------------------------------------------------------------------------------------------------------------------- ...\n",
       "                                                              http://hla.stsci.edu/cgi-bin/getdata.cgi?config=ops&amp;dataset=hst_05446_4d_wfpc2_f606w_wf ...\n",
       "                                                              http://hla.stsci.edu/cgi-bin/getdata.cgi?config=ops&amp;dataset=hst_05446_4d_wfpc2_total_wf ...\n",
       "                                                              http://hla.stsci.edu/cgi-bin/getdata.cgi?config=ops&amp;dataset=hst_06358_08_wfpc2_f218w_wf ...\n",
       "                                                              http://hla.stsci.edu/cgi-bin/getdata.cgi?config=ops&amp;dataset=hst_06358_08_wfpc2_total_wf ...\n",
       "                                                              http://hla.stsci.edu/cgi-bin/getdata.cgi?config=ops&amp;dataset=hst_09042_62_wfpc2_f450w_wf ...\n",
       "                                                              http://hla.stsci.edu/cgi-bin/getdata.cgi?config=ops&amp;dataset=hst_09042_62_wfpc2_f814w_wf ...\n",
       "                                                              http://hla.stsci.edu/cgi-bin/getdata.cgi?config=ops&amp;dataset=hst_09042_62_wfpc2_total_wf ...\n",
       "http://hla.stsci.edu/cgi-bin/fitscut.cgi?red=hst_09042_62_wfpc2_f814w_wf&amp;blue=hst_09042_62_wfpc2_f450w_wf&amp;size=ALL&amp;format=fits&amp;config=ops ...\n",
       "                                                               http://hla.stsci.edu/cgi-bin/getdata.cgi?config=ops&amp;dataset=hst_12574_01_acs_wfc_f435w ...\n",
       "                                                               http://hla.stsci.edu/cgi-bin/getdata.cgi?config=ops&amp;dataset=hst_12574_01_acs_wfc_f814w ...\n",
       "                                                               http://hla.stsci.edu/cgi-bin/getdata.cgi?config=ops&amp;dataset=hst_12574_01_acs_wfc_total ...\n",
       "  http://hla.stsci.edu/cgi-bin/fitscut.cgi?red=hst_12574_01_acs_wfc_f814w&amp;blue=hst_12574_01_acs_wfc_f435w&amp;size=ALL&amp;format=fits&amp;config=ops ...\n",
       "                                                               http://hla.stsci.edu/cgi-bin/getdata.cgi?config=ops&amp;dataset=HST_7330_2u_NIC_NIC2_F160W ...\n",
       "                                                               http://hla.stsci.edu/cgi-bin/getdata.cgi?config=ops&amp;dataset=HST_7330_2u_NIC_NIC2_total ...\n",
       "                                                                http://hla.stsci.edu/cgi-bin/getdata.cgi?config=ops&amp;dataset=hst_9379_41_acs_hrc_f330w ...\n",
       "                                                                http://hla.stsci.edu/cgi-bin/getdata.cgi?config=ops&amp;dataset=hst_9379_41_acs_hrc_total ...\n",
       "                                                                http://hla.stsci.edu/cgi-bin/getdata.cgi?config=ops&amp;dataset=hst_9776_21_acs_hrc_f555w ...\n",
       "                                                                http://hla.stsci.edu/cgi-bin/getdata.cgi?config=ops&amp;dataset=hst_9776_21_acs_hrc_f814w ...\n",
       "                                                                http://hla.stsci.edu/cgi-bin/getdata.cgi?config=ops&amp;dataset=hst_9776_21_acs_hrc_total ...\n",
       "    http://hla.stsci.edu/cgi-bin/fitscut.cgi?red=hst_9776_21_acs_hrc_f814w&amp;blue=hst_9776_21_acs_hrc_f555w&amp;size=ALL&amp;format=fits&amp;config=ops ..."
      ]
     },
     "execution_count": 43,
     "metadata": {},
     "output_type": "execute_result"
    }
   ],
   "source": [
    "url = short_list[0]['access_url']\n",
    "ra = 185.47873\n",
    "dec = 4.47365\n",
    "size = 0\n",
    "\n",
    "sia_results = sia_query(url, ra, dec, size, print_url=True)\n",
    "\n",
    "sia_results\n"
   ]
  },
  {
   "cell_type": "markdown",
   "metadata": {},
   "source": [
    "# Display Some Results"
   ]
  },
  {
   "cell_type": "code",
   "execution_count": null,
   "metadata": {
    "collapsed": true
   },
   "outputs": [],
   "source": []
  }
 ],
 "metadata": {
  "kernelspec": {
   "display_name": "Python 3",
   "language": "python",
   "name": "python3"
  },
  "language_info": {
   "codemirror_mode": {
    "name": "ipython",
    "version": 3
   },
   "file_extension": ".py",
   "mimetype": "text/x-python",
   "name": "python",
   "nbconvert_exporter": "python",
   "pygments_lexer": "ipython3",
   "version": "3.6.1"
  }
 },
 "nbformat": 4,
 "nbformat_minor": 2
}
