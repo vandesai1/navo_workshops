{
 "cells": [
  {
   "cell_type": "markdown",
   "metadata": {},
   "source": [
    "# Accessing data from NASA Astrophysics Archives Using Python"
   ]
  },
  {
   "cell_type": "markdown",
   "metadata": {},
   "source": [
    "NASA missions have collected a huge amount of data spanning a large range in wavelengths. These data are housed in four different archives: the HEASARC, MAST, IRSA, NED. However, different physical locations are not an obstacle for astronomers doing multiwavelength science projects that need to make use of data from different archives. The archives have been working together to make sure that you don’t need to know too much about us to get the data you need to work together. We’ve done this by standardizing the way that programs can access the data we house. Since python is a very popular programming language, we are going to use it to show you how you can take advantage of this standardization to put together and analyze a multiwavelength data set. For this workshop, we are using a sample of interacting galaxies, and we will assemble a multiwavelength data set for it. You can generalize this example to much larger data sets of your own."
   ]
  },
  {
   "cell_type": "markdown",
   "metadata": {},
   "source": [
    "## TODO / QUESTIONS\n",
    "\n",
    "Questions:\n",
    "\n",
    "-What is the point of info like ivo://irsa.ipac/2mass/images/asky-at ?\n",
    "\n",
    "-For SIA, how can I automatically tell if an SIA registry is SIA1 or SIA2, without a human reading about it?\n",
    "\n",
    "-How do I deal with annoying warnings?\n",
    "\n",
    "MAST questions:\n",
    "-galex returns files from several surveys that must be filtered out at some point. There may be a survey parameter.\n",
    "\n",
    "HEASARC questions:\n",
    "\n",
    "-swiftuvot doesn't work with the same queries that I use for the rest. Tess sent me something, but I haven't spent enough time on it to make it work.\n",
    "\n",
    "-The registry doesn't give me the correct swiftuvot url.\n",
    "\n",
    "\n",
    "IRSA issues:\n",
    "\n",
    "-2mass and wise don't accept format = image/fits even though the docs say they should. Have a query out to Walter. Meanwhile, galex returns lots of non-fits files that have to either be filtered out in the query (but then that breaks 2MASS and WISE) or after the query before writing the files (because that takes too long)\n",
    "\n",
    "-IRSA SIA1 resources are not in the registry! Walter is working on it.\n",
    "\n",
    "\n",
    "General TODO\n",
    "\n",
    "-Each archive should provide base urls for their most popular data sets. For instance, it would be cool to get the HLA, SEIP in here.\n",
    "\n",
    "-Get Table upload TAP example to work.\n",
    "\n",
    "-test simple cone search example from HEASARC. Could change to galex for balance. Or Spitzer to see if there are any spectra available. Could leave as exercises or just add to IRSA examples.\n",
    "\n",
    "-test SSA example from HEASARC.\n",
    "\n",
    "-Make sure there is balance between archives for examples.\n",
    "\n",
    "-Make the notebook look nice.\n",
    "\n",
    "-Create instructions for participants, and test on someone.\n",
    "\n"
   ]
  },
  {
   "cell_type": "markdown",
   "metadata": {},
   "source": [
    "<a id='toc'></a>"
   ]
  },
  {
   "cell_type": "markdown",
   "metadata": {},
   "source": [
    "\n",
    "<a href='#availabledatasets'>1. Available Data Sets</a>\n",
    "\n",
    "<a href='#availabledatasets'>2. Sample of Interacting Galaxies</a>\n",
    "\n",
    "<a href = \"#ned\">3. Data Discovery -- NASA Extragalactic Database</a> What, if anything, should I do about the warnings?\n",
    "\n",
    "<a href = \"#registry\">4. Data Discovery -- The Registry</a><BR>\n",
    "<a href = \"#registryheasarc\">4a. Search the registry for simple image access resources available from HEASARC</a><BR>\n",
    "<a href = \"#registryallwise\">4b. Search the registry for AllWISE</a><BR>\n",
    "<a href = \"#registrymultiwavelength\">4c. Search the registry for several specific data sets</a><BR> How do I make this long line look nicer?<BR>\n",
    "<a href = \"#registryreplace\">4d. Replace wrong data sets</a> SHOULD BE ABLE TO REMOVE WHEN REGISTRY ISSUES FIXED<BR>\n",
    "<a href = \"#registryremove\">4e. Remove bad data sets</a> SHOULD BE ABLE TO REMOVE WHEN REGISTRY ISSUES FIXED<BR>\n",
    "\n",
    "\n",
    "<a href = \"#simpleimageaccess\">5. Simple Image Access</a> HAVING A HARD TIME WITH CONSISTENCY OF FORMAT=image/fits<BR>\n",
    "\n",
    "<a href = \"#ucd\">6. Universal Common Descriptors (UCDs)</a>\n",
    "\n",
    "<a href = \"#fetch\">7. Retrieve the images that you found</a>\n",
    "\n",
    "<a href = \"#multiwavelengthsearch\">8. Search a list of data sets for images that cover a position on the sky</a> LOTS OF WARNINGS HERE, TOO.<BR>\n",
    "\n",
    "<a href = \"#cutouts\">9. Make Cutouts</a> UNWANTED MESSAGES HERE.<BR>\n",
    "\n",
    "<a href = \"#simpleconesearch\">10. Catalogs: Simple Cone Search</a> NEED A SCIENTIFICALLY MOTIVATED TABLE FOR THIS FROM HEASARC OR MAST TO KEEP IT BALANCED.<BR>\n",
    "\n",
    "<a href = \"#tableaccessprotocol\">11. Catalogs: Table Access Protocol</a> NOT QUITE FINISHED with second example (table upload)<BR>\n",
    "<a href = \"#tapexample1\">11a. Simple TAP Query</a> <BR>\n",
    "<a href = \"#tapexample2\">11b. Table upload TAP Query</a> <BR>\n",
    "\n",
    "<a href = \"#ssa\">12. Simple Spectral Access</a>\n"
   ]
  },
  {
   "cell_type": "markdown",
   "metadata": {},
   "source": [
    "<a id='availabledatasets'></a>"
   ]
  },
  {
   "cell_type": "markdown",
   "metadata": {},
   "source": [
    "## 1. Available Data Sets\n",
    "\n",
    "Many data sets are public.\n",
    "\n",
    "NED: google for galaxies\n",
    "\n",
    "HEASARC: High Energy\n",
    "\n",
    "MAST: optical, near-infrared\n",
    "\n",
    "IRSA: far-infrared, submillimeter\n",
    "\n",
    "Can these be links to those notebooks?\n"
   ]
  },
  {
   "cell_type": "markdown",
   "metadata": {},
   "source": [
    "<a href = \"#toc\">Table of Contents</a>"
   ]
  },
  {
   "cell_type": "markdown",
   "metadata": {},
   "source": [
    "## 2. Sample of Interacting Galaxies"
   ]
  },
  {
   "cell_type": "code",
   "execution_count": null,
   "metadata": {
    "collapsed": false
   },
   "outputs": [],
   "source": [
    "from astropy.io import ascii\n",
    "list_of_galaxies = ascii.read('interacting_gals.csv', delimiter=',')  \n",
    "print(list_of_galaxies)     "
   ]
  },
  {
   "cell_type": "markdown",
   "metadata": {},
   "source": [
    "<a href = \"#toc\">Table of Contents</a>"
   ]
  },
  {
   "cell_type": "markdown",
   "metadata": {},
   "source": [
    "<a id='ned'></a>"
   ]
  },
  {
   "cell_type": "markdown",
   "metadata": {},
   "source": [
    "## 3. Data Discovery: NASA Extragalactic Database"
   ]
  },
  {
   "cell_type": "code",
   "execution_count": null,
   "metadata": {
    "collapsed": false
   },
   "outputs": [],
   "source": [
    "from astropy.io import ascii\n",
    "list_of_galaxies = ascii.read('interacting_gals.csv', delimiter=',')  \n",
    "print(list_of_galaxies)     "
   ]
  },
  {
   "cell_type": "code",
   "execution_count": 159,
   "metadata": {
    "collapsed": false,
    "scrolled": true
   },
   "outputs": [
    {
     "name": "stdout",
     "output_type": "stream",
     "text": [
      " \n",
      "0\n"
     ]
    },
    {
     "name": "stderr",
     "output_type": "stream",
     "text": [
      "WARNING: W20: None:9:0: W20: No version number specified in file.  Assuming 1.3 [astropy.io.votable.tree]\n",
      "WARNING: W41: None:9:0: W41: An XML namespace is specified, but is incorrect.  Expected 'http://www.ivoa.net/xml/VOTable/v1.3', got 'http://www.ivoa.net/xml/VOTable/v1.2' [astropy.io.votable.tree]\n",
      "WARNING: W22: None:15:0: W22: The DEFINITIONS element is deprecated in VOTable 1.1.  Ignoring [astropy.io.votable.tree]\n",
      "WARNING: W27: None:16:0: W27: COOSYS deprecated in VOTable 1.2 [astropy.io.votable.tree]\n",
      "WARNING: W35: None:22:0: W35: 'value' attribute required for INFO elements [astropy.io.votable.tree]\n",
      "WARNING: W35: None:23:0: W35: 'value' attribute required for INFO elements [astropy.io.votable.tree]\n",
      "WARNING: W35: None:24:0: W35: 'value' attribute required for INFO elements [astropy.io.votable.tree]\n",
      "WARNING: W04: None:28:0: W04: content-type 'char' must be a valid MIME content type [astropy.io.votable.xmlutil]\n",
      "WARNING: W42: None:2:0: W42: No XML namespace specified [astropy.io.votable.tree]\n",
      "WARNING: W22: None:3:0: W22: The DEFINITIONS element is deprecated in VOTable 1.1.  Ignoring [astropy.io.votable.tree]\n",
      "WARNING: W04: None:17:0: W04: content-type 'char' must be a valid MIME content type [astropy.io.votable.xmlutil]\n"
     ]
    },
    {
     "name": "stdout",
     "output_type": "stream",
     "text": [
      "DataSpectralPassBand\n",
      "--------------------\n",
      "      FUV (GALEX) AB\n",
      "      FUV (GALEX) AB\n",
      "      NUV (GALEX) AB\n",
      "      NUV (GALEX) AB\n",
      "                 m_p\n",
      "             B (m_B)\n",
      "           B (m_B^0)\n",
      "                   I\n",
      "                   I\n",
      "  J_14arcsec (2MASS)\n",
      "                   J\n",
      "                   J\n",
      "                   H\n",
      "  H_14arcsec (2MASS)\n",
      "                   H\n",
      "                 K_s\n",
      "K_s_14arcsec (2MASS)\n",
      "                 K_s\n",
      " \n",
      "1\n",
      "DataSpectralPassBand\n",
      "--------------------\n",
      "                 m_p\n",
      "   V (Johnson) (OAN)\n",
      "   R (Cousins) (OAN)\n",
      "   I (Cousins) (OAN)\n",
      "                   J\n",
      "  J_14arcsec (2MASS)\n",
      "                   J\n",
      "  H_14arcsec (2MASS)\n",
      "                   H\n",
      "                   H\n",
      "K_s_14arcsec (2MASS)\n",
      "                 K_s\n",
      "                 K_s\n",
      "  4.5 microns (IRAC)\n",
      "  4.5 microns (IRAC)\n",
      "  5.8 microns (IRAC)\n",
      "  5.8 microns (IRAC)\n",
      "  8.0 microns (IRAC)\n",
      "  8.0 microns (IRAC)\n",
      "              1.4GHz\n",
      " \n",
      "2\n",
      "DataSpectralPassBand\n",
      "--------------------\n",
      "      FUV (GALEX) AB\n",
      "      FUV (GALEX) AB\n",
      "      NUV (GALEX) AB\n",
      "      NUV (GALEX) AB\n",
      " \n",
      "3\n",
      "DataSpectralPassBand\n",
      "--------------------\n",
      "      FUV (GALEX) AB\n",
      "      FUV (GALEX) AB\n",
      "      NUV (GALEX) AB\n",
      "      NUV (GALEX) AB\n",
      "     u (SDSS PSF) AB\n",
      "   u (SDSS Model) AB\n",
      "  u (SDSS CModel) AB\n",
      "u (SDSS Petrosian)AB\n",
      "     u (SDSS PSF) AB\n",
      "  u (SDSS CModel) AB\n",
      "                 ...\n",
      "  3.6 microns (IRAC)\n",
      "  3.6 microns (IRAC)\n",
      "  4.5 microns (IRAC)\n",
      "  4.5 microns (IRAC)\n",
      "  5.8 microns (IRAC)\n",
      "  5.8 microns (IRAC)\n",
      "  8.0 microns (IRAC)\n",
      "  8.0 microns (IRAC)\n",
      "   24 microns (MIPS)\n",
      "   24 microns (MIPS)\n",
      "       1.4 GHz (VLA)\n",
      "Length = 68 rows\n",
      " \n",
      "4\n",
      "DataSpectralPassBand\n",
      "--------------------\n",
      "      FUV (GALEX) AB\n",
      "      FUV (GALEX) AB\n",
      "      FUV (GALEX) AB\n",
      "      FUV (GALEX) AB\n",
      "      NUV (GALEX) AB\n",
      "      NUV (GALEX) AB\n",
      "      NUV (GALEX) AB\n",
      "      NUV (GALEX) AB\n",
      " \n",
      "5\n",
      "DataSpectralPassBand\n",
      "--------------------\n",
      "      FUV (GALEX) AB\n",
      "      FUV (GALEX) AB\n",
      "      NUV (GALEX) AB\n",
      "      NUV (GALEX) AB\n",
      "     u (SDSS PSF) AB\n",
      "   u (SDSS Model) AB\n",
      "  u (SDSS CModel) AB\n",
      "u (SDSS Petrosian)AB\n",
      "     g (SDSS PSF) AB\n",
      "   g (SDSS Model) AB\n",
      "                 ...\n",
      "   z (SDSS Model) AB\n",
      "z (SDSS Petrosian)AB\n",
      "  J_14arcsec (2MASS)\n",
      "                   J\n",
      "                   J\n",
      "  H_14arcsec (2MASS)\n",
      "                   H\n",
      "                   H\n",
      "K_s_14arcsec (2MASS)\n",
      "                 K_s\n",
      "                 K_s\n",
      "Length = 34 rows\n",
      " \n",
      "6\n",
      "DataSpectralPassBand\n",
      "--------------------\n",
      "      FUV (GALEX) AB\n",
      "      FUV (GALEX) AB\n",
      "      NUV (GALEX) AB\n",
      "      NUV (GALEX) AB\n",
      " \n",
      "7\n",
      "DataSpectralPassBand\n",
      "--------------------\n",
      "      FUV (GALEX) AB\n",
      "      FUV (GALEX) AB\n",
      "      FUV (GALEX) AB\n",
      "      FUV (GALEX) AB\n",
      "      NUV (GALEX) AB\n",
      "      NUV (GALEX) AB\n",
      "      NUV (GALEX) AB\n",
      "      NUV (GALEX) AB\n",
      "     u (SDSS PSF) AB\n",
      "  u (SDSS CModel) AB\n",
      "                 ...\n",
      "                   J\n",
      "                   H\n",
      "  H_14arcsec (2MASS)\n",
      "                   H\n",
      "                 K_s\n",
      "K_s_14arcsec (2MASS)\n",
      "                 K_s\n",
      "   12 microns (IRAS)\n",
      "   60 microns (IRAS)\n",
      "  100 microns (IRAS)\n",
      "              1.4GHz\n",
      "Length = 38 rows\n",
      " \n",
      "8\n",
      "DataSpectralPassBand\n",
      "--------------------\n",
      "      FUV (GALEX) AB\n",
      "      FUV (GALEX) AB\n",
      "      NUV (GALEX) AB\n",
      "      NUV (GALEX) AB\n",
      " \n",
      "9\n",
      "DataSpectralPassBand\n",
      "--------------------\n",
      "     u (SDSS PSF) AB\n",
      "   u (SDSS Model) AB\n",
      "  u (SDSS CModel) AB\n",
      "u (SDSS Petrosian)AB\n",
      "     u (SDSS PSF) AB\n",
      "  u (SDSS CModel) AB\n",
      "   u (SDSS Model) AB\n",
      "                 m_p\n",
      "             B (m_B)\n",
      "           B (m_B^0)\n",
      "                 ...\n",
      "     z (SDSS PSF) AB\n",
      "   z (SDSS Model) AB\n",
      "                   J\n",
      "                   J\n",
      "  J_14arcsec (2MASS)\n",
      "  H_14arcsec (2MASS)\n",
      "                   H\n",
      "                   H\n",
      "K_s_14arcsec (2MASS)\n",
      "                 K_s\n",
      "                 K_s\n",
      "Length = 49 rows\n",
      " \n",
      "10\n",
      "DataSpectralPassBand\n",
      "--------------------\n",
      "  2-10 keV (Chandra)\n",
      "  2-10 keV (Chandra)\n",
      " 0.5-2 keV (Chandra)\n",
      "      FUV (GALEX) AB\n",
      "      FUV (GALEX) AB\n",
      "      FUV (GALEX) AB\n",
      "     UVW2 (Swift) AB\n",
      "     UVW2 (Swift) AB\n",
      "      NUV (GALEX) AB\n",
      "     UVM2 (Swift) AB\n",
      "                 ...\n",
      "  22 microns WISE AB\n",
      "  22 microns WISE AB\n",
      "  24 microns MIPS AB\n",
      "  24 microns MIPS AB\n",
      "   24 microns (MIPS)\n",
      "   24 microns (MIPS)\n",
      "            2380 MHz\n",
      "              1.4GHz\n",
      "              1.4GHz\n",
      "              1.4GHz\n",
      "       1.4 GHz (VLA)\n",
      "Length = 99 rows\n",
      " \n",
      "11\n",
      "DataSpectralPassBand\n",
      "--------------------\n",
      "      FUV (GALEX) AB\n",
      "      FUV (GALEX) AB\n",
      "      FUV (GALEX) AB\n",
      "      FUV (GALEX) AB\n",
      "      NUV (GALEX) AB\n",
      "      NUV (GALEX) AB\n",
      "      NUV (GALEX) AB\n",
      "      NUV (GALEX) AB\n",
      "     u (SDSS PSF) AB\n",
      "   u (SDSS Model) AB\n",
      "                 ...\n",
      "                   J\n",
      "  H_14arcsec (2MASS)\n",
      "                   H\n",
      "                   H\n",
      "K_s_14arcsec (2MASS)\n",
      "                 K_s\n",
      "                 K_s\n",
      "   24 microns (MIPS)\n",
      "   24 microns (MIPS)\n",
      "              1.4GHz\n",
      "              1.4GHz\n",
      "Length = 63 rows\n",
      " \n",
      "12\n",
      "DataSpectralPassBand\n",
      "--------------------\n",
      "              1.4GHz\n",
      " \n",
      "13\n",
      "DataSpectralPassBand\n",
      "--------------------\n",
      "     u (SDSS PSF) AB\n",
      "   u (SDSS Model) AB\n",
      "  u (SDSS CModel) AB\n",
      "u (SDSS Petrosian)AB\n",
      "     u (SDSS PSF) AB\n",
      "  u (SDSS CModel) AB\n",
      "   u (SDSS Model) AB\n",
      "             U (U_T)\n",
      "           U (U_T^0)\n",
      "                 m_p\n",
      "                 ...\n",
      "                 K_s\n",
      "  3.6 microns (IRAC)\n",
      "  3.6 microns (IRAC)\n",
      "  4.5 microns (IRAC)\n",
      "  4.5 microns (IRAC)\n",
      "  5.8 microns (IRAC)\n",
      "  5.8 microns (IRAC)\n",
      "  8.0 microns (IRAC)\n",
      "  8.0 microns (IRAC)\n",
      "   24 microns (MIPS)\n",
      "   24 microns (MIPS)\n",
      "Length = 66 rows\n",
      " \n",
      "14\n",
      "DataSpectralPassBand\n",
      "--------------------\n",
      "      FUV (GALEX) AB\n",
      "      FUV (GALEX) AB\n",
      "      NUV (GALEX) AB\n",
      "      NUV (GALEX) AB\n",
      " \n",
      "15\n",
      "DataSpectralPassBand\n",
      "--------------------\n",
      "     u (SDSS PSF) AB\n",
      "     g (SDSS PSF) AB\n",
      "     r (SDSS PSF) AB\n",
      "     i (SDSS PSF) AB\n",
      "     z (SDSS PSF) AB\n",
      " \n",
      "16\n",
      "DataSpectralPassBand\n",
      "--------------------\n",
      "     u (SDSS PSF) AB\n",
      "   u (SDSS Model) AB\n",
      "  u (SDSS CModel) AB\n",
      "u (SDSS Petrosian)AB\n",
      "             B (m_B)\n",
      "           B (m_B^0)\n",
      "                 m_p\n",
      " B (Johnson) Burrell\n",
      "     g (SDSS PSF) AB\n",
      "   g (SDSS Model) AB\n",
      "                 ...\n",
      "  J_14arcsec (2MASS)\n",
      "  H_14arcsec (2MASS)\n",
      "                   H\n",
      "                   H\n",
      "K_s_14arcsec (2MASS)\n",
      "                 K_s\n",
      "                 K_s\n",
      "   25 microns (IRAS)\n",
      "   60 microns (IRAS)\n",
      "              1.4GHz\n",
      "       1.4 GHz (VLA)\n",
      "Length = 38 rows\n",
      " \n",
      "17\n",
      "DataSpectralPassBand\n",
      "--------------------\n",
      "      FUV (GALEX) AB\n",
      "      FUV (GALEX) AB\n",
      "      NUV (GALEX) AB\n",
      "      NUV (GALEX) AB\n",
      " \n",
      "18\n",
      "DataSpectralPassBand\n",
      "--------------------\n",
      "      FUV (GALEX) AB\n",
      "      FUV (GALEX) AB\n",
      "      NUV (GALEX) AB\n",
      "      NUV (GALEX) AB\n",
      " \n",
      "19\n",
      "DataSpectralPassBand\n",
      "--------------------\n",
      "      NUV (GALEX) AB\n",
      "      NUV (GALEX) AB\n",
      "     u (SDSS PSF) AB\n",
      "  u (SDSS CModel) AB\n",
      "   u (SDSS Model) AB\n",
      "     g (SDSS PSF) AB\n",
      "  g (SDSS CModel) AB\n",
      "   g (SDSS Model) AB\n",
      "     r (SDSS PSF) AB\n",
      "  r (SDSS CModel) AB\n",
      "                 ...\n",
      "   z (SDSS Model) AB\n",
      "                   J\n",
      "  J_14arcsec (2MASS)\n",
      "                   J\n",
      "                   H\n",
      "  H_14arcsec (2MASS)\n",
      "                   H\n",
      "                 K_s\n",
      "K_s_14arcsec (2MASS)\n",
      "                 K_s\n",
      "       1.4 GHz (VLA)\n",
      "Length = 27 rows\n",
      " \n",
      "20\n",
      "DataSpectralPassBand\n",
      "--------------------\n",
      "      FUV (GALEX) AB\n",
      "      NUV (GALEX) AB\n",
      "      NUV (GALEX) AB\n",
      " \n",
      "21\n",
      "DataSpectralPassBand\n",
      "--------------------\n",
      "                J_pg\n",
      "                F_pg\n",
      "                   J\n",
      "  J_14arcsec (2MASS)\n",
      "                   J\n",
      "  H_14arcsec (2MASS)\n",
      "                   H\n",
      "                   H\n",
      "K_s_14arcsec (2MASS)\n",
      "                 K_s\n",
      "                 K_s\n",
      " \n",
      "22\n",
      "DataSpectralPassBand\n",
      "--------------------\n",
      "      FUV (GALEX) AB\n",
      "      FUV (GALEX) AB\n",
      "      NUV (GALEX) AB\n",
      "      NUV (GALEX) AB\n",
      " \n",
      "23\n",
      "DataSpectralPassBand\n",
      "--------------------\n",
      "                   J\n",
      "                   J\n",
      "  J_14arcsec (2MASS)\n",
      "                   H\n",
      "                   H\n",
      "  H_14arcsec (2MASS)\n",
      "                 K_s\n",
      "                 K_s\n",
      "K_s_14arcsec (2MASS)\n",
      "              1.4GHz\n",
      "       1.4 GHz (VLA)\n",
      " \n",
      "24\n",
      "DataSpectralPassBand\n",
      "--------------------\n",
      "      FUV (GALEX) AB\n",
      "      FUV (GALEX) AB\n",
      "      FUV (GALEX) AB\n",
      "      FUV (GALEX) AB\n",
      "      NUV (GALEX) AB\n",
      "      NUV (GALEX) AB\n",
      "      NUV (GALEX) AB\n",
      "      NUV (GALEX) AB\n",
      "                   J\n",
      "  J_14arcsec (2MASS)\n",
      "                 ...\n",
      "K_s_14arcsec (2MASS)\n",
      "  3.6 microns (IRAC)\n",
      "  3.6 microns (IRAC)\n",
      "  4.5 microns (IRAC)\n",
      "  4.5 microns (IRAC)\n",
      "  5.8 microns (IRAC)\n",
      "  5.8 microns (IRAC)\n",
      "  8.0 microns (IRAC)\n",
      "  8.0 microns (IRAC)\n",
      "   24 microns (MIPS)\n",
      "   24 microns (MIPS)\n",
      "Length = 27 rows\n",
      " \n",
      "25\n",
      "DataSpectralPassBand\n",
      "--------------------\n",
      " 0.3-8 keV (Chandra)\n",
      " \n",
      "26\n",
      "DataSpectralPassBand\n",
      "--------------------\n",
      "      FUV (GALEX) AB\n",
      "      FUV (GALEX) AB\n",
      "      NUV (GALEX) AB\n",
      "      NUV (GALEX) AB\n",
      "                 m_p\n",
      "             B (m_B)\n",
      "           B (m_B^0)\n",
      "                   I\n",
      "                   I\n",
      "  J_14arcsec (2MASS)\n",
      "                   J\n",
      "                   J\n",
      "                   H\n",
      "  H_14arcsec (2MASS)\n",
      "                   H\n",
      "                 K_s\n",
      "K_s_14arcsec (2MASS)\n",
      "                 K_s\n",
      " \n",
      "27\n",
      "DataSpectralPassBand\n",
      "--------------------\n",
      "      FUV (GALEX) AB\n",
      "      FUV (GALEX) AB\n",
      "      NUV (GALEX) AB\n",
      "      NUV (GALEX) AB\n",
      " \n",
      "28\n",
      "DataSpectralPassBand\n",
      "--------------------\n",
      "      FUV (GALEX) AB\n",
      "      FUV (GALEX) AB\n",
      "      FUV (GALEX) AB\n",
      "      FUV (GALEX) AB\n",
      "      NUV (GALEX) AB\n",
      "      NUV (GALEX) AB\n",
      "      NUV (GALEX) AB\n",
      "      NUV (GALEX) AB\n",
      "           U (U_T^0)\n",
      "             U (U_T)\n",
      "                 ...\n",
      "  3.6 microns (IRAC)\n",
      "  3.6 microns (IRAC)\n",
      "  4.5 microns (IRAC)\n",
      "  4.5 microns (IRAC)\n",
      "  5.8 microns (IRAC)\n",
      "  5.8 microns (IRAC)\n",
      "  8.0 microns (IRAC)\n",
      "  8.0 microns (IRAC)\n",
      "   24 microns (MIPS)\n",
      "   24 microns (MIPS)\n",
      "       1.4 GHz (VLA)\n",
      "Length = 35 rows\n",
      " \n",
      "29\n",
      "DataSpectralPassBand\n",
      "--------------------\n",
      "      FUV (GALEX) AB\n",
      "      FUV (GALEX) AB\n",
      "      NUV (GALEX) AB\n",
      "      NUV (GALEX) AB\n",
      "      NUV (GALEX) AB\n",
      "           U (U_T^0)\n",
      "             U (U_T)\n",
      "                 m_p\n",
      "             B (B_T)\n",
      "             B (m_B)\n",
      "                 ...\n",
      "         R (Johnson)\n",
      "  J_14arcsec (2MASS)\n",
      "                   J\n",
      "                   J\n",
      "                   H\n",
      "                   H\n",
      "  H_14arcsec (2MASS)\n",
      "                 K_s\n",
      "K_s_14arcsec (2MASS)\n",
      "                 K_s\n",
      "            2380 MHz\n",
      "Length = 29 rows\n"
     ]
    }
   ],
   "source": [
    "import requests\n",
    "import io\n",
    "from astropy.table import Table\n",
    "import urllib.parse\n",
    "ned_base_url = 'http://vo.ned.ipac.caltech.edu'\n",
    "search_radius = 5.0 / 3600.0\n",
    "i = 0\n",
    "for galaxies in list_of_galaxies:\n",
    "    print(' ')\n",
    "    print(i)\n",
    "    position = str(galaxies['ra'])+','+str(galaxies['dec'])\n",
    "    ned_objects_url = ned_base_url + '/services/querySED?REQUEST=queryData&POS='+position+'&SIZE='+str(search_radius)\n",
    "    ned_objects_response = requests.get(ned_objects_url)\n",
    "    if ned_objects_response.status_code == 200:\n",
    "        ned_objects_table = Table.read(io.BytesIO(ned_objects_response.content))\n",
    "        ned_targetname_url = ned_base_url+urllib.parse.quote(ned_objects_table[0]['ACREF'], safe = '/,&,?,=')\n",
    "        if len(ned_objects_table) > 0: \n",
    "            ned_data_response = requests.get(ned_targetname_url)\n",
    "            if ned_data_response.status_code == 200:\n",
    "                ned_data_table = Table.read(io.BytesIO(ned_data_response.content))\n",
    "                print(ned_data_table['DataSpectralPassBand'])\n",
    "    i = i + 1\n"
   ]
  },
  {
   "cell_type": "markdown",
   "metadata": {},
   "source": [
    "<a href = \"#toc\">Table of Contents</a>"
   ]
  },
  {
   "cell_type": "markdown",
   "metadata": {},
   "source": [
    "<a id='registry'></a>"
   ]
  },
  {
   "cell_type": "markdown",
   "metadata": {},
   "source": [
    "## 4. Data Discovery -- The Registry\n",
    "\n",
    "Archives register their data sets so that programs can discover them:\n",
    "http://vao.stsci.edu/keyword-search/\n",
    "\n",
    "The link above is a GUI, so you can play around with it. There is also an applications program interface (API) to this service, so that programs can send queries and retrieve search results automatically."
   ]
  },
  {
   "cell_type": "markdown",
   "metadata": {},
   "source": [
    "<a id='registryheasarc'></a>"
   ]
  },
  {
   "cell_type": "markdown",
   "metadata": {},
   "source": [
    "### 4a. Find all simple image access data sets from HEASARC."
   ]
  },
  {
   "cell_type": "code",
   "execution_count": 29,
   "metadata": {
    "collapsed": false
   },
   "outputs": [
    {
     "data": {
      "text/markdown": [
       "### 2MASS ASKY AT (ivo://irsa.ipac/2mass/images/asky-at)"
      ],
      "text/plain": [
       "<IPython.core.display.Markdown object>"
      ]
     },
     "metadata": {},
     "output_type": "display_data"
    },
    {
     "name": "stdout",
     "output_type": "stream",
     "text": [
      "This service provides access to and information about the 2MASS All-Sky Atlas Images. Atlas Images delivered by this service are in FITS format and contain full WCS information in their headers. Additionally, the image headers contain photometric zero point information. 2MASS Atlas Images are suitable for quantitative photometric measurements.\n",
      "(More info: b'https://irsa.ipac.caltech.edu/applications/2MASS/IM')\n"
     ]
    },
    {
     "data": {
      "text/markdown": [
       "### 2MASS QL (ivo://irsa.ipac/2mass/images/asky-ql)"
      ],
      "text/plain": [
       "<IPython.core.display.Markdown object>"
      ]
     },
     "metadata": {},
     "output_type": "display_data"
    },
    {
     "name": "stdout",
     "output_type": "stream",
     "text": [
      "This service provides access to and information about the 2MASS All-Sky Quicklook Images. The Quicklook Images delivered by this service are restored from lossy-compressed files in FITS format with full WCS information contained in the image headers. These images are suitable for position measurements, finding charts and visual inspection of the near-infrared sky.\n",
      "(More info: b'https://irsa.ipac.caltech.edu/applications/2MASS/IM')\n"
     ]
    },
    {
     "data": {
      "text/markdown": [
       "### Abell 1763 (ivo://irsa.ipac/spitzer/images/abell1763)"
      ],
      "text/plain": [
       "<IPython.core.display.Markdown object>"
      ]
     },
     "metadata": {},
     "output_type": "display_data"
    },
    {
     "name": "stdout",
     "output_type": "stream",
     "text": [
      "This data set includes images of the galaxy cluster Abell 1763 at visible and infrared wavelengths: r', J, H, and Ks obtained using the Palomar 200in telescope, as well as the IRAC and MIPS images from Spitzer. The cluster is covered out to approximately 3 virial radii with deep 24 mum imaging (a 5sigma depth of 0.2 mJy). This same field of ~40' × 40' is covered in all four IRAC bands as well as the longer wavelength MIPS bands (70 and 160 mum). The r' imaging covers ~0.8 deg2 down to 25.5 mag, and overlaps with most of the MIPS field of view. The J, H, and Ks images cover the cluster core and roughly half of the filament galaxies, which extend toward the neighboring cluster, Abell 1770.\n",
      "(More info: b'https://irsa.ipac.caltech.edu/data/SPITZER/Abell1763')\n"
     ]
    },
    {
     "data": {
      "text/markdown": [
       "### ACMC (ivo://irsa.ipac/herschel/images/acmc)"
      ],
      "text/plain": [
       "<IPython.core.display.Markdown object>"
      ]
     },
     "metadata": {},
     "output_type": "display_data"
    },
    {
     "name": "stdout",
     "output_type": "stream",
     "text": [
      "The Auriga-California molecular cloud is a large region of relatively modest star formation that is part of the Gould Belt. The Herschel Space Observatory program OT1_pharvey01_3 (\"The Auriga-California Molecular Cloud: A Massive Nearby Cloud With Powerful Diagnostics For Early Stages of Star Formation\", PI Paul Harvey) observed a 14.5 square degree area of the cloud in five far-infrared bands.\n",
      "(More info: b'https://irsa.ipac.caltech.edu/data/Herschel/ACMC')\n"
     ]
    },
    {
     "data": {
      "text/markdown": [
       "### AllWISE L3a (ivo://irsa.ipac/wise/images/allwise/l3a)"
      ],
      "text/plain": [
       "<IPython.core.display.Markdown object>"
      ]
     },
     "metadata": {},
     "output_type": "display_data"
    },
    {
     "name": "stdout",
     "output_type": "stream",
     "text": [
      "The AllWISE program builds upon the work of the successful Wide-field Infrared Survey Explorer mission (WISE; Wright et al. 2010) by combining data from the WISE cryogenic and NEOWISE (Mainzer et al. 2011 ApJ, 731, 53) post-cryogenic survey phases to form the most comprehensive view of the full mid-infrared sky currently available. By combining the data from two complete sky coverage epochs using an advanced data processing system, AllWISE has generated new products that have enhanced photometric sensitivity and accuracy, and improved astrometric precision compared to the 2012 WISE All-Sky Data Release. Exploiting the 6 to 12 month baseline between the WISE sky coverage epochs enables AllWISE to measure source motions for the first time, and to compute improved flux variability statistics. The AllWISE Images Atlas is comprised of 18,240 4-band calibrated 1.56°x1.56° FITS images, depth-of-coverage and noise maps, and image metadata produced by coadding nearly 7.9 million Single-exposure images from all survey phases.\n",
      "(More info: b'http://wise2.ipac.caltech.edu/docs/release/allwise/expsup/')\n"
     ]
    },
    {
     "data": {
      "text/markdown": [
       "### BOLOCAM_GPS (ivo://irsa.ipac/bolocam_gps/images)"
      ],
      "text/plain": [
       "<IPython.core.display.Markdown object>"
      ]
     },
     "metadata": {},
     "output_type": "display_data"
    },
    {
     "name": "stdout",
     "output_type": "stream",
     "text": [
      "The Bolocam Galactic Plane Survey (BGPS) is a 1.1 mm continuum survey of the Galactic Plane made using Bolocam on the Caltech Submillimeter Observatory. Millimeter-wavelength thermal dust emission reveals the repositories of the densest molecular gas, ranging in scale from cores to whole clouds. By pinpointing these regions, the connection of this gas to nascent and ongoing star formation may be explored. The BGPS coverage totals 170 square degrees (with 33\" FWHM effective resolution). The survey is contiguous over the range -10.5 = l = 90.5, |b| = 0.5. Towards the Cygnus X spiral arm, the coverage was flared to |b| = 1.5 for 75.5 = l = 87.5. In addition, cross-cuts to |b| = 1.5 were made at l = 3, 15, 30 and 31. The total area of this section is 133 square degrees. With the exception of the increase in latitude, no pre-selection criteria were applied to the coverage in this region. In addition to the contiguous region, four targeted regions in the outer Galaxy were observed: IC1396 (9 square degrees, 97.5 = l = 100.5, 2.25 = l = 5.25), a region towards the Perseus Arm (4 square degrees centered on l = 111, b=0 near NGC7538), W3/4/5 (18 square degrees, 132.5 = l = 138.5) and Gem OB1 (6 square degrees, 187.5 = l = 193.5). The survey has detected approximately 8,400 sources, to an rms noise level in the maps ranging from 30 to 60 mJy beam-1. The BGPS survey and catalog provide an important database for sub/millimeter observations with the Herschel Space Observatory, ALMA, SCUBA-2, APEX, and others.\n",
      "(More info: b'https://irsa.ipac.caltech.edu/data/BOLOCAM_GPS')\n"
     ]
    },
    {
     "data": {
      "text/markdown": [
       "### C2D (ivo://irsa.ipac/spitzer/images/c2d)"
      ],
      "text/plain": [
       "<IPython.core.display.Markdown object>"
      ]
     },
     "metadata": {},
     "output_type": "display_data"
    },
    {
     "name": "stdout",
     "output_type": "stream",
     "text": [
      "The c2d Spitzer Legacy project obtained images and photometry with both IRAC and MIPS instruments for five large, nearby molecular clouds. Three of the clouds were also mapped in dust continuum emission at 1.1 mm, and optical spectroscopy has been obtained for some clouds.\n",
      "(More info: b'https://irsa.ipac.caltech.edu/data/SPITZER/C2D')\n"
     ]
    },
    {
     "data": {
      "text/markdown": [
       "### CLASH (ivo://irsa.ipac/spitzer/images/clash)"
      ],
      "text/plain": [
       "<IPython.core.display.Markdown object>"
      ]
     },
     "metadata": {},
     "output_type": "display_data"
    },
    {
     "name": "stdout",
     "output_type": "stream",
     "text": [
      "The Cluster Lensing And Supernova survey with Hubble (CLASH) is an HST Multi-Cycle Treasury program (PI: Marc Postman) to survey 25 massive galaxy clusters at 16 wavelengths spanning from the near-UV to the near-IR (Postman et al. (2012)). The full HST dataset and associated catalogs and gravitational lens models are available at MAST. A series of programs with Spitzer have covered all CLASH galaxy clusters with IRAC Channels 1 and 2 (3.6 and 4.5 micron). Several of the targets include Channels 3 and 4 (5.8 and 8 micron) data. Spitzer mosaics, catalogs, and PSF images are available at IRSA.\n",
      "(More info: b'https://irsa.ipac.caltech.edu/data/SPITZER/CLASH')\n"
     ]
    },
    {
     "data": {
      "text/markdown": [
       "### Cold Cores (ivo://irsa.ipac/herschel/images/coldcores)"
      ],
      "text/plain": [
       "<IPython.core.display.Markdown object>"
      ]
     },
     "metadata": {},
     "output_type": "display_data"
    },
    {
     "name": "stdout",
     "output_type": "stream",
     "text": [
      "Herschel Data from the \"Galactic Cold Cores: A Herschel Survey of the Source Populations Revealed by Planck\" (Cold Cores) Open-Time Key Program are available here. IRSA is serving the Cold Cores imaging of 115 PACS and 116 SPIRE fields containing Planck cold dust detections. This is Herschel program KPOT_mjuvela_1.\n",
      "(More info: b'https://irsa.ipac.caltech.edu/data/Herschel/ColdCores')\n"
     ]
    },
    {
     "data": {
      "text/markdown": [
       "### COSMOS (ivo://irsa.ipac/cosmos/images)"
      ],
      "text/plain": [
       "<IPython.core.display.Markdown object>"
      ]
     },
     "metadata": {},
     "output_type": "display_data"
    },
    {
     "name": "stdout",
     "output_type": "stream",
     "text": [
      "The COSMOS Archive serves data taken for the Cosmic Evolution Survey with HST (COSMOS) project, using IRSA's general search service, Atlas. COSMOS is an HST Treasury Project to survey a 2 square degree equatorial field with the ACS camera.\n",
      "(More info: b'https://irsa.ipac.caltech.edu/data/COSMOS')\n"
     ]
    },
    {
     "data": {
      "text/markdown": [
       "### Cygnus-X (ivo://irsa.ipac/spitzer/images/cygnus-x)"
      ],
      "text/plain": [
       "<IPython.core.display.Markdown object>"
      ]
     },
     "metadata": {},
     "output_type": "display_data"
    },
    {
     "name": "stdout",
     "output_type": "stream",
     "text": [
      "The Cygnus-X region is one of the brightest regions of the sky at all wavelengths and one of the richest known regions of star formation of the Galaxy. The goals of the Cygnus-X survey are to provide a detailed picture of the processes that govern the evolution of massive star forming complexes, to study star formation in the massive star forming complex environment, and to provide a rich sample of intermediate to high mass protostars spanning the full range of protostellar evolution. The project will also allow us to assess the role of feedback in a massive OB star/molecular cloud complex. The survey imaged a ~24 square degree region centered near 20:30:25, +40:00 (J2000). The IRAC images had a median coverage of 3x12s high dynamic range (HDR) frames, and the MIPS data were taken in fast scanning mode in the 24 and 70 µm bands.\n",
      "(More info: b'https://irsa.ipac.caltech.edu/data/SPITZER/Cygnus-X')\n"
     ]
    },
    {
     "data": {
      "text/markdown": [
       "### DUNES (ivo://irsa.ipac/herschel/images/dunes)"
      ],
      "text/plain": [
       "<IPython.core.display.Markdown object>"
      ]
     },
     "metadata": {},
     "output_type": "display_data"
    },
    {
     "name": "stdout",
     "output_type": "stream",
     "text": [
      "The DUst around NEarby Stars (DUNES, Eiroa et al. 2013) Herschel Open Time Key Program (KPOT_ceiroa_1) is a survey of 133 stars in 130 fields with the Herschel/PACS photometer. All target stars were observed with the PACS 100 and 160 micron filters. A subset of stars were additionally observed with the PACS 70 micron filter and the SPIRE 250, 350 and 500 micron filters.\n",
      "(More info: b'https://irsa.ipac.caltech.edu/data/Herschel/DUNES')\n"
     ]
    },
    {
     "data": {
      "text/markdown": [
       "### DUSTiNGS (ivo://irsa.ipac/spitzer/images/dustings)"
      ],
      "text/plain": [
       "<IPython.core.display.Markdown object>"
      ]
     },
     "metadata": {},
     "output_type": "display_data"
    },
    {
     "name": "stdout",
     "output_type": "stream",
     "text": [
      "DUSTiNGS consists of a sample of 50 dwarf galaxies within 1.5 Mpc, which have been mapped with IRAC channels 1 and 2 (3.6 and 4.5 microns). The sample consists of 37 dwarf spheroidal, 8 dwarf irregular, and 5 transition-type galaxies. The DUSTiNGS data release includes images and source catalogs based on uniform Spitzer 3.6 and 4.5 micron observations.\n",
      "(More info: b'https://irsa.ipac.caltech.edu/data/SPITZER/DUSTiNGS')\n"
     ]
    },
    {
     "data": {
      "text/markdown": [
       "### EIGA (ivo://irsa.ipac/iras/images/eiga)"
      ],
      "text/plain": [
       "<IPython.core.display.Markdown object>"
      ]
     },
     "metadata": {},
     "output_type": "display_data"
    },
    {
     "name": "stdout",
     "output_type": "stream",
     "text": [
      "The Extended IRAS Galaxy Atlas (EIGA) is an extension of the original IRAS Galaxy Atlas (IGA) to b = 6.7 deg.. High resolution images at 60 microns and 100 microns have been produced to match the latitude coverage of radio continuum observations obtained as part of the Canadian Galactic Plane Survey (CGPS). Also associated with the EIGA and IGA is the Mid-Infrared Galaxy Atlas (MIGA).\n",
      "(More info: b'https://irsa.ipac.caltech.edu/data/EIGA')\n"
     ]
    },
    {
     "data": {
      "text/markdown": [
       "### FEPS (ivo://irsa.ipac/spitzer/images/feps)"
      ],
      "text/plain": [
       "<IPython.core.display.Markdown object>"
      ]
     },
     "metadata": {},
     "output_type": "display_data"
    },
    {
     "name": "stdout",
     "output_type": "stream",
     "text": [
      "The Formation and Evolution of Planetary Systems (FEPS) Spitzer Legacy program was designed to characterize the evolution of circumstellar gas and dust around solar-type stars between ages of 3 Myr and 3 Gyr. To achieve these goals, FEPS obtained spectrophotometric observations with the Spitzer Space Telescope for a sample of 328 stars. The observing strategy was to measure the spectral energy distribution (SED) between wavelengths of 3.6 and 70 µm with IRAC and MIPS photometry, and between 8 and 35 µm with low-resolution IRS spectra. In addition, the FEPS program obtained MIPS 160 µm photometry for 80 stars to search for colder dust, and high-resolution IRS spectra for 33 sources to probe for circumstellar gas.\n",
      "(More info: b'https://irsa.ipac.caltech.edu/data/SPITZER/FEPS')\n"
     ]
    },
    {
     "data": {
      "text/markdown": [
       "### FIDEL (ivo://irsa.ipac/spitzer/images/fidel)"
      ],
      "text/plain": [
       "<IPython.core.display.Markdown object>"
      ]
     },
     "metadata": {},
     "output_type": "display_data"
    },
    {
     "name": "stdout",
     "output_type": "stream",
     "text": [
      "Far-Infrared Deep Extragalactic Legacy Survey (FIDEL) contains sensitive and extensive far-infrared deep field observations with Spitzer to detect warm dust emission from hundreds of relatively ordinary starburst galaxies and active galactic nuclei at redshifts of 1 to 2 (7 to 10 billion years ago), and thousands more nearby. The survey also detected tens of thousands of high redshift objects at mid-infrared wavelengths. The program obtained data in three fields on the sky. The bulk of the data is in two fields, the Extended Chandra Deep Field South (ECDFS) and the Extended Groth Strip (EGS). A smaller amount of additional data was obtained in the GOODS-North area.\n",
      "(More info: b'https://irsa.ipac.caltech.edu/data/SPITZER/FIDEL')\n"
     ]
    },
    {
     "data": {
      "text/markdown": [
       "### FLS (ivo://irsa.ipac/spitzer/images/fls)"
      ],
      "text/plain": [
       "<IPython.core.display.Markdown object>"
      ]
     },
     "metadata": {},
     "output_type": "display_data"
    },
    {
     "name": "stdout",
     "output_type": "stream",
     "text": [
      "The Spitzer Extragalactic First Look Survey is composed of 4 square degrees of imaging with MIPS and IRAC centered at J1718+5930. Ancillary data are available from a wide variety of optical and radio observatories.\n",
      "(More info: b'https://irsa.ipac.caltech.edu/data/SPITZER/FLS')\n"
     ]
    },
    {
     "data": {
      "text/markdown": [
       "### Frontier (ivo://irsa.ipac/spitzer/images/frontier)"
      ],
      "text/plain": [
       "<IPython.core.display.Markdown object>"
      ]
     },
     "metadata": {},
     "output_type": "display_data"
    },
    {
     "name": "stdout",
     "output_type": "stream",
     "text": [
      "The Frontier Fields is a Spitzer and HST Director's Discretionary program of six deep fields centered on strong lensing galaxy clusters in parallel with six deep \"blank fields\". These will be the second deepest observations of blank fields and deepest observations of clusters and their lensed galaxies ever obtained. The first data release contains all archival data taken on these six clusters as well as data taken for the cycle-9 SURFS-UP (PID:90009) program as of April 1, 2013. Improved reductions with better artifact correction and deeper data will be released periodically over the three year period. IRSA hosts the Spitzer portion of the Frontier Fields data set. For the HST Frontier Fields data, see MAST.\n",
      "(More info: b'https://irsa.ipac.caltech.edu/data/SPITZER/Frontier')\n"
     ]
    },
    {
     "data": {
      "text/markdown": [
       "### GLIMPSE (ivo://irsa.ipac/spitzer/images/glimpse)"
      ],
      "text/plain": [
       "<IPython.core.display.Markdown object>"
      ]
     },
     "metadata": {},
     "output_type": "display_data"
    },
    {
     "name": "stdout",
     "output_type": "stream",
     "text": [
      "The Galactic Legacy Infrared Midplane Survey Extraordinaire (GLIMPSE) program covered the Galactic plane with the Spitzer IRAC instrument. GLIMPSEI covered 220 sq. degrees at |l|=10d-65d and b=-1d - +1d. GLIMPSEII covered the Galactic Center, l=-10d - +10d. GLIMPSE3D added vertical extensions, typically to |b|&lt;+3d. GLIMPSE360 covered the outer Galaxy (l=65d-265d) with IRAC 3.6 micron and 4.5 micron imaging. The Vela-Carina program covered l=255d-295d.\n",
      "(More info: b'https://irsa.ipac.caltech.edu/data/SPITZER/GLIMPSE')\n"
     ]
    },
    {
     "data": {
      "text/markdown": [
       "### GOALS (ivo://irsa.ipac/spitzer/images/goals)"
      ],
      "text/plain": [
       "<IPython.core.display.Markdown object>"
      ]
     },
     "metadata": {},
     "output_type": "display_data"
    },
    {
     "name": "stdout",
     "output_type": "stream",
     "text": [
      "The Great Observatories All-sky LIRG Survey (GOALS) combines imaging and spectroscopic data from NASA’s Spitzer, Hubble, Chandra and GALEX observatories in a comprehensive survey of over 200 of the most luminous infrared-selected galaxies in the local Universe.\n",
      "(More info: b'https://irsa.ipac.caltech.edu/data/SPITZER/GOALS')\n"
     ]
    },
    {
     "data": {
      "text/markdown": [
       "### GOALS (ivo://irsa.ipac/goals/images)"
      ],
      "text/plain": [
       "<IPython.core.display.Markdown object>"
      ]
     },
     "metadata": {},
     "output_type": "display_data"
    },
    {
     "name": "stdout",
     "output_type": "stream",
     "text": [
      "The GOALS sample consists of a total of 179 LIRGs (log (L_IR/L_sun) = 11.0-11.99) and 22 ultra-luminous infrared galaxies (ULIRGs: log (L_IR/L_sun) &gt; 12.0) selected from the IRAS Revised Bright Galaxy Sample; these 201 objects comprise a statistically complete flux-limited sample of infrared-luminous galaxies in the local universe. The GOALS objects have been the subject of an intense multi-wavelength observing campaign, including space-based imaging and spectroscopy from Spitzer and Herschel.\n",
      "(More info: b'https://irsa.ipac.caltech.edu/data/GOALS')\n"
     ]
    },
    {
     "data": {
      "text/markdown": [
       "### GOODS (ivo://irsa.ipac/spitzer/images/goods)"
      ],
      "text/plain": [
       "<IPython.core.display.Markdown object>"
      ]
     },
     "metadata": {},
     "output_type": "display_data"
    },
    {
     "name": "stdout",
     "output_type": "stream",
     "text": [
      "The Great Observatories Origins Deep Survey (GOODS) aims to unite extremely deep observations from NASA's Great Observatories (Spitzer, Hubble and Chandra), ESA's Herschel and XMM-Newton, and the most powerful ground-based facilities. The aim is to survey the distant universe to the faintest flux limits across the broadest range of wavelengths.\n",
      "(More info: b'https://irsa.ipac.caltech.edu/data/SPITZER/GOODS')\n"
     ]
    },
    {
     "data": {
      "text/markdown": [
       "### H-ATLAS (ivo://irsa.ipac/herschel/images/h-atlas)"
      ],
      "text/plain": [
       "<IPython.core.display.Markdown object>"
      ]
     },
     "metadata": {},
     "output_type": "display_data"
    },
    {
     "name": "stdout",
     "output_type": "stream",
     "text": [
      "The Herschel Astrophysical Terahertz Large Area Survey (H-ATLAS) is a survey of 600 deg^2 in five photometric bands - 100, 160, 250, 350 and 500 microns - with the Photoconductor Array Camera and Spectrometer (PACS) and Spectral and Photometric Imaging Receiver (SPIRE) cameras. H-ATLAS DR1 includes the survey of three fields on the celestial equator, covering a total area of 161.6 deg^2 and previously observed in the Galaxy and Mass Assembly (GAMA) spectroscopic survey.\n",
      "(More info: b'https://irsa.ipac.caltech.edu/data/Herschel/H-ATLAS/')\n"
     ]
    },
    {
     "data": {
      "text/markdown": [
       "### HELGA (ivo://irsa.ipac/herschel/images/helga)"
      ],
      "text/plain": [
       "<IPython.core.display.Markdown object>"
      ]
     },
     "metadata": {},
     "output_type": "display_data"
    },
    {
     "name": "stdout",
     "output_type": "stream",
     "text": [
      "HELGA observed Andromeda on a 5.5x2.5 degree field, an area ~4.5 larger with respect to any previous IR observations, with SPIRE and PACS fast scan Parallel Mode, thus obtaining the most complete FIR survey of this galaxy both in terms of spatial mapping and spectral coverage.\n",
      "(More info: b'https://irsa.ipac.caltech.edu/data/Herschel/HELGA')\n"
     ]
    },
    {
     "data": {
      "text/markdown": [
       "### HERITAGE (ivo://irsa.ipac/herschel/images/heritage)"
      ],
      "text/plain": [
       "<IPython.core.display.Markdown object>"
      ]
     },
     "metadata": {},
     "output_type": "display_data"
    },
    {
     "name": "stdout",
     "output_type": "stream",
     "text": [
      "The HERschel Inventory of The Agents of Galaxy Evolution (HERITAGE) open time key program mapped the Large Magellanic Cloud (LMC) and Small Magellanic Cloud (SMC) at 100, 160, 250, 350, and 500 microns using Herschel's PACS and SPIRE instruments. The overriding science goal of HERITAGE is to study the life cycle of matter as traced by dust in the LMC and SMC.\n",
      "(More info: b'https://irsa.ipac.caltech.edu/data/Herschel/HERITAGE')\n"
     ]
    },
    {
     "data": {
      "text/markdown": [
       "### HerM33es (ivo://irsa.ipac/herschel/images/herm33es)"
      ],
      "text/plain": [
       "<IPython.core.display.Markdown object>"
      ]
     },
     "metadata": {},
     "output_type": "display_data"
    },
    {
     "name": "stdout",
     "output_type": "stream",
     "text": [
      "Herschel PACS and SPIRE images of M33\n",
      "(More info: b'https://irsa.ipac.caltech.edu/data/Herschel/HerM33es')\n"
     ]
    },
    {
     "data": {
      "text/markdown": [
       "### HerMES (ivo://irsa.ipac/herschel/images/hermes)"
      ],
      "text/plain": [
       "<IPython.core.display.Markdown object>"
      ]
     },
     "metadata": {},
     "output_type": "display_data"
    },
    {
     "name": "stdout",
     "output_type": "stream",
     "text": [
      "The Herschel Multi-tiered Extragalactic Survey (HerMES) is a legacy programme (KPGT_soliver1) designed to map a set of nested fields totalling 380 sq. deg. Fields range in size from 0.01 to 20 sq. deg., using SPIRE at 250, 350 and 500 microns. These bands cover the peak of the redshifted thermal spectral energy distribution from interstellar dust and thus capture the reprocessed optical and ultraviolet radiation from star formation that has been absorbed by dust, and are critical for forming a complete multiwavelength understanding of galaxy formation and evolution.\n",
      "(More info: b'https://irsa.ipac.caltech.edu/data/Herschel/HerMES/')\n"
     ]
    },
    {
     "data": {
      "text/markdown": [
       "### HeVICS (ivo://irsa.ipac/herschel/images/hevics)"
      ],
      "text/plain": [
       "<IPython.core.display.Markdown object>"
      ]
     },
     "metadata": {},
     "output_type": "display_data"
    },
    {
     "name": "stdout",
     "output_type": "stream",
     "text": [
      "HeViCS is a survey of about 55 sq deg of the nearby Virgo galaxy cluster, obtained with the Herschel Space Observatory using the instruments PACS and SPIRE in parallel mode. It provides a wavelength coverage in five bands from about 100 to 600 microns. The science goals include: a) The detection of dust in the intra-cluster medium, b) Extended cold dust around galaxies, c) FIR-submm luminosity functions, d) The UV to sub-mm spectral energy distribution of galaxies of various morphological types, e) The detection of dust in dwarf and giant elliptical galaxies.\n",
      "(More info: b'https://irsa.ipac.caltech.edu/data/Herschel/HeVICS/')\n"
     ]
    },
    {
     "data": {
      "text/markdown": [
       "### HGBS (ivo://irsa.ipac/herschel/images/hgbs)"
      ],
      "text/plain": [
       "<IPython.core.display.Markdown object>"
      ]
     },
     "metadata": {},
     "output_type": "display_data"
    },
    {
     "name": "stdout",
     "output_type": "stream",
     "text": [
      "The Herschel Gould Belt Survey is one of the largest Herschel Key Projects. It conducted extensive far-infrared and submillimeter mapping of nearby molecular clouds with both the SPIRE and PACS instruments. It covered the bulk of the nearest (d &lt;= 0.5 kpc) cloud complexes in the Galaxy, which are mostly located in the Gould Belt, a giant (700 pc by 1000 pc), flat structure inclined by 20d to the Galactic plane.\n",
      "(More info: b'https://irsa.ipac.caltech.edu/data/Herschel/HGBS/')\n"
     ]
    },
    {
     "data": {
      "text/markdown": [
       "### HGOODS (ivo://irsa.ipac/herschel/images/goods)"
      ],
      "text/plain": [
       "<IPython.core.display.Markdown object>"
      ]
     },
     "metadata": {},
     "output_type": "display_data"
    },
    {
     "name": "stdout",
     "output_type": "stream",
     "text": [
      "The Great Observatories Origins Deep Survey (GOODS) aims to unite extremely deep observations from NASA's Great Observatories (Spitzer, Hubble and Chandra), ESA's Herschel and XMM-Newton, and the most powerful ground-based facilities. The aim is to survey the distant universe to the faintest flux limits across the broadest range of wavelengths.\n",
      "(More info: b'https://irsa.ipac.caltech.edu/data/Herschel/GOODS')\n"
     ]
    },
    {
     "data": {
      "text/markdown": [
       "### HHLI (ivo://irsa.ipac/herschel/images/hhli)"
      ],
      "text/plain": [
       "<IPython.core.display.Markdown object>"
      ]
     },
     "metadata": {},
     "output_type": "display_data"
    },
    {
     "name": "stdout",
     "output_type": "stream",
     "text": [
      "The Herschel High Level Images (HHLI) are a subset of the data in the Herschel Science Archive (HSA), the entire contents of which are accessible at IRSA through the Herschel Data Search tool. The HHLI represent PACS and SPIRE image products that have been processed to the highest level available through the Standard Product Generation (SPG) pipeline, version 14.0. They are provided here as a convenient way for users to quickly visualize PACS and SPIRE imaging for any given region on the sky observed by these two instruments.\n",
      "(More info: b'https://irsa.ipac.caltech.edu/data/Herschel/HHLI/')\n"
     ]
    },
    {
     "data": {
      "text/markdown": [
       "### HOPS (ivo://irsa.ipac/herschel/images/hops)"
      ],
      "text/plain": [
       "<IPython.core.display.Markdown object>"
      ]
     },
     "metadata": {},
     "output_type": "display_data"
    },
    {
     "name": "stdout",
     "output_type": "stream",
     "text": [
      "The Herschel Orion Protostar Survey (HOPS, KPOT_tmegeath_2) is a sample of 410 young stellar objects (YSOs) in the Orion molecular clouds, selected from Spitzer data. Most objects have near-infrared photometry from 2MASS, mid- and far-infrared data from Spitzer and Herschel, and submillimeter photometry from APEX; thus, the SEDs cover 1.2 - 870 microns and are used to classify the sample into protostellar classes. Of the 410 YSOs, 330 have Spitzer and Herschel data and are mostly protostars; the remaining objects include likely extragalactic contaminants and faint YSOs. Using mid-IR spectral indices and bolometric temperatures, the sample of 330 YSOs is classified into 92 Class 0 protostars, 125 Class I protostars, 102 flat-spectrum sources, and 11 Class II pre-main-sequence stars. HOPS also implements a simple protostellar model (including a disk in an infalling envelope with outflow cavities) to generate a grid of 30,400 model SEDs and uses it to determine the best-fit model parameters for each protostar.\n",
      "(More info: b'https://irsa.ipac.caltech.edu/data/Herschel/HOPS/')\n"
     ]
    },
    {
     "data": {
      "text/markdown": [
       "### HPDP (ivo://irsa.ipac/herschel/images/hpdp)"
      ],
      "text/plain": [
       "<IPython.core.display.Markdown object>"
      ]
     },
     "metadata": {},
     "output_type": "display_data"
    },
    {
     "name": "stdout",
     "output_type": "stream",
     "text": [
      "Herschel's Heterodyne Instrument for the Far Infrared (HIFI) produced far-infrared spectral maps. HIFI data products automatically processed with the Standard Product Generation (SPG) pipeline are available through the Herschel Data Search. In contrast, the HIFI Highly Processed Data Products (HPDPs) available here have been produced by HIFI instrument scientists using the Herschel Interactive Processing Environment (HIPE), and can be regarded as being as close to science-ready as possible. HPDPs are available for observations taken in the On-The-Fly (OTF) and Dual Beam Switch (DBS) Raster modes during science programs and calibration campaigns, over the Routine and Check-Out phases. The first HPDP delivery (DR1, Nov. 2016) consists of Band 6 and 7 maps.\n",
      "(More info: b'https://irsa.ipac.caltech.edu/data/Herschel/HPDP/')\n"
     ]
    },
    {
     "data": {
      "text/markdown": [
       "### IGA (ivo://irsa.ipac/iras/images/iga)"
      ],
      "text/plain": [
       "<IPython.core.display.Markdown object>"
      ]
     },
     "metadata": {},
     "output_type": "display_data"
    },
    {
     "name": "stdout",
     "output_type": "stream",
     "text": [
      "The IRAS Galaxy Atlas (IGA) is a high resolution image atlas of the Galactic plane at 60 and 100 microns, it has been produced using the IRAS satellite data. The HIRES program was developed by the Infrared Processing and Analysis Center (IPAC) to produce high resolution (~ 1 arcmin) images from IRAS data using the Maximum Correlation Method (H.H. Aumann, J.W. Fowler and M. Melnyk, 1990, Astronomical Journal, 99, 1674).\n",
      "(More info: b'https://irsa.ipac.caltech.edu/data/IGA')\n"
     ]
    },
    {
     "data": {
      "text/markdown": [
       "### IRIS (ivo://irsa.ipac/iras/images/iris)"
      ],
      "text/plain": [
       "<IPython.core.display.Markdown object>"
      ]
     },
     "metadata": {},
     "output_type": "display_data"
    },
    {
     "name": "stdout",
     "output_type": "stream",
     "text": [
      "This new generation of IRAS images, called IRIS, benefits from better zodiacal light subtraction, calibration and zero levels compatible with DIRBE, and better destriping. At 100 microns, the IRIS product is also a significant improvement over the Schlegel et al. (1998) maps. IRIS keeps the full ISSA resolution, includes well calibrated point sources, and the diffuse emission calibration at scales smaller than 1 degree was corrected for the variation of the IRAS detector responsivity with scale and brightness. The uncertainty on the IRIS calibration and zero levels is dominated by the uncertainty of the DIRBE calibration and the accuracy of the zodiacal light model.\n",
      "(More info: b'https://irsa.ipac.caltech.edu/data/IRIS')\n"
     ]
    },
    {
     "data": {
      "text/markdown": [
       "### IRSA SIA (ivo://irsa.ipac/sia)"
      ],
      "text/plain": [
       "<IPython.core.display.Markdown object>"
      ]
     },
     "metadata": {},
     "output_type": "display_data"
    },
    {
     "name": "stdout",
     "output_type": "stream",
     "text": [
      "This is IRSA's implementation of version 2 of the IVOA Simple Image Access (SIA) protocol. Our SIA v2 service allows a rich variety of searches against IRSA's varied holdings.\n",
      "(More info: b'https://irsa.ipac.caltech.edu/ibe/sia.html')\n"
     ]
    },
    {
     "data": {
      "text/markdown": [
       "### ISSA (ivo://irsa.ipac/iras/images/issa)"
      ],
      "text/plain": [
       "<IPython.core.display.Markdown object>"
      ]
     },
     "metadata": {},
     "output_type": "display_data"
    },
    {
     "name": "stdout",
     "output_type": "stream",
     "text": [
      "The IRAS Sky Survey Atlas (ISSA) is a survey of 98% of the sky in four bands with effective wavelengths of 12, 25, 60 and 100 microns, which was done during a ten month period from January to November, 1983. The ISSA covers the sky with 430 fields. Each field is a 12.5 deg. by 12.5 deg. region centered every 10 deg. along declination bands which are spaced 10 deg. apart.\n",
      "(More info: b'https://irsa.ipac.caltech.edu/data/ISSA')\n"
     ]
    },
    {
     "data": {
      "text/markdown": [
       "### IUDF (ivo://irsa.ipac/spitzer/images/iudf)"
      ],
      "text/plain": [
       "<IPython.core.display.Markdown object>"
      ]
     },
     "metadata": {},
     "output_type": "display_data"
    },
    {
     "name": "stdout",
     "output_type": "stream",
     "text": [
      "The IRAC Ultradeep Field (IUDF) combines all ultradeep data ever taken with the Spitzer Infrared Array Camera (IRAC) at 3.6 and 4.5 microns over GOODS-South and the HUDF (+ parallels). The deepest observations come from the IRAC Ultra Deep Field (IUDF, ID 70145, PI Labbe) and IRAC Legacy over GOODS (IGOODS, PID 10076, PI Oesch) programs, combined with archival data from GOODS (PID 194, PI Dickinson), SEDS (PID 60022, PI G. Fazio), S-CANDELS (PID 70204, PI Fazio), ERS (PID 80217, PI Fazio), and UDF2 (PID 30866, PI Bouwens). The combined IRAC images in this data release amount to 1500 hour total integration time, ranging from &gt;50 hour over 150 sq. arcmin, and &gt;100 hour over 60 sq. arcmin, to ~200 hour over 5 - 10 sq. arcmin.\n",
      "(More info: b'https://irsa.ipac.caltech.edu/data/SPITZER/IUDF')\n"
     ]
    },
    {
     "data": {
      "text/markdown": [
       "### KINGFISH (ivo://irsa.ipac/herschel/images/kingfish)"
      ],
      "text/plain": [
       "<IPython.core.display.Markdown object>"
      ]
     },
     "metadata": {},
     "output_type": "display_data"
    },
    {
     "name": "stdout",
     "output_type": "stream",
     "text": [
      "KINGFISH is an imaging and spectroscopic survey of 61 nearby (d&lt;30 Mpc) galaxies, chosen to cover a wide range of galaxy properties and local interstellar medium (ISM) environments found in the nearby universe. Its broad goals are to characterize the ISM of present-day galaxies, the heating and cooling of their gaseous and dust components, and to better understand the physical processes linking star formation and the ISM.\n",
      "(More info: b'https://irsa.ipac.caltech.edu/data/Herschel/KINGFISH')\n"
     ]
    },
    {
     "data": {
      "text/markdown": [
       "### LGA (ivo://irsa.ipac/2mass/images/lga)"
      ],
      "text/plain": [
       "<IPython.core.display.Markdown object>"
      ]
     },
     "metadata": {},
     "output_type": "display_data"
    },
    {
     "name": "stdout",
     "output_type": "stream",
     "text": [
      "The high sensitivity and angular resolution of the 2MASS Large Galaxy Atlas (LGA) images allows closer inspection of diverse stellar populations, large-scale structures such as spirals, bulges, warps and bars, star formation regions and evolution of galaxies. This image atlas represents the first uniform, all-sky, view of galaxies as seen in the near-infrared wavelength window that is most sensitive to the dominant mass component of galaxies.\n",
      "(More info: b'https://irsa.ipac.caltech.edu/data/LGA')\n"
     ]
    },
    {
     "data": {
      "text/markdown": [
       "### LH (ivo://irsa.ipac/2mass/images/lh)"
      ],
      "text/plain": [
       "<IPython.core.display.Markdown object>"
      ]
     },
     "metadata": {},
     "output_type": "display_data"
    },
    {
     "name": "stdout",
     "output_type": "stream",
     "text": [
      "These Lockman Hole (LH) data represent a preliminary analysis of the deep 2MASS observations of this region, and are not a product endorsed by the 2MASS project. These data are described in The Astronomical Journal, Volume 125, Issue 5, pp. 2521-2530 \"A Deep 2MASS survey of the Lockman Hole\" by Beichman et al.\n",
      "(More info: b'https://irsa.ipac.caltech.edu/data/LH')\n"
     ]
    },
    {
     "data": {
      "text/markdown": [
       "### LVL (ivo://irsa.ipac/spitzer/images/lvl)"
      ],
      "text/plain": [
       "<IPython.core.display.Markdown object>"
      ]
     },
     "metadata": {},
     "output_type": "display_data"
    },
    {
     "name": "stdout",
     "output_type": "stream",
     "text": [
      "LVL consists of a sample of 258 galaxies, which have been mapped with both IRAC (4 bands) and MIPS (3 bands). In addition, ancillary data products consisting of images in the narrow-band H-alpha line emission and broad-band R (from the ground) and the UV continuum (2 bands) from GALEX are also available for many of the galaxies.\n",
      "(More info: b'https://irsa.ipac.caltech.edu/data/SPITZER/LVL')\n"
     ]
    },
    {
     "data": {
      "text/markdown": [
       "### M31IRAC (ivo://irsa.ipac/spitzer/images/m31irac)"
      ],
      "text/plain": [
       "<IPython.core.display.Markdown object>"
      ]
     },
     "metadata": {},
     "output_type": "display_data"
    },
    {
     "name": "stdout",
     "output_type": "stream",
     "text": [
      "Spitzer IRAC Observations of the Extended Disk and Halo of M31 (M31 IRAC) covers the major and minor axes of M31 with total lengths of 6.6 and 4.4 degrees, respectively. The M31 IRAC Catalog includes 426,529 sources.\n",
      "(More info: b'https://irsa.ipac.caltech.edu/data/SPITZER/M31IRAC/')\n"
     ]
    },
    {
     "data": {
      "text/markdown": [
       "### MESS (ivo://irsa.ipac/herschel/images/mess)"
      ],
      "text/plain": [
       "<IPython.core.display.Markdown object>"
      ]
     },
     "metadata": {},
     "output_type": "display_data"
    },
    {
     "name": "stdout",
     "output_type": "stream",
     "text": [
      "Herschel data from the \"Mass-loss of Evolved StarS\" (MESS) Guaranteed-Time Key Program are available here. IRSA is serving the MESS PACS imaging of 108 evolved stars. This is Herschel program KPGT_mgroen01_1. The sample of AGB stars has been selected to cover all chemical types (M-, S-, C-stars), variability types (irregular, semi-regular, Miras) and periods, and mass-loss rates. Stars have been selected to have high IRAS fluxes and low background levels.\n",
      "(More info: b'https://irsa.ipac.caltech.edu/data/Herschel/MESS')\n"
     ]
    },
    {
     "data": {
      "text/markdown": [
       "### MIGA (ivo://irsa.ipac/iras/images/miga)"
      ],
      "text/plain": [
       "<IPython.core.display.Markdown object>"
      ]
     },
     "metadata": {},
     "output_type": "display_data"
    },
    {
     "name": "stdout",
     "output_type": "stream",
     "text": [
      "The Mid-Infrared Galaxy Atlas (MIGA) is a high resolution image atlas of the Galactic plane at 12 microns and 25 microns, it has been produced using the HIRES processed infrared data from the IRAS satellite. It is a counterpart to the far-infrared IRAS Galaxy Atlas (IGA) and the Extended IRAS Galaxy Atlas (EIGA).\n",
      "(More info: b'https://irsa.ipac.caltech.edu/data/MIGA')\n"
     ]
    },
    {
     "data": {
      "text/markdown": [
       "### MIPS_LG (ivo://irsa.ipac/spitzer/images/mips_lg)"
      ],
      "text/plain": [
       "<IPython.core.display.Markdown object>"
      ]
     },
     "metadata": {},
     "output_type": "display_data"
    },
    {
     "name": "stdout",
     "output_type": "stream",
     "text": [
      "The MIPS Local Galaxies program compiles the Spitzer MIPS observations of all available galaxies in several Herschel-SPIRE Local Galaxies Guaranteed Time Programs, including the Very Nearby Galaxies Survey (VNGS), Dwarf Galaxy Survey (DGS), Herschel Reference Survey (HRS), and Herschel Virgo Cluster Survey (HeViCS).\n",
      "(More info: b'https://irsa.ipac.caltech.edu/data/SPITZER/MIPS_LG')\n"
     ]
    },
    {
     "data": {
      "text/markdown": [
       "### MIPSGAL (ivo://irsa.ipac/spitzer/images/mipsgal)"
      ],
      "text/plain": [
       "<IPython.core.display.Markdown object>"
      ]
     },
     "metadata": {},
     "output_type": "display_data"
    },
    {
     "name": "stdout",
     "output_type": "stream",
     "text": [
      "MIPSGAL is a survey of the inner 248 square degrees of the Galactic plane at 24 and 70 microns using the MIPS instrument aboard the Spitzer Space Telescope. The survey covers Galactic latitudes of -1° &lt; b &lt; +1° for Galactic longitudes of l &lt; 62° and l &gt; 298°. Version 3.0 of the MIPSGAL data includes mosaics only at 24um, but covering the entire survey region. |b| &lt; 1° is covered for -68° &lt; l &lt; 69°, and |b| &lt; 3° is covered for -8° &lt; l &lt; 9°.\n",
      "(More info: b'https://irsa.ipac.caltech.edu/data/SPITZER/MIPSGAL')\n"
     ]
    },
    {
     "data": {
      "text/markdown": [
       "### MSX (ivo://irsa.ipac/msx/images)"
      ],
      "text/plain": [
       "<IPython.core.display.Markdown object>"
      ]
     },
     "metadata": {},
     "output_type": "display_data"
    },
    {
     "name": "stdout",
     "output_type": "stream",
     "text": [
      "The Midcourse Space Experiment (MSX), a Ballistic Missile Defense Organization satellite, was launched in April 1996. The first ten months of the mission were devoted to mid-infrared observations with a solid hydrogen-cooled telescope. This instrument had five line-scanned focal plane arrays that spanned the spectral region from 4.2 to 26 microns.\n",
      "(More info: b'https://irsa.ipac.caltech.edu/data/MSX')\n"
     ]
    },
    {
     "data": {
      "text/markdown": [
       "### MUSYC (ivo://irsa.ipac/musyc/images)"
      ],
      "text/plain": [
       "<IPython.core.display.Markdown object>"
      ]
     },
     "metadata": {},
     "output_type": "display_data"
    },
    {
     "name": "stdout",
     "output_type": "stream",
     "text": [
      "The Multiwavelength Survey by Yale-Chile (MUSYC) consists of deep optical medium-band and broadband optical and near-IR imaging of the ~30'x30' Extended Chandra Deep Field South. This field includes the GOODS-South field and the Hubble Ultra Deep Field, and covers the same area as the SIMPLE Spitzer Legacy program.\n",
      "(More info: b'https://irsa.ipac.caltech.edu/data/MUSYC')\n"
     ]
    },
    {
     "data": {
      "text/markdown": [
       "### NEOWISE-R L1b (ivo://irsa.ipac/wise/images/neowise-r/l1b)"
      ],
      "text/plain": [
       "<IPython.core.display.Markdown object>"
      ]
     },
     "metadata": {},
     "output_type": "display_data"
    },
    {
     "name": "stdout",
     "output_type": "stream",
     "text": [
      "The Near-Earth Object Wide-field Infrared Survey Explorer Reactivation Mission (NEOWISE; Mainzer et al. 2014, ApJ, 792, 30) is a NASA Planetary Science Division space-based survey to detect, track and characterize asteroids and comets, and to learn more about the population of near-Earth objects that could pose an impact hazard to the Earth. NEOWISE systematically images the sky at 3.4 and 4.6 µm, obtaining multiple independent observations on each location that enable detection of previously known and new solar system small bodies by virtue of the their motion. Because it is an infrared survey, NEOWISE detects asteroid thermal emission and is equally sensitive to high and low albedo objects. The NEOWISE 2015 Data Release is the first annual release of Single-exposure data, and contains all observations from the first year of survey operations, 13 December 2013 to 13 December 2014 UTC. NEOWISE scanned the sky nearly two complete times during this period, accumulating 24 or more independent exposures on each point on the sky. The 2015 NEOWISE Release data products include single-exposure Images - 2,497,867 calibrated 1016x1016 pix @2.75\"/pix FITS image sets for the individual 7.7 sec W1 and W2 NEOWISE survey exposures. Each image set consists of two intensity images, noise maps, and bit-masks indicating pixel use status, one each for the W1 and W2 bands.\n",
      "(More info: b'http://wise2.ipac.caltech.edu/docs/release/neowise/expsup/')\n"
     ]
    },
    {
     "data": {
      "text/markdown": [
       "### PEP (ivo://irsa.ipac/herschel/images/pep)"
      ],
      "text/plain": [
       "<IPython.core.display.Markdown object>"
      ]
     },
     "metadata": {},
     "output_type": "display_data"
    },
    {
     "name": "stdout",
     "output_type": "stream",
     "text": [
      "The PACS Evolutionary Probe (PEP, Lutz et al. 2011) is a Herschel guaranteed time deep extragalactic survey (KPGT_dlutz_1) targeting six among the most popular \"blank fields\", ten lensing clusters of galaxies, and two z ~1 clusters at wavelengths of 100 and 160 microns. PEP includes SPIRE observations of the two z ~1 clusters at wavelengths of 250, 350, and 500 microns. SPIRE coverage of all other fields is available from the HerMES survey (Oliver et al. 2010). In addition, deep SPIRE GOODS-N data are provided by the GOODS-Herschel program (Elbaz et al. 2011).\n",
      "(More info: b'https://irsa.ipac.caltech.edu/data/Herschel/PEP')\n"
     ]
    },
    {
     "data": {
      "text/markdown": [
       "### PHPDP (ivo://irsa.ipac/herschel/images/phpdp)"
      ],
      "text/plain": [
       "<IPython.core.display.Markdown object>"
      ]
     },
     "metadata": {},
     "output_type": "display_data"
    },
    {
     "name": "stdout",
     "output_type": "stream",
     "text": [
      "The main purpose of these Highly Processed Data Products (HPDP) is to improve the quality of the PACS JScanam maps of very extended regions. These regions could not be covered by a single PACS observation (scan + cross-scan) and required several pointings. Examples of these kind of maps are those of the Milky Way, the Orion star forming region and the Large and Small Magellanic Clouds.\n",
      "(More info: b'https://irsa.ipac.caltech.edu/data/Herschel/PHPDP/')\n"
     ]
    },
    {
     "data": {
      "text/markdown": [
       "### S-CANDELS (ivo://irsa.ipac/spitzer/images/s-candels)"
      ],
      "text/plain": [
       "<IPython.core.display.Markdown object>"
      ]
     },
     "metadata": {},
     "output_type": "display_data"
    },
    {
     "name": "stdout",
     "output_type": "stream",
     "text": [
      "The Spitzer-Cosmic Assembly Deep Near-Infrared Extragalactic Legacy Survey (S-CANDELS) is a Spitzer Cycle 8 Exploration Program (PI G. Fazio) that obtained deep IRAC channel 1 and 2 imaging in five widely separated extragalactic fields: the UKIDSS Ultra-Deep Survey (UDS), the Extended Chandra Deep Field South (ECDFS), COSMOS, the HST Deep Field North (HDFN), and the Extended Groth Strip (EGS). S-CANDELS builds upon the existing coverage of these fields obtained as part of the Spitzer Extended Deep Survey (SEDS), a Cycle 6 Exploration Program, by increasing the integration time from 12 hours to a total of 50 hours within a smaller area of 0.16 deg2.\n",
      "(More info: b'https://irsa.ipac.caltech.edu/data/SPITZER/S-CANDELS')\n"
     ]
    },
    {
     "data": {
      "text/markdown": [
       "### S4G (ivo://irsa.ipac/spitzer/images/s4g)"
      ],
      "text/plain": [
       "<IPython.core.display.Markdown object>"
      ]
     },
     "metadata": {},
     "output_type": "display_data"
    },
    {
     "name": "stdout",
     "output_type": "stream",
     "text": [
      "The Spitzer Survey of Stellar Structure in Galaxies (S4G) is a volume-, magnitude-, and size-limited survey of over 2300 nearby galaxies at 3.6 and 4.5µm. This is an extremely deep survey reaching an unprecedented 1s surface brightness limit of µ3.6µm(AB) = 27 mag arcsec-2. This translates to a stellar surface density of &lt;&lt; 1 M? pc-2 ! S4G can thus probe the stellar structure in galaxies in a regime where the gas dominates the stars (typical HI surface density ~ a few M? pc-2).\n",
      "(More info: b'https://irsa.ipac.caltech.edu/data/SPITZER/S4G')\n"
     ]
    },
    {
     "data": {
      "text/markdown": [
       "### SAFIRES (ivo://irsa.ipac/spitzer/images/safires)"
      ],
      "text/plain": [
       "<IPython.core.display.Markdown object>"
      ]
     },
     "metadata": {},
     "output_type": "display_data"
    },
    {
     "name": "stdout",
     "output_type": "stream",
     "text": [
      "The Spitzer Archival FIR Extragalactic Survey (SAFIRES) is an offshoot of the Spitzer Space Telescope Enhanced Imaging Products (SEIP). SAFIRES applies the SEIP project's methods to the remaining two MIPS bands, located at far-infrared wavelengths of 70 and 160 microns. Due to the complexity of far-infrared observations, these bands require an expansion of SEIP's standard pipeline through the addition of reprocessing tools. These additional steps are required to remove obvious artifacts before extracting useful measurements. As a result, these bands were not included in the SEIP project, but were later funded through an additional NASA Astrophysics Data Analysis Program (ADAP) grant. To ensure high reliability, the SAFIRES sample includes no fields near the Galactic disk; these observations comprised more than half of the area observed by Spitzer, but the practical drawbacks of Galactic contamination would inhibit the ability to maintain the level of reliability desired in the SAFIRES products. As with SEIP, the SAFIRES source lists contains no extended sources. The remaining sample comprises nearly 1132 fields spanning almost 180 square degrees of sky.\n",
      "(More info: b'https://irsa.ipac.caltech.edu/data/SPITZER/SAFIRES')\n"
     ]
    },
    {
     "data": {
      "text/markdown": [
       "### SAG-4 (ivo://irsa.ipac/herschel/images/sag-4)"
      ],
      "text/plain": [
       "<IPython.core.display.Markdown object>"
      ]
     },
     "metadata": {},
     "output_type": "display_data"
    },
    {
     "name": "stdout",
     "output_type": "stream",
     "text": [
      "The goal of the \"Evolution of interstellar dust\" guaranteed time key project (PI: A. Abergel &amp; A. Zavagno) is to explore with Herschel the far-infrared (FIR) to submillimeter (submm) emission properties of dust particles in a wide range of regions within our Galaxy, from very diffuse clouds to sites of star formation and proto-stars. Photometric data taken with SPIRE and PACS are complemented with spectroscopy using the FTS of SPIRE and PACS to derive the physical conditions of the gas from the lines of [CI], the high-level rotational lines of CO, and the major cooling lines of [CII] and [OI].\n",
      "(More info: b'https://irsa.ipac.caltech.edu/data/Herschel/SAG-4/')\n"
     ]
    },
    {
     "data": {
      "text/markdown": [
       "### SAGE (ivo://irsa.ipac/spitzer/images/sage)"
      ],
      "text/plain": [
       "<IPython.core.display.Markdown object>"
      ]
     },
     "metadata": {},
     "output_type": "display_data"
    },
    {
     "name": "stdout",
     "output_type": "stream",
     "text": [
      "The Surveying the Agents of a Galaxy's Evolution (SAGE) survey covers the Large Magellanic Cloud (LMC; ~7deg×7deg) using the IRAC (3.6, 4.5, 5.8, and 8 mum) and MIPS (24, 70, and 160 mum) instruments on board the Spitzer Space Telescope. Three key science goals determined the coverage and depth of the survey. The detection of diffuse ISM with column densities &gt;1.2×1021 H cm-2 permits detailed studies of dust processes in the ISM. SAGE's point-source sensitivity enables a complete census of newly formed stars with masses &gt;3 Msolar that will determine the current star formation rate in the LMC. SAGE's detection of evolved stars with mass-loss rates &gt;1×10-8 Msolar yr-1 will quantify the rate at which evolved stars inject mass into the ISM of the LMC. The observing strategy includes two epochs in 2005, separated by 3 months, that both mitigate instrumental artifacts and constrain source variability.\n",
      "(More info: b'https://irsa.ipac.caltech.edu/data/SPITZER/SAGE')\n"
     ]
    },
    {
     "data": {
      "text/markdown": [
       "### SAGE-SMC (ivo://irsa.ipac/spitzer/images/sage-smc)"
      ],
      "text/plain": [
       "<IPython.core.display.Markdown object>"
      ]
     },
     "metadata": {},
     "output_type": "display_data"
    },
    {
     "name": "stdout",
     "output_type": "stream",
     "text": [
      "The Small Magellanic Cloud (SMC) provides a unique laboratory for the study of the lifecycle of dust given its low metallicity (~1/5 solar) and relative proximity (~60 kpc). This motivated the SAGE-SMC (Surveying the Agents of Galaxy Evolution in the Tidally Stripped, Low Metallicity Small Magellanic Cloud) Spitzer Legacy program with the specific goals of studying the amount and type of dust in the present interstellar medium, the sources of dust in the winds of evolved stars, and how much dust is consumed in star formation. This program mapped the full SMC (30 deg2) including the body, wing, and tail in seven bands from 3.6 to 160 mum using IRAC and MIPS on the Spitzer Space Telescope.\n",
      "(More info: b'https://irsa.ipac.caltech.edu/data/SPITZER/SAGE-SMC')\n"
     ]
    },
    {
     "data": {
      "text/markdown": [
       "### SDWFS (ivo://irsa.ipac/spitzer/images/sdwfs)"
      ],
      "text/plain": [
       "<IPython.core.display.Markdown object>"
      ]
     },
     "metadata": {},
     "output_type": "display_data"
    },
    {
     "name": "stdout",
     "output_type": "stream",
     "text": [
      "The Spitzer Deep Wide-Field Survey is a four-epoch survey of roughly 10 square degrees of the NOAO Deep, Wide-Field Survey field in Boötes. The first visit to the field occurred very early in the Spitzer mission, in 2004 January, as part of the IRAC Shallow Survey (Eisenhardt et al. 2004). Subsequent visits to the field as part of the SDWFS program reimaged the same area to the same depth.\n",
      "(More info: b'https://irsa.ipac.caltech.edu/data/SPITZER/SDWFS')\n"
     ]
    },
    {
     "data": {
      "text/markdown": [
       "### SEIP (ivo://irsa.ipac/spitzer/images/seip)"
      ],
      "text/plain": [
       "<IPython.core.display.Markdown object>"
      ]
     },
     "metadata": {},
     "output_type": "display_data"
    },
    {
     "name": "stdout",
     "output_type": "stream",
     "text": [
      "The Spitzer Science Center and IRSA have released a set of Enhanced Imaging Products (SEIP) from the Spitzer Heritage Archive. These include Super Mosaics (combining data from multiple programs where appropriate) and a Source List of photometry for compact sources. The primary requirement on the Source List is very high reliability -- with areal coverage, completeness, and limiting depth being secondary considerations. The SEIP include data from the four channels of IRAC (3.6, 4.5, 5.8, 8 microns) and the 24 micron channel of MIPS. The full set of products for the Spitzer cryogenic mission includes around 42 million sources.\n",
      "(More info: b'https://irsa.ipac.caltech.edu/data/SPITZER/Enhanced/SEIP')\n"
     ]
    },
    {
     "data": {
      "text/markdown": [
       "### SEP (ivo://irsa.ipac/spitzer/images/sep)"
      ],
      "text/plain": [
       "<IPython.core.display.Markdown object>"
      ]
     },
     "metadata": {},
     "output_type": "display_data"
    },
    {
     "name": "stdout",
     "output_type": "stream",
     "text": [
      "The Spitzer/MIPS 24 and 70 µm imaging of an 11.5 square degree region near the South Ecliptic Pole (SEP) has been carried out in order to complement sub-millimeter wavelength observations (250-500 µm) of the same region of sky taken with the Balloon-borne Large Aperture Sub-millimeter Telescope (BLAST), with the goal of better characterizing the nature of sub-millimeter selected galaxies and their role in galaxy evolution. This field has also been extensively mapped at other wavelengths, and will be imaged from 100-500 µm as part of the Herschel Multi-tiered Extragalactic Survey (HerMES).\n",
      "(More info: b'https://irsa.ipac.caltech.edu/data/SPITZER/SEP')\n"
     ]
    },
    {
     "data": {
      "text/markdown": [
       "### SERVS (ivo://irsa.ipac/spitzer/images/servs)"
      ],
      "text/plain": [
       "<IPython.core.display.Markdown object>"
      ]
     },
     "metadata": {},
     "output_type": "display_data"
    },
    {
     "name": "stdout",
     "output_type": "stream",
     "text": [
      "SERVS is a warm Spitzer survey which images approximately 18 square degrees in the centers of the SWIRE XMM-LSS, ELAIS-S1, CDFS, Lockman and ELAIS-N1 fields to 20min (2mu Jy) depth at 3.6 and 4.5 microns. SERVS overlaps with the VISTA-VIDEO near infrared and Herschel-HERMES and SCUBA2-S2CLS far-infrared surveys.\n",
      "(More info: b'https://irsa.ipac.caltech.edu/data/SPITZER/SERVS')\n"
     ]
    },
    {
     "data": {
      "text/markdown": [
       "### SHELA (ivo://irsa.ipac/spitzer/images/shela)"
      ],
      "text/plain": [
       "<IPython.core.display.Markdown object>"
      ]
     },
     "metadata": {},
     "output_type": "display_data"
    },
    {
     "name": "stdout",
     "output_type": "stream",
     "text": [
      "The Spitzer/HETDEX Exploratory Large-Area (SHELA) survey covers ~24 sq. deg at 3.6 and 4.5 microns. The survey area falls within the footprints of the Sloan Digital Sky Survey \"Stripe 82\" region, the Hobby-Eberly Telescope Dark Energy Experiment (HETDEX), and the Dark Energy Survey. The images and catalogs are 80% (50%) complete to limiting magnitudes of 22.0 (22.6) AB mag in the detection image, which is constructed from the weighted sum of the IRAC 3.6 and 4.5 micron images. The catalogs reach limiting sensitivities of 1.1 microJy at both 3.6 and 4.5 microns (1#, for R = 2\" circular apertures).\n",
      "(More info: b'https://irsa.ipac.caltech.edu/data/SPITZER/SHELA/')\n"
     ]
    },
    {
     "data": {
      "text/markdown": [
       "### SIMPLE (ivo://irsa.ipac/spitzer/images/simple)"
      ],
      "text/plain": [
       "<IPython.core.display.Markdown object>"
      ]
     },
     "metadata": {},
     "output_type": "display_data"
    },
    {
     "name": "stdout",
     "output_type": "stream",
     "text": [
      "SIMPLE consists of deep IRAC observations (several hours per pointing) covering the 0.5 x 0.5 deg area surrounding the GOODS CDF-South. This low-background region of the sky has by far the best supporting data of any cosmological survey field of comparable area, with deep observations from the X-rays to the thermal infrared.\n",
      "(More info: b'https://irsa.ipac.caltech.edu/data/SPITZER/SIMPLE')\n"
     ]
    },
    {
     "data": {
      "text/markdown": [
       "### SINGS (ivo://irsa.ipac/spitzer/images/sings)"
      ],
      "text/plain": [
       "<IPython.core.display.Markdown object>"
      ]
     },
     "metadata": {},
     "output_type": "display_data"
    },
    {
     "name": "stdout",
     "output_type": "stream",
     "text": [
      "The Spitzer Infrared Nearby Galaxy Survey is a comprehensive infrared imaging and spectroscopic survey of 75 nearby galaxies. Its primary goal is to characterize the infrared emission of galaxies and their principal infrared-emitting components, across a broad range of galaxy properties and star formation environments. SINGS provides new insights into the physical processes connecting star formation to the interstellar medium properties of galaxies and provides a vital foundation for understanding infrared observations of the distant universe and ultraluminous and active galaxies.\n",
      "(More info: b'https://irsa.ipac.caltech.edu/data/SPITZER/SINGS')\n"
     ]
    },
    {
     "data": {
      "text/markdown": [
       "### SpIES (ivo://irsa.ipac/spitzer/images/spies)"
      ],
      "text/plain": [
       "<IPython.core.display.Markdown object>"
      ]
     },
     "metadata": {},
     "output_type": "display_data"
    },
    {
     "name": "stdout",
     "output_type": "stream",
     "text": [
      "The Spitzer IRAC Equatorial Survey (SpIES) is a large-area survey of 115 sq. degrees in the Equatorial SDSS Stripe 82 field. SpIES achieves 5 sigma depths of 6.13 microJy (21.93 AB magnitude) and 5.75 microJy (22.0 AB magnitude) at 3.6 and 4.5 microns, respectively.\n",
      "(More info: b'https://irsa.ipac.caltech.edu/data/SPITZER/SpIES/')\n"
     ]
    },
    {
     "data": {
      "text/markdown": [
       "### Spitzer Level 1 (ivo://irsa.ipac/spitzer/images/level1)"
      ],
      "text/plain": [
       "<IPython.core.display.Markdown object>"
      ]
     },
     "metadata": {},
     "output_type": "display_data"
    },
    {
     "name": "stdout",
     "output_type": "stream",
     "text": [
      "Level 1 / Basic Calibration Data (BCD) from Spitzer Space Telescope. BCDs are the individual data frames that emerge [calibrated] from the Spitzer pipeline.\n",
      "(More info: b'http://sha.ipac.caltech.edu')\n"
     ]
    },
    {
     "data": {
      "text/markdown": [
       "### Spitzer Level 2 (ivo://irsa.ipac/spitzer/images/level2)"
      ],
      "text/plain": [
       "<IPython.core.display.Markdown object>"
      ]
     },
     "metadata": {},
     "output_type": "display_data"
    },
    {
     "name": "stdout",
     "output_type": "stream",
     "text": [
      "Level 2 or post Basic Calibrated Data (PBCD) from Spitzer Space Telescope. This products come from combining the individual data frames or BCDs [such as mosaics of individual pointings].\n",
      "(More info: b'http://sha.ipac.caltech.edu')\n"
     ]
    },
    {
     "data": {
      "text/markdown": [
       "### SpUDS (ivo://irsa.ipac/spitzer/images/spuds)"
      ],
      "text/plain": [
       "<IPython.core.display.Markdown object>"
      ]
     },
     "metadata": {},
     "output_type": "display_data"
    },
    {
     "name": "stdout",
     "output_type": "stream",
     "text": [
      "SpUDS is a survey of the ~1 square degree UKIDSS Ultra Deep Survey (UDS). The survey consists of deep IRAC and 24 micron MIPS observations. The UDS is the largest deep near-infrared (JHK) survey in existence, and the first capable of sampling representative cosmological volumes (100x100 Mpc) out to the highest redshifts (z&gt;6).\n",
      "(More info: b'https://irsa.ipac.caltech.edu/data/SPITZER/SpUDS')\n"
     ]
    },
    {
     "data": {
      "text/markdown": [
       "### SSDF (ivo://irsa.ipac/spitzer/images/ssdf)"
      ],
      "text/plain": [
       "<IPython.core.display.Markdown object>"
      ]
     },
     "metadata": {},
     "output_type": "display_data"
    },
    {
     "name": "stdout",
     "output_type": "stream",
     "text": [
      "The Spitzer-South Pole Telescope Deep Field (SSDF) is a wide-area survey using IRAC to cover 94 square degrees of extragalactic sky, making it the largest IRAC survey completed to date outside the Milky Way midplane. The SSDF is centered at 23:30,-55:00, in a region that combines observations spanning a broad wavelength range from numerous facilities. These include millimeter imaging from the South Pole Telescope, far-infrared observations from Herschel/SPIRE, X-ray observations from the XMM XXL survey, near-infrared observations from the VISTA Hemisphere Survey, and radio-wavelength imaging from the Australia Telescope Compact Array, in a panchromatic project designed to address major outstanding questions surrounding galaxy clusters and the baryon budget.\n",
      "(More info: b'https://irsa.ipac.caltech.edu/data/SPITZER/SSDF')\n"
     ]
    },
    {
     "data": {
      "text/markdown": [
       "### SWIRE (ivo://irsa.ipac/spitzer/images/swire)"
      ],
      "text/plain": [
       "<IPython.core.display.Markdown object>"
      ]
     },
     "metadata": {},
     "output_type": "display_data"
    },
    {
     "name": "stdout",
     "output_type": "stream",
     "text": [
      "* A wide-area, high galactic latitude imaging survey conducted using the Spitzer MIPS far-infrared and IRAC mid-infrared cameras. The satellite data will be complemented by an extensive program of ground-based optical, near-infrared and radio observations.\n",
      "(More info: b'https://irsa.ipac.caltech.edu/data/SPITZER/SWIRE')\n"
     ]
    },
    {
     "data": {
      "text/markdown": [
       "### Taurus (ivo://irsa.ipac/spitzer/images/taurus)"
      ],
      "text/plain": [
       "<IPython.core.display.Markdown object>"
      ]
     },
     "metadata": {},
     "output_type": "display_data"
    },
    {
     "name": "stdout",
     "output_type": "stream",
     "text": [
      "The Taurus Spitzer Legacy project has mapped ˜44 square degrees of the Taurus star-formation region using the IRAC and MIPS cameras aboard the Spitzer Space Telescope.\n",
      "(More info: b'https://irsa.ipac.caltech.edu/data/SPITZER/Taurus')\n"
     ]
    },
    {
     "data": {
      "text/markdown": [
       "### VNGS (ivo://irsa.ipac/herschel/images/vngs)"
      ],
      "text/plain": [
       "<IPython.core.display.Markdown object>"
      ]
     },
     "metadata": {},
     "output_type": "display_data"
    },
    {
     "name": "stdout",
     "output_type": "stream",
     "text": [
      "The Very Nearby Galaxy Survey (VNGS) is a Herschel Key Program (KPGT_cwilso01_1) to measure the emission spectrum from dust as well as important cooling lines from the gaseous interstellar medium in a sample of 13 very nearby galaxies (M51, M81, NGC2403, NGC891, M83, M82, Arp220, NGC4038/39, NGC1068, NGC4151, CenA, NGC4125, and NGC205). These galaxies have been chosen to probe as wide a region in galaxy parameter space as possible while maximizing the achievable spatial resolution and are already well-studied from X-ray and optical through to radio wavelengths. The far-infrared and submillimeter wavelengths probed by Herschel are absolutely crucial for understanding the physical processes and properties of the interstellar medium, the interplay between star formation and the interstellar medium in galaxies, and how they may depend on the wider galaxian environment.\n",
      "(More info: b'https://irsa.ipac.caltech.edu/data/Herschel/VNGS')\n"
     ]
    },
    {
     "data": {
      "text/markdown": [
       "### WISE 2-Band L1b (ivo://irsa.ipac/wise/images/post-cryo/l1b)"
      ],
      "text/plain": [
       "<IPython.core.display.Markdown object>"
      ]
     },
     "metadata": {},
     "output_type": "display_data"
    },
    {
     "name": "stdout",
     "output_type": "stream",
     "text": [
      "The WISE 3-Band Cryo Data Release products are comprised of data taken during the mission's 3-Band Cryo survey phase. This phase covers the time following the exhaustion of solid hydrogen in the WISE payload outer cryogen tank, while the detectors and telescope were still cooled by the inner cryogen tank. During this time, WISE's W1, W2 and W3 bands were operational and continued to acquire useful data, but the W4 detector was saturated by thermal emission from the warming telescope. The sensitivity achieved in the W1 and W2 bands was similar to that during the full cryogenic mission phase. The W3 measurement sensitivity was degraded and decreased steadily during the 3-Band Cryo phase because of the increasing telescope temperature and decreasing exposure times. The NEOWISE Post-Cryo Data Release products were generated using data taken during the mission's Post-Cryo survey phase. This phase covers the time following the exhaustion of solid hydrogen in the WISE payload inner cryogen tank, when the detectors and optics gradually warmed until they reached a stable equilibrium temperature near 73.5 K (VIII.1.a.i). During this time, WISE's W1 and W2 detectors continued to acquire high quality imaging data with sensitivities close to that during the mission's cryogenic survey phases. The W3 and W4 detectors were fully saturated by the thermal emission from the warming telescope. WISE scanned approximately 70% of the sky during the Post-Cryo survey phase continuing with the same strategy that was used during the full cryogenic survey. WISE scanned along lines of constant ecliptic longitude from near one ecliptic pole to near the other pole with a scan rate close to the orbital rate of 3.8 arc-minutes/second in order to always point away from the Earth. Each semi-circular track from ecliptic pole to ecliptic pole is called a scan. During each scan WISE took a frameset every 11 seconds. Each Post-Cryo frameset contains two images, one for each of the W1 and W2 bands, both observing the same 47x47 arc-minute square patch of sky.\n",
      "(More info: b'http://wise2.ipac.caltech.edu/docs/release/allsky/expsup/sec8_1.html')\n"
     ]
    },
    {
     "data": {
      "text/markdown": [
       "### WISE 3-Band L1b (ivo://irsa.ipac/wise/images/3-band/l1b)"
      ],
      "text/plain": [
       "<IPython.core.display.Markdown object>"
      ]
     },
     "metadata": {},
     "output_type": "display_data"
    },
    {
     "name": "stdout",
     "output_type": "stream",
     "text": [
      "The WISE 3-Band Cryo Data Release products are comprised of data taken during the mission's 3-Band Cryo survey phase. This phase covers the time following the exhaustion of solid hydrogen in the WISE payload outer cryogen tank, while the detectors and telescope were still cooled by the inner cryogen tank. During this time, WISE's W1, W2 and W3 bands were operational and continued to acquire useful data, but the W4 detector was saturated by thermal emission from the warming telescope. The sensitivity achieved in the W1 and W2 bands was similar to that during the full cryogenic mission phase. The W3 measurement sensitivity was degraded and decreased steadily during the 3-Band Cryo phase because of the increasing telescope temperature and decreasing exposure times. The WISE 3-Band Cryo Release Single-Exposure images consist of 392,879 photometrically and astrometrically calibrated 1016x1016 pix at 2.75\"/pix FITS image sets for each individual WISE exposure taken between 6 August and 29 September 2010. Each image set consists of intensity images, noise maps, and bit-masks indicating pixel use status, one each for the W1, W2, and W3 bands.\n",
      "(More info: b'http://wise2.ipac.caltech.edu/docs/release/allsky/expsup/sec7_1.html')\n"
     ]
    },
    {
     "data": {
      "text/markdown": [
       "### WISE 3-Band L3a (ivo://irsa.ipac/wise/images/3-band/l3a)"
      ],
      "text/plain": [
       "<IPython.core.display.Markdown object>"
      ]
     },
     "metadata": {},
     "output_type": "display_data"
    },
    {
     "name": "stdout",
     "output_type": "stream",
     "text": [
      "The WISE 3-Band Cryo Data Release products are comprised of data taken during the mission's 3-Band Cryo survey phase. This phase covers the time following the exhaustion of solid hydrogen in the WISE payload outer cryogen tank, while the detectors and telescope were still cooled by the inner cryogen tank. During this time, WISE's W1, W2 and W3 bands were operational and continued to acquire useful data, but the W4 detector was saturated by thermal emission from the warming telescope. The sensitivity achieved in the W1 and W2 bands was similar to that during the full cryogenic mission phase. The W3 measurement sensitivity was degraded and decreased steadily during the 3-Band Cryo phase because of the increasing telescope temperature and decreasing exposure times. The WISE 3-Band Cryo Image Atlas is comprised of 5,649 4095x4095 pix at 1.375\"/pix FITS format image sets. Each image set consists of intensity images, coverage maps, and uncertainty maps, one each for the W1, W2, and W3 bands.\n",
      "(More info: b'http://wise2.ipac.caltech.edu/docs/release/allsky/expsup/sec7_1.html')\n"
     ]
    }
   ],
   "source": [
    "registry_url = \"https://vao.stsci.edu/RegTAP/TapService.aspx/sync\"\n",
    "\n",
    "tap_params = {\n",
    "    \"request\":\"doQuery\",\n",
    "    \"lang\":\"ADQL\",\n",
    "    \"query\":\"\"\"\n",
    "        select b.waveband,b.short_name,a.ivoid,b.res_description,c.access_url,b.reference_url from rr.capability a \n",
    "        natural join rr.resource b \n",
    "        natural join rr.interface c\n",
    "        where a.cap_type='simpleimageaccess' and a.ivoid like 'ivo://%irsa%'\n",
    "        order by short_name;\n",
    "    \"\"\"\n",
    "    }\n",
    "\n",
    "r = requests.post(registry_url, data = tap_params)\n",
    "table=Table.read(io.BytesIO(r.content))\n",
    "#table.pprint(max_width=-1,max_lines=-1)\n",
    "\n",
    "# Display results in a readable way including the \n",
    "# short_name, ivoid, res_description and reference_url.\n",
    "from IPython.display import Markdown, display\n",
    "for row in table:\n",
    "    md = '### {} ({})'.format(row['short_name'].decode('utf-8'), row['ivoid'].decode('utf-8'))\n",
    "    display(Markdown(md))\n",
    "    print(row['res_description'].decode('utf-8'))\n",
    "    print('(More info: {})'.format(row['reference_url']))"
   ]
  },
  {
   "cell_type": "markdown",
   "metadata": {},
   "source": [
    "### Exercise: Try replacing heasarc with irsa, stsci, ned in the above."
   ]
  },
  {
   "cell_type": "markdown",
   "metadata": {},
   "source": [
    "### Exercise: Try replacing simpleimageaccess above with simpleconesearch, or tableaccessprotocol. XXXTHIS NEEDS TO BE CHECKEDXXX"
   ]
  },
  {
   "cell_type": "markdown",
   "metadata": {},
   "source": [
    "<a id='registryallwise'></a>"
   ]
  },
  {
   "cell_type": "markdown",
   "metadata": {},
   "source": [
    "### 4b. Use the Registry to find the Base URL for AllWISE"
   ]
  },
  {
   "cell_type": "code",
   "execution_count": null,
   "metadata": {
    "collapsed": false
   },
   "outputs": [],
   "source": [
    "tap_params = {\n",
    "    \"request\":\"doQuery\",\n",
    "    \"lang\":\"ADQL\",\n",
    "    \"query\":\"\"\"\n",
    "        select b.short_name, c.access_url from rr.capability a \n",
    "        natural join rr.resource b \n",
    "        natural join rr.interface c\n",
    "        where a.cap_type='simpleimageaccess' and b.short_name like 'allwise%' \n",
    "        order by short_name;\n",
    "    \"\"\"\n",
    "    }\n",
    "\n",
    "r = requests.post('https://vao.stsci.edu/RegTAP/TapService.aspx/sync', data = tap_params)\n",
    "table=Table.read(io.BytesIO(r.content))\n",
    "table.pprint(max_width=-1,max_lines=-1)"
   ]
  },
  {
   "cell_type": "markdown",
   "metadata": {},
   "source": [
    "<a id='registrymultiwavelength'></a>"
   ]
  },
  {
   "cell_type": "markdown",
   "metadata": {},
   "source": [
    "### 4c. Generalize to Find Base URLs for WISE, GALEX, SWIFT, SEIP, 2MASS"
   ]
  },
  {
   "cell_type": "code",
   "execution_count": 259,
   "metadata": {
    "collapsed": false
   },
   "outputs": [
    {
     "name": "stdout",
     "output_type": "stream",
     "text": [
      " mission                                                                         base_url                                                                       \n",
      "--------- ------------------------------------------------------------------------------------------------------------------------------------------------------\n",
      "  AllWISE                                                                                           https://irsa.ipac.caltech.edu/ibe/sia/wise/allwise/p3am_cdd?\n",
      "    GALEX                                                                           http://mast.stsci.edu/portal_vo/Mashup/VoQuery.asmx/SiaV1?MISSION=GALEX&amp;\n",
      "SWIFTUVOT                                                                                       https://heasarc.gsfc.nasa.gov/xamin/vo/sia?table=swiftuvlog&amp;\n",
      "     SEIP https://irsa.ipac.caltech.edu/cgi-bin/Atlas/nph-atlas?mission=SEIP&amp;hdr_location=%5CSEIPDataPath%5C&amp;SIAP_ACTIVE=1&amp;collection_desc=SEIP&amp;\n",
      "    2MASS                                                                                      https://skyview.gsfc.nasa.gov/cgi-bin/vo/sia.pl?survey=2mass&amp;\n"
     ]
    }
   ],
   "source": [
    "#Decide on missions you are interested in.\n",
    "missions = ['AllWISE', 'GALEX', 'SWIFTUVOT', 'SEIP', '2MASS']\n",
    "\n",
    "base_urls = []\n",
    "\n",
    "#For each of these missions,\n",
    "for i, mission in enumerate(missions):\n",
    "    \n",
    "    #Define the search query paramters.\n",
    "    mission_string = \"'\"+mission+\"%'\"\n",
    "    query = \"select b.short_name, c.access_url from rr.capability a natural join rr.resource b natural join rr.interface c where a.cap_type='simpleimageaccess' and b.short_name like \"+mission_string+\"order by short_name;\"\n",
    "   \n",
    "    tap_params = {\n",
    "        \"request\":\"doQuery\",\n",
    "        \"lang\":\"ADQL\",\n",
    "        \"query\": query\n",
    "        }\n",
    "\n",
    "    #Send the Search URL and convert the results to an astropy table.\n",
    "    r = requests.post('https://vao.stsci.edu/RegTAP/TapService.aspx/sync', data = tap_params)\n",
    "    table=Table.read(io.BytesIO(r.content))\n",
    "    \n",
    "    #Collect the base URLs for each mission.\n",
    "    base_urls.append(table['access_url'][0])\n",
    "\n",
    "#Create an astropy table with your results.\n",
    "search_list = Table([missions, base_urls], names = ('mission', 'base_url'))\n",
    "\n",
    "#Print this table.\n",
    "search_list.pprint(max_width=-1)\n",
    "    "
   ]
  },
  {
   "cell_type": "markdown",
   "metadata": {},
   "source": [
    "<a id='registryreplace'></a>"
   ]
  },
  {
   "cell_type": "markdown",
   "metadata": {},
   "source": [
    "### 4d. Replace 2MASS and Swift and SEIP entries with the correct ones"
   ]
  },
  {
   "cell_type": "markdown",
   "metadata": {},
   "source": [
    "  http://irsa.ipac.caltech.edu/ibe/sia/twomass/allsky/allsky?POS=0,0"
   ]
  },
  {
   "cell_type": "code",
   "execution_count": 260,
   "metadata": {
    "collapsed": false
   },
   "outputs": [
    {
     "name": "stdout",
     "output_type": "stream",
     "text": [
      " mission                                                                         base_url                                                                       \n",
      "--------- ------------------------------------------------------------------------------------------------------------------------------------------------------\n",
      "  AllWISE                                                                                           https://irsa.ipac.caltech.edu/ibe/sia/wise/allwise/p3am_cdd?\n",
      "    GALEX                                                                           http://mast.stsci.edu/portal_vo/Mashup/VoQuery.asmx/SiaV1?MISSION=GALEX&amp;\n",
      "SWIFTUVOT                                                                                      https://skyview.gsfc.nasa.gov/cgi-bin/vo/sia.pl&survey=swiftuvvot\n",
      "     SEIP https://irsa.ipac.caltech.edu/cgi-bin/Atlas/nph-atlas?mission=SEIP&amp;hdr_location=%5CSEIPDataPath%5C&amp;SIAP_ACTIVE=1&amp;collection_desc=SEIP&amp;\n",
      "    2MASS                                                                                            http://irsa.ipac.caltech.edu/ibe/sia/twomass/allsky/allsky?\n"
     ]
    }
   ],
   "source": [
    "search_list['base_url'][4] = 'http://irsa.ipac.caltech.edu/ibe/sia/twomass/allsky/allsky?'\n",
    "search_list['base_url'][2] = 'https://skyview.gsfc.nasa.gov/cgi-bin/vo/sia.pl&survey=swiftuvvot'\n",
    "\n",
    "search_list.pprint(max_width=-1)"
   ]
  },
  {
   "cell_type": "markdown",
   "metadata": {},
   "source": [
    "<a id='registryremove'></a>"
   ]
  },
  {
   "cell_type": "markdown",
   "metadata": {},
   "source": [
    "### 4e. Remove SEIP and swiftuvot rows until we know a correct version of it and know how to deal with extra parameters."
   ]
  },
  {
   "cell_type": "code",
   "execution_count": 261,
   "metadata": {
    "collapsed": false
   },
   "outputs": [
    {
     "name": "stdout",
     "output_type": "stream",
     "text": [
      "mission                           base_url                          \n",
      "------- ------------------------------------------------------------\n",
      "AllWISE https://irsa.ipac.caltech.edu/ibe/sia/wise/allwise/p3am_cdd?\n",
      "  2MASS  http://irsa.ipac.caltech.edu/ibe/sia/twomass/allsky/allsky?\n"
     ]
    }
   ],
   "source": [
    "search_list.remove_row(3)\n",
    "search_list.remove_row(2)\n",
    "search_list.remove_row(1) #galex now has a lot more file formats. need to filter.\n",
    "search_list.pprint(max_width=-1)"
   ]
  },
  {
   "cell_type": "markdown",
   "metadata": {},
   "source": [
    "<a href = \"#toc\">Table of Contents</a>"
   ]
  },
  {
   "cell_type": "markdown",
   "metadata": {},
   "source": [
    "<a id='simpleimageaccess'></a>"
   ]
  },
  {
   "cell_type": "markdown",
   "metadata": {},
   "source": [
    "## 5. Simple Image Access\n",
    "http://www.ivoa.net/documents/SIA/20091116/REC-SIA-1.0.html"
   ]
  },
  {
   "cell_type": "code",
   "execution_count": 262,
   "metadata": {
    "collapsed": false
   },
   "outputs": [
    {
     "name": "stdout",
     "output_type": "stream",
     "text": [
      "200\n",
      "http://irsa.ipac.caltech.edu/ibe/sia/twomass/allsky/allsky?POS=185.47873%2C4.47365&SIZE=0\n",
      "                           sia_title                                                                          sia_url                                              sia_naxes  sia_fmt         sia_ra            sia_dec       sia_naxis    sia_crpix           sia_crval         sia_proj             sia_scale                                                        sia_cd                                          sia_bp_id       sia_bp_ref             sia_bp_lo              sia_bp_hi                                             pers_art                                                                           glint_art                                      ordate hemisphere scanno coaddno ut_date coadd_key        seesh              magzp        msnr10\n",
      "                                                                                                                                                                                               deg                deg                         pix                 deg                                 deg / pix                                                      deg / pix                                                                                                                                                                                                                                                                                                                                                          arcs                                 \n",
      "---------------------------------------------------------------- ------------------------------------------------------------------------------------------------- --------- ---------- ------------------ ------------------ ---------- ------------- ------------------------- -------- ---------------------------------- ----------------------------------------------------------------------------------------- --------- ---------------------- ---------------------- ---------------------- ---------------------------------------------------------------------------------- ----------------------------------------------------------------------------------- ------ ---------- ------ ------- ------- --------- ------------------- ------------------ ------\n",
      "2MASS All-Sky Data Release K-Band Atlas Image: 000225 s 088 0080 https://irsa.ipac.caltech.edu/ibe/data/twomass/allsky/allsky/000225s/s088/image/ki0880080.fits.gz         2 image/fits 185.48134830000001 4.3938090040000004 [512 1024] [256.5 512.5] [185.4813483 4.393809004]      SIN [-0.0002777777845 0.0002777777845] [-0.000277775673673415 -1.08290212349349e-06 -1.08290212349349e-06\n",
      " 0.000277775673673415]         K              2.159e-06 1.8840000000000001e-06 2.4339999999999999e-06 https://irsa.ipac.caltech.edu/ibe/data/twomass/allsky/allsky/000225s/s088/pers.tbl https://irsa.ipac.caltech.edu/ibe/data/twomass/allsky/allsky/000225s/s088/glint.tbl 000225          s     88      80  000225   1070542                 1.0         19.8719997 14.614\n",
      "2MASS All-Sky Data Release J-Band Atlas Image: 000225 s 088 0080 https://irsa.ipac.caltech.edu/ibe/data/twomass/allsky/allsky/000225s/s088/image/ji0880080.fits.gz         2 image/fits 185.48134830000001 4.3938090040000004 [512 1024] [256.5 512.5] [185.4813483 4.393809004]      SIN [-0.0002777777845 0.0002777777845] [-0.000277775673673415 -1.08290212349349e-06 -1.08290212349349e-06\n",
      " 0.000277775673673415]         J              1.235e-06              1.066e-06              1.404e-06 https://irsa.ipac.caltech.edu/ibe/data/twomass/allsky/allsky/000225s/s088/pers.tbl https://irsa.ipac.caltech.edu/ibe/data/twomass/allsky/allsky/000225s/s088/glint.tbl 000225          s     88      80  000225   1070542 0.99000001000000004 20.739700299999999 16.292\n",
      "2MASS All-Sky Data Release H-Band Atlas Image: 000225 s 088 0080 https://irsa.ipac.caltech.edu/ibe/data/twomass/allsky/allsky/000225s/s088/image/hi0880080.fits.gz         2 image/fits 185.48134830000001 4.3938090040000004 [512 1024] [256.5 512.5] [185.4813483 4.393809004]      SIN [-0.0002777777845 0.0002777777845] [-0.000277775673673415 -1.08290212349349e-06 -1.08290212349349e-06\n",
      " 0.000277775673673415]         H 1.6619999999999999e-06 1.3999999999999999e-06 1.9240000000000001e-06 https://irsa.ipac.caltech.edu/ibe/data/twomass/allsky/allsky/000225s/s088/pers.tbl https://irsa.ipac.caltech.edu/ibe/data/twomass/allsky/allsky/000225s/s088/glint.tbl 000225          s     88      80  000225   1070542 0.94999998799999996 20.383899700000001 15.601\n"
     ]
    },
    {
     "name": "stderr",
     "output_type": "stream",
     "text": [
      "WARNING: W03: None:5:4: W03: Implicitly generating an ID from a name 'INPUT:POS' -> 'INPUT_POS' [astropy.io.votable.xmlutil]\n",
      "WARNING: W03: None:10:4: W03: Implicitly generating an ID from a name 'INPUT:SIZE' -> 'INPUT_SIZE' [astropy.io.votable.xmlutil]\n",
      "WARNING: W03: None:19:4: W03: Implicitly generating an ID from a name 'INPUT:INTERSECT' -> 'INPUT_INTERSECT' [astropy.io.votable.xmlutil]\n",
      "WARNING: W48: None:29:8: W48: Unknown attribute 'value' on OPTION [astropy.io.votable.tree]\n",
      "WARNING: W48: None:30:8: W48: Unknown attribute 'value' on OPTION [astropy.io.votable.tree]\n",
      "WARNING: W48: None:31:8: W48: Unknown attribute 'value' on OPTION [astropy.io.votable.tree]\n",
      "WARNING: W48: None:32:8: W48: Unknown attribute 'value' on OPTION [astropy.io.votable.tree]\n",
      "WARNING: W03: None:35:4: W03: Implicitly generating an ID from a name 'INPUT:FORMAT' -> 'INPUT_FORMAT' [astropy.io.votable.xmlutil]\n",
      "WARNING: W48: None:42:8: W48: Unknown attribute 'value' on OPTION [astropy.io.votable.tree]\n",
      "WARNING: W48: None:43:8: W48: Unknown attribute 'value' on OPTION [astropy.io.votable.tree]\n",
      "WARNING: W48: None:44:8: W48: Unknown attribute 'value' on OPTION [astropy.io.votable.tree]\n",
      "WARNING: W03: None:47:4: W03: Implicitly generating an ID from a name 'INPUT:mcen' -> 'INPUT_mcen' [astropy.io.votable.xmlutil]\n",
      "WARNING: W06: None:77:6: W06: Invalid UCD 'POS_EQ_RA_MAIN': Unknown word 'POS_EQ_RA_MAIN' [astropy.io.votable.tree]\n",
      "WARNING: W06: None:80:6: W06: Invalid UCD 'POS_EQ_DEC_MAIN': Unknown word 'POS_EQ_DEC_MAIN' [astropy.io.votable.tree]\n",
      "WARNING: W48: None:125:10: W48: Unknown attribute 'value' on OPTION [astropy.io.votable.tree]\n",
      "WARNING: W48: None:126:10: W48: Unknown attribute 'value' on OPTION [astropy.io.votable.tree]\n"
     ]
    }
   ],
   "source": [
    "# Choose a search position.\n",
    "ra = '185.47873'\n",
    "dec = '4.47365'\n",
    "\n",
    "# Choose a search size. Zero means the image must contain the search point.\n",
    "size = '0'  \n",
    "\n",
    "# Define the search parameters\n",
    "params = {'POS': ra + ',' + dec,\n",
    "          'SIZE': size\n",
    "         }\n",
    "\n",
    "# Choose a base url\n",
    "base_url = search_list['base_url'][1]\n",
    "\n",
    "# Send the search URL\n",
    "r = requests.get(base_url, params)\n",
    "print(r.status_code)\n",
    "print(r.url)\n",
    "\n",
    "# Convert the results into an astropy table.\n",
    "table=Table.read(io.BytesIO(r.content))\n",
    "\n",
    "#Print the table.\n",
    "table.pprint(max_width=-1)\n"
   ]
  },
  {
   "cell_type": "markdown",
   "metadata": {},
   "source": [
    "<a href = \"#toc\">Table of Contents</a>"
   ]
  },
  {
   "cell_type": "markdown",
   "metadata": {},
   "source": [
    "<a id='ucd'></a>"
   ]
  },
  {
   "cell_type": "markdown",
   "metadata": {},
   "source": [
    "## 6. Find the Universal Common Descriptors for each column.\n",
    "\n",
    "Each archive can name columns whatever they want, but the type of column has a universal name. To see the UCDs for the 2MASS allsky atlas images, try the following:"
   ]
  },
  {
   "cell_type": "code",
   "execution_count": 212,
   "metadata": {
    "collapsed": false
   },
   "outputs": [
    {
     "name": "stdout",
     "output_type": "stream",
     "text": [
      "VOX:Image_Title\n",
      "VOX:Image_AccessReference\n",
      "VOX:Image_Naxes\n",
      "VOX:Image_Format\n",
      "POS_EQ_RA_MAIN\n",
      "POS_EQ_DEC_MAIN\n",
      "VOX:Image_Naxis\n",
      "VOX:WCS_CoordRefPixel\n",
      "VOX:WCS_CoordRefValue\n",
      "VOX:WCS_CoordProjection\n",
      "VOX:Image_Scale\n",
      "VOX:WCS_CDMatrix\n",
      "VOX:BandPass_ID\n",
      "VOX:BandPass_RefValue\n",
      "VOX:BandPass_LoLimit\n",
      "VOX:BandPass_HiLimit\n",
      "None\n",
      "None\n",
      "None\n",
      "None\n",
      "None\n",
      "None\n",
      "None\n",
      "None\n",
      "None\n",
      "None\n",
      "None\n"
     ]
    }
   ],
   "source": [
    "for key in table.columns:\n",
    "    col = table.columns[key]\n",
    "    ucdval = col.meta.get('ucd')\n",
    "    print(ucdval)\n",
    " "
   ]
  },
  {
   "cell_type": "markdown",
   "metadata": {},
   "source": [
    "The column with UCD = \"VOX:Image_AccessReference\" will have URLs that will lead us to images. The column with UCD = \"BandPass_ID\" will have the name of the filter. "
   ]
  },
  {
   "cell_type": "markdown",
   "metadata": {},
   "source": [
    "<a href = \"#toc\">Table of Contents</a>"
   ]
  },
  {
   "cell_type": "markdown",
   "metadata": {},
   "source": [
    "<a id='fetch'></a>"
   ]
  },
  {
   "cell_type": "markdown",
   "metadata": {},
   "source": [
    "## 7. Retrieving image files you found. "
   ]
  },
  {
   "cell_type": "markdown",
   "metadata": {},
   "source": [
    "<a href = \"#toc\">Table of Contents</a>"
   ]
  },
  {
   "cell_type": "markdown",
   "metadata": {},
   "source": [
    "<a id='multiwavelengthsearch'></a>\n"
   ]
  },
  {
   "cell_type": "markdown",
   "metadata": {},
   "source": [
    "## 8. For a given search position, loop through this image list"
   ]
  },
  {
   "cell_type": "code",
   "execution_count": 226,
   "metadata": {
    "collapsed": false
   },
   "outputs": [
    {
     "name": "stdout",
     "output_type": "stream",
     "text": [
      "Searching the following projects:\n",
      "mission\n",
      "-------\n",
      "AllWISE\n",
      "  2MASS\n",
      " \n",
      " \n",
      "base_url:\n",
      "https://irsa.ipac.caltech.edu/ibe/sia/wise/allwise/p3am_cdd?\n",
      "200\n",
      "b'1853p045_ac51-w3-int-3.fits'\n"
     ]
    },
    {
     "name": "stderr",
     "output_type": "stream",
     "text": [
      "WARNING: W03: None:5:4: W03: Implicitly generating an ID from a name 'INPUT:POS' -> 'INPUT_POS' [astropy.io.votable.xmlutil]\n",
      "WARNING: W03: None:10:4: W03: Implicitly generating an ID from a name 'INPUT:SIZE' -> 'INPUT_SIZE' [astropy.io.votable.xmlutil]\n",
      "WARNING: W03: None:19:4: W03: Implicitly generating an ID from a name 'INPUT:INTERSECT' -> 'INPUT_INTERSECT' [astropy.io.votable.xmlutil]\n",
      "WARNING: W48: None:29:8: W48: Unknown attribute 'value' on OPTION [astropy.io.votable.tree]\n",
      "WARNING: W48: None:30:8: W48: Unknown attribute 'value' on OPTION [astropy.io.votable.tree]\n",
      "WARNING: W48: None:31:8: W48: Unknown attribute 'value' on OPTION [astropy.io.votable.tree]\n",
      "WARNING: W48: None:32:8: W48: Unknown attribute 'value' on OPTION [astropy.io.votable.tree]\n",
      "WARNING: W03: None:35:4: W03: Implicitly generating an ID from a name 'INPUT:FORMAT' -> 'INPUT_FORMAT' [astropy.io.votable.xmlutil]\n",
      "WARNING: W48: None:42:8: W48: Unknown attribute 'value' on OPTION [astropy.io.votable.tree]\n",
      "WARNING: W48: None:43:8: W48: Unknown attribute 'value' on OPTION [astropy.io.votable.tree]\n",
      "WARNING: W48: None:44:8: W48: Unknown attribute 'value' on OPTION [astropy.io.votable.tree]\n",
      "WARNING: W03: None:47:4: W03: Implicitly generating an ID from a name 'INPUT:mcen' -> 'INPUT_mcen' [astropy.io.votable.xmlutil]\n",
      "WARNING: W06: None:77:6: W06: Invalid UCD 'POS_EQ_RA_MAIN': Unknown word 'POS_EQ_RA_MAIN' [astropy.io.votable.tree]\n",
      "WARNING: W06: None:80:6: W06: Invalid UCD 'POS_EQ_DEC_MAIN': Unknown word 'POS_EQ_DEC_MAIN' [astropy.io.votable.tree]\n"
     ]
    },
    {
     "name": "stdout",
     "output_type": "stream",
     "text": [
      "b'1853p045_ac51-w2-int-3.fits'\n",
      "b'1853p045_ac51-w4-int-3.fits'\n",
      "b'1853p045_ac51-w1-int-3.fits'\n",
      " \n",
      "base_url:\n",
      "http://irsa.ipac.caltech.edu/ibe/sia/twomass/allsky/allsky?\n",
      "200\n",
      "b'ki0880080.fits.gz'\n"
     ]
    },
    {
     "name": "stderr",
     "output_type": "stream",
     "text": [
      "WARNING: W48: None:125:10: W48: Unknown attribute 'value' on OPTION [astropy.io.votable.tree]\n",
      "WARNING: W48: None:126:10: W48: Unknown attribute 'value' on OPTION [astropy.io.votable.tree]\n"
     ]
    },
    {
     "name": "stdout",
     "output_type": "stream",
     "text": [
      "b'ji0880080.fits.gz'\n",
      "b'hi0880080.fits.gz'\n"
     ]
    },
    {
     "data": {
      "text/plain": [
       "<bound method Table.pprint of <Table length=7>\n",
       "mission           filename         \n",
       "  str7            bytes27          \n",
       "------- ---------------------------\n",
       "AllWISE 1853p045_ac51-w3-int-3.fits\n",
       "AllWISE 1853p045_ac51-w2-int-3.fits\n",
       "AllWISE 1853p045_ac51-w4-int-3.fits\n",
       "AllWISE 1853p045_ac51-w1-int-3.fits\n",
       "  2MASS           ki0880080.fits.gz\n",
       "  2MASS           ji0880080.fits.gz\n",
       "  2MASS           hi0880080.fits.gz>"
      ]
     },
     "execution_count": 226,
     "metadata": {},
     "output_type": "execute_result"
    }
   ],
   "source": [
    "from astropy.table import Table, Column\n",
    "import shutil\n",
    "import ntpath\n",
    "\n",
    "# Define the position and search size (degrees).\n",
    "ra = '185.47873'\n",
    "dec = '4.47365'\n",
    "\n",
    "size = '0'  # Means the image must contain the search point\n",
    "\n",
    "params = {'POS': ra + ',' + dec,\n",
    "          'SIZE': size\n",
    "         }\n",
    "\n",
    "keys = [] \n",
    "outnames = []\n",
    "missionnames = []\n",
    "\n",
    "print('Searching the following projects:')\n",
    "print(search_list['mission'])\n",
    "print(' ')\n",
    "\n",
    "for i, base_url in enumerate(search_list['base_url']):\n",
    "\n",
    "    #Send a URL request and get a table of images that meet your spatial constraints.\n",
    "    print(' ')\n",
    "    print('base_url:')\n",
    "    print(base_url)\n",
    "    r = requests.get(base_url, params)\n",
    "    print(r.status_code)\n",
    "    table=Table.read(io.BytesIO(r.content))\n",
    "\n",
    "    #For each column in the returned table,\n",
    "    for key in table.columns:\n",
    "        \n",
    "        #Get the data in the column.\n",
    "        col = table.columns[key]\n",
    "        \n",
    "        #Get the universal content descriptor (UCD) for the column.\n",
    "        ucdval = col.meta.get('ucd')\n",
    "        \n",
    "        #If there is a UCD for this column,\n",
    "        if (ucdval is not None):\n",
    "            \n",
    "            #Look for the column that is associated with the UCD that represents the access URL for the image.\n",
    "            if (ucdval == 'VOX:Image_AccessReference'):\n",
    "            \n",
    "                keys.append(key)\n",
    "                imagenames = table[key]\n",
    "                \n",
    "                #For every entry in this column,\n",
    "                for imagename in imagenames:\n",
    "\n",
    "                    #Send a request for this image.\n",
    "                    response = requests.get(imagename, stream=True)\n",
    "                    \n",
    "                    #Remove the path from the URL to isolate the name we should output to file.\n",
    "                    outname = ntpath.basename(imagename)\n",
    "                    outnames.append(outname)\n",
    "                    print(outname)\n",
    "                    \n",
    "                    #Write a FITS file.\n",
    "                    with open(outname, 'wb') as out_file:\n",
    "                        shutil.copyfileobj(response.raw,out_file)\n",
    "\n",
    "                    #Keep track of which mission this image is associated with.\n",
    "                    missionname = search_list['mission'][i]\n",
    "                    missionnames.append(missionname)\n",
    "\n",
    "downloaded_images = Table([missionnames, outnames], names=('mission', 'filename'))\n",
    "downloaded_images.pprint"
   ]
  },
  {
   "cell_type": "markdown",
   "metadata": {},
   "source": [
    "<a href = \"#toc\">Table of Contents</a>"
   ]
  },
  {
   "cell_type": "markdown",
   "metadata": {},
   "source": [
    "<a id='cutouts'></a>"
   ]
  },
  {
   "cell_type": "markdown",
   "metadata": {},
   "source": [
    "# Make cutouts of the images you downloaded."
   ]
  },
  {
   "cell_type": "code",
   "execution_count": 242,
   "metadata": {
    "collapsed": false
   },
   "outputs": [
    {
     "data": {
      "text/plain": [
       "<matplotlib.figure.Figure at 0x111ce6160>"
      ]
     },
     "metadata": {},
     "output_type": "display_data"
    },
    {
     "data": {
      "text/plain": [
       "<matplotlib.figure.Figure at 0x11bd03438>"
      ]
     },
     "metadata": {},
     "output_type": "display_data"
    },
    {
     "data": {
      "text/plain": [
       "<matplotlib.figure.Figure at 0x11c21cfd0>"
      ]
     },
     "metadata": {},
     "output_type": "display_data"
    },
    {
     "data": {
      "image/png": "[encoded data removed]",
      "text/plain": [
       "<matplotlib.figure.Figure at 0x11b8bfd30>"
      ]
     },
     "metadata": {},
     "output_type": "display_data"
    }
   ],
   "source": [
    "import matplotlib.pyplot as plt\n",
    "from astropy.nddata import Cutout2D\n",
    "from astropy.coordinates import SkyCoord\n",
    "from astropy.wcs import wcs\n",
    "import astropy.io.fits as fits\n",
    "import numpy as np\n",
    "import os\n",
    "from astropy.io.fits import getdata, getheader\n",
    "import astropy.units as u\n",
    "\n",
    "#Set up the figure.\n",
    "fig = plt.figure(figsize=(20,10))\n",
    "plt.suptitle('2MASS and WISE images for POSITION = '+ra+', '+dec, fontsize=16)\n",
    "\n",
    "#For each image,\n",
    "i = 0\n",
    "for filename in downloaded_images['filename']:\n",
    "    \n",
    "    #Make the title be the filename\n",
    "    filename = downloaded_images['filename'][i]\n",
    "    title = filename\n",
    "    \n",
    "    #Read in the image, header, and WCS\n",
    "    data = getdata(filename, 0)\n",
    "    header = getheader(filename, 0)\n",
    "    w = wcs.WCS(header)\n",
    "\n",
    "    #Make a cutout centered on the search position, with a 30 arcsec width.\n",
    "    position = SkyCoord(ra, dec, unit = 'deg')\n",
    "    size = 30.0 #* u.arcsec\n",
    "    cutout = Cutout2D(data, position, (size, size), wcs=w)\n",
    "\n",
    "    #Make a subplot for this image.\n",
    "    ax = fig.add_subplot(3,4,i+1)\n",
    "    ax.imshow(cutout.data, cmap='gray_r', origin='lower')\n",
    "    ax.set_title(title)\n",
    "    \n",
    "    i = i + 1\n",
    "    \n",
    "plt.show()"
   ]
  },
  {
   "cell_type": "markdown",
   "metadata": {},
   "source": [
    "<a id='multiwavelengthlist'></a>"
   ]
  },
  {
   "cell_type": "markdown",
   "metadata": {},
   "source": [
    "<a id='simpleconesearch'></a>"
   ]
  },
  {
   "cell_type": "markdown",
   "metadata": {},
   "source": [
    "## 10. Catalogs: Simple Cone Search\n",
    "\n",
    "The Simple Cone Search (SCS) protocol is used to search a given table with a given position and radius, getting again a VOTable XML result.\n",
    "\n",
    "Suppose we were considering proposing for observing time with Chandra. We might first want to check whether any of our sources were already observed by Chandra, XMM or ROSAT? Below, we show the search for the table 'chanmaster', the master catalog of observed Chandra targets, with a search radius of 0.1 degrees.\n",
    "\n",
    "The SCS is quite straightforward:\n"
   ]
  },
  {
   "cell_type": "code",
   "execution_count": null,
   "metadata": {
    "collapsed": false
   },
   "outputs": [
    {
     "name": "stderr",
     "output_type": "stream",
     "text": [
      "WARNING: W03: None:4:2: W03: Implicitly generating an ID from a name 'Info:Name resolution' -> 'Info_Name_resolution' [astropy.io.votable.xmlutil]\n",
      "WARNING: W50: None:22:3: W50: Invalid unit string 'mjd' [astropy.io.votable.tree]\n",
      "WARNING: W50: None:40:3: W50: Invalid unit string 'mjd' [astropy.io.votable.tree]\n"
     ]
    },
    {
     "name": "stdout",
     "output_type": "stream",
     "text": [
      "obsid status name  ra dec time ... exposure type  pi public_date Search_Offset\n",
      "                  deg deg mjd  ...    s                  mjd                  \n",
      "----- ------ ---- --- --- ---- ... -------- ---- --- ----------- -------------\n",
      "obsid status name  ra dec time ... exposure type  pi public_date Search_Offset\n",
      "                  deg deg mjd  ...    s                  mjd                  \n",
      "----- ------ ---- --- --- ---- ... -------- ---- --- ----------- -------------\n",
      "obsid status name  ra dec time ... exposure type  pi public_date Search_Offset\n",
      "                  deg deg mjd  ...    s                  mjd                  \n",
      "----- ------ ---- --- --- ---- ... -------- ---- --- ----------- -------------\n",
      "obsid  status      name        ra    ... type    pi    public_date Search_Offset\n",
      "                              deg    ...                   mjd                  \n",
      "----- -------- ----------- --------- ... ---- -------- ----------- -------------\n",
      " 7937 archived NGC2563-P14 125.81833 ...   GO Mulchaey       54461        4.7670\n",
      "obsid status name  ra dec time ... exposure type  pi public_date Search_Offset\n",
      "                  deg deg mjd  ...    s                  mjd                  \n",
      "----- ------ ---- --- --- ---- ... -------- ---- --- ----------- -------------\n",
      "obsid status name  ra dec time ... exposure type  pi public_date Search_Offset\n",
      "                  deg deg mjd  ...    s                  mjd                  \n",
      "----- ------ ---- --- --- ---- ... -------- ---- --- ----------- -------------\n"
     ]
    }
   ],
   "source": [
    "for i in range(len(list_of_galaxies)):\n",
    "    params = {'table': 'chanmaster', 'RA': list_of_galaxies[i]['ra'], 'DEC':list_of_galaxies[i]['dec'], 'SR':0.1}\n",
    "    r = requests.get('https://heasarc.gsfc.nasa.gov/cgi-bin/vo/cone/coneGet.pl', params=params)\n",
    "    table=Table.read(io.BytesIO(r.content))\n",
    "    print(table)"
   ]
  },
  {
   "cell_type": "markdown",
   "metadata": {},
   "source": [
    "<a href = \"#toc\">Table of Contents</a>"
   ]
  },
  {
   "cell_type": "markdown",
   "metadata": {
    "collapsed": true
   },
   "source": [
    "<a id='tableaccessprotocol'></a>"
   ]
  },
  {
   "cell_type": "markdown",
   "metadata": {},
   "source": [
    "## 11. Catalogs: Table Access Protocol"
   ]
  },
  {
   "cell_type": "markdown",
   "metadata": {},
   "source": [
    "<a href = \"#toc\">Table of Contents</a>"
   ]
  },
  {
   "cell_type": "markdown",
   "metadata": {},
   "source": [
    "<a id='tapexample1'></a>"
   ]
  },
  {
   "cell_type": "markdown",
   "metadata": {},
   "source": [
    "### 11a. Simple TAP Query"
   ]
  },
  {
   "cell_type": "code",
   "execution_count": 248,
   "metadata": {
    "collapsed": true
   },
   "outputs": [],
   "source": [
    "base_url = \"https://irsa.ipac.caltech.edu/TAP/sync?QUERY=SELECT+*+FROM+fp_psc+WHERE+CONTAINS(POINT('J2000',ra,dec),CIRCLE('J2000',66.76957,26.10453,0.01))=1\""
   ]
  },
  {
   "cell_type": "code",
   "execution_count": 249,
   "metadata": {
    "collapsed": false
   },
   "outputs": [
    {
     "name": "stdout",
     "output_type": "stream",
     "text": [
      "200\n",
      "https://irsa.ipac.caltech.edu/TAP/sync?QUERY=SELECT+*+FROM+fp_psc+WHERE+CONTAINS(POINT('J2000',ra,dec),CIRCLE('J2000',66.76957,26.10453,0.01))=1\n",
      "    ra        dec     err_maj err_min err_ang   designation     j_m   j_msig j_cmsig j_msigcom   j_snr     h_m   h_msig h_cmsig h_msigcom   h_snr     k_m   k_msig k_cmsig k_msigcom   k_snr    ph_qual rd_flg bl_flg cc_flg cc_old  ndet   prox  pxpa   pxcntr   gal_contam mp_flg    cntr    hemis   xdate    scan  id    glon    glat           x                   y                   z          x_scan   y_scan     jdate     j_m_psf j_msig_psf j_psfchi j_psf_id h_m_psf h_msig_psf h_psfchi h_psf_id k_m_psf k_msig_psf k_psfchi k_psf_id j_skyval h_skyval k_skyval j_skysig h_skysig k_skysig j_blend h_blend k_blend j_peakpix h_peakpix k_peakpix j_m_stdap j_msig_stdap h_m_stdap h_msig_stdap k_m_stdap k_msig_stdap j_m_lgap j_msig_lgap h_m_lgap h_msig_lgap k_m_lgap k_msig_lgap j_m_r1 j_msig_r1 h_m_r1 h_msig_r1 k_m_r1 k_msig_r1 j_cal  h_cal  k_cal  cnf_flg j_prob_pers h_prob_pers k_prob_pers j_prnt_id h_prnt_id k_prnt_id j_prg_flg h_prg_flg k_prg_flg j_mrg_flg h_mrg_flg k_mrg_flg j_pix_flg h_pix_flg k_pix_flg    dist_edge_ns       dist_edge_ew    dist_edge_flg dup_src use_src spos sdet  a      id_opt    dist_opt phi_opt b_m_opt vr_m_opt nopt_mchs ext_key mp_key night_key scan_key coadd_key coadd      htm20      \n",
      "   deg        deg       arcs    arcs    deg                     mag    mag     mag      mag                mag    mag     mag      mag                mag    mag     mag      mag                                                           arcs  deg                                                                       deg     deg                                                                arcs     arcs      jdate       mag      mag                         mag      mag                         mag      mag                          DN       DN       DN       DN       DN       DN                                DN        DN        DN       mag        mag         mag        mag         mag        mag        mag        mag       mag        mag       mag        mag      mag      mag     mag      mag     mag      mag     mag    mag    mag                                                                                                                                                                              arcs               arcs                                                                    arcs     deg     mag     mag                                                                                \n",
      "---------- ---------- ------- ------- ------- ---------------- ------ ------ ------- --------- ---------- ------ ------ ------- --------- ---------- ------ ------ ------- --------- ---------- ------- ------ ------ ------ ------ ------ ------ ---- ---------- ---------- ------ ---------- ----- ---------- ---- ---- ------- ------- ------------------- ------------------- ------------------- ------ --------- ------------ ------- ---------- -------- -------- ------- ---------- -------- -------- ------- ---------- -------- -------- -------- -------- -------- -------- -------- -------- ------- ------- ------- --------- --------- --------- --------- ------------ --------- ------------ --------- ------------ -------- ----------- -------- ----------- -------- ----------- ------ --------- ------ --------- ------ --------- ------ ------ ------ ------- ----------- ----------- ----------- --------- --------- --------- --------- --------- --------- --------- --------- --------- --------- --------- --------- ------------------ ------------------ ------------- ------- ------- ---- ---- --- ------------- -------- ------- ------- -------- --------- ------- ------ --------- -------- --------- ----- ----------------\n",
      " 66.769575  26.104530    0.06    0.06      90 04270469+2606163  8.691  0.007   0.007     0.018    13366.9  7.722  0.027   0.027     0.031    13035.0  6.992  0.013   0.013     0.020    16581.3     AAA    111    111    000    000 667766   16.4  234 1302753216          0      0 1302753223     n 1997-11-30   50 4592 171.842 -15.672  0.3541952332350000  0.8251889404220001  0.4400101696080000 -114.9   8257.94 2450782.7283   8.684      0.050     1.75    10091   7.529      0.044     6.12     9891   6.491      0.051    10.18     9481   439.80  2373.81  1510.96    10.02    19.41    16.03       1       1       1  41331.34  43240.96  42369.38        --           --        --           --        --           --       --       9.999       --       9.999       --       9.999  8.691     0.007  7.722     0.027  6.992     0.013  0.112  0.034  0.043  111111       0.000       0.000       0.000        --        --        --       000       000       000    200101    200101    200101      0066      0077      0066 8098.8000000000002 133.09999999999999            se       0       1    1    1   U U112501638036      1.4     196   13.60    11.40         1      --     --      1434    70054   1611228   103 16582160127343.0\n",
      " 66.765450  26.101864    0.06    0.06      45 04270370+2606067 15.962  0.079   0.075     0.076       16.5 14.384  0.061   0.056     0.057       28.2 13.697  0.048   0.041     0.042       34.5     AAA    222    111    ccc    ccc 165555   16.4   54 1302753223          0      0 1302753216     n 1997-11-30   50 4585 171.842 -15.677  0.3542627181390000  0.8251822505670000  0.4399683850980000 -101.5   8248.34 2450782.7283  15.962      0.079     0.85    10091  14.384      0.061     0.69     9891  13.697      0.048     1.02     9481   437.89  2372.28  1508.98     9.96    18.27    16.53       1       1       1     72.54    222.26    247.94    15.975        0.195    14.349        0.061    13.632        0.031   14.618       0.229   13.145       0.274   12.673       0.066     --        --     --        --     --        --  0.112  0.034  0.043  111111       0.000       0.000       0.000        --        --        --       001       001       001    000000    000000    000000      0016      0155      0155 8089.1000000000004              146.5            se       0       1    1    1   0                     --      --      --       --         0      --     --      1434    70054   1611228   103 16582160135988.0\n"
     ]
    },
    {
     "name": "stderr",
     "output_type": "stream",
     "text": [
      "WARNING: W50: None:138:6: W50: Invalid unit string 'jdate' [astropy.io.votable.tree]\n",
      "WARNING: W50: None:177:6: W50: Invalid unit string 'DN' [astropy.io.votable.tree]\n",
      "WARNING: W50: None:180:6: W50: Invalid unit string 'DN' [astropy.io.votable.tree]\n",
      "WARNING: W50: None:183:6: W50: Invalid unit string 'DN' [astropy.io.votable.tree]\n",
      "WARNING: W50: None:186:6: W50: Invalid unit string 'DN' [astropy.io.votable.tree]\n",
      "WARNING: W50: None:189:6: W50: Invalid unit string 'DN' [astropy.io.votable.tree]\n",
      "WARNING: W50: None:192:6: W50: Invalid unit string 'DN' [astropy.io.votable.tree]\n",
      "WARNING: W50: None:204:6: W50: Invalid unit string 'DN' [astropy.io.votable.tree]\n",
      "WARNING: W50: None:207:6: W50: Invalid unit string 'DN' [astropy.io.votable.tree]\n",
      "WARNING: W50: None:210:6: W50: Invalid unit string 'DN' (suppressing further warnings of this type...) [astropy.io.votable.tree]\n"
     ]
    }
   ],
   "source": [
    "# Send the search URL\n",
    "r = requests.get(base_url)\n",
    "print(r.status_code)\n",
    "print(r.url)\n",
    "\n",
    "# Convert the results into an astropy table.\n",
    "table=Table.read(io.BytesIO(r.content))\n",
    "\n",
    "#Print the table.\n",
    "table.pprint(max_width=-1)"
   ]
  },
  {
   "cell_type": "markdown",
   "metadata": {},
   "source": [
    "<a href = \"#toc\">Table of Contents</a>"
   ]
  },
  {
   "cell_type": "markdown",
   "metadata": {},
   "source": [
    "<a id='tapexample2'></a>"
   ]
  },
  {
   "cell_type": "markdown",
   "metadata": {},
   "source": [
    "### 11b. Do a table upload example. "
   ]
  },
  {
   "cell_type": "code",
   "execution_count": 252,
   "metadata": {
    "collapsed": true
   },
   "outputs": [],
   "source": [
    "#Convert table to VO table.\n",
    "#Write VO table.\n",
    "#Use this example.\n",
    "#curl -o fp_psc.xml \n",
    "#-F \"UPLOAD=my_table,param:table\" \n",
    "#-F \"table=@upload.vo\" \n",
    "#-F \"QUERY=SELECT fp_psc.ra, fp_psc.dec FROM fp_psc WHERE CONTAINS(POINT('J2000',ra,dec), CIRCLE('J2000',TAP_UPLOAD.my_table.ra, TAP_UPLOAD.my_table.dec, 0.01)) =1\" \n",
    "#https://irsa.ipac.caltech.edu/TAP/sync\n",
    "    "
   ]
  },
  {
   "cell_type": "markdown",
   "metadata": {},
   "source": [
    "<a href = \"#toc\">Table of Contents</a>"
   ]
  },
  {
   "cell_type": "markdown",
   "metadata": {},
   "source": [
    "<a id='ssa'></a>"
   ]
  },
  {
   "cell_type": "markdown",
   "metadata": {},
   "source": [
    "## 12. Simple Spectral Access\n",
    "\n",
    "Returning to our science example, suppose that we have analyzed the available Chandra image for the three matches above and discovered that one of these galaxies appears to have a potential ultraluminous X-ray source (ULX)! Now, we want to charatcterize the spectrum for this source. Therefore we will ask for a large exposure time and need to justify this by showing the spectrum of a prototypical ULX, M82 X-1."
   ]
  },
  {
   "cell_type": "code",
   "execution_count": null,
   "metadata": {
    "collapsed": true
   },
   "outputs": [],
   "source": [
    "import astropy.coordinates as coord\n",
    "m82=coord.SkyCoord.from_name(\"m82\")\n",
    "pos='{},{}'.format(m82.ra.deg,m82.dec.deg)\n",
    "params = {'table': 'chanmaster',\"POS\":pos,\"SIZE\":\".01\", \"REQUEST\":\"queryData\"}\n",
    "r = requests.get('https://heasarc.nasa.gov/xamin/vo/ssa', params=params)\n",
    "spec_table = Table.read(io.BytesIO(r.content))\n",
    "spec_table"
   ]
  },
  {
   "cell_type": "code",
   "execution_count": null,
   "metadata": {
    "collapsed": true
   },
   "outputs": [],
   "source": [
    "## Get the first spectrum (which has a long-ish exposure.)\n",
    "import astropy.io.fits as fits\n",
    "hdu_list=fits.open(spec_table[0]['SSA_reference'].decode()) # Byte format, so just decode() to string\n",
    "#hdu_list.info()\n",
    "table = Table(hdu_list[1].data)\n",
    "table"
   ]
  },
  {
   "cell_type": "code",
   "execution_count": null,
   "metadata": {
    "collapsed": true
   },
   "outputs": [],
   "source": [
    "for i in range(len(table)):\n",
    "    matplotlib.rcParams['figure.figsize'] = (18, 16)\n",
    "    ax=plt.subplot(6,2,i+1)\n",
    "    pha = plt.plot( table['CHANNEL'][i],table['COUNTS'][i])\n",
    "    ax.set_yscale('log')\n",
    "    if table['TG_PART'][i] == 1:\n",
    "        instr='HEG'\n",
    "    if table['TG_PART'][i] == 2:\n",
    "        instr='MEG'\n",
    "    if table['TG_PART'][i] == 3:\n",
    "        instr='LEG'\n",
    "    ax.set_title(str(table['TG_M'][i])+' '+instr)\n",
    "    plt.tight_layout()"
   ]
  },
  {
   "cell_type": "markdown",
   "metadata": {},
   "source": [
    "Note: The 12 plots here show all the different HEG and MEG components (+/- 3, +/- 2, and +/- 1 for each grating) for the grating data, as titled. In practice, you might want to download the fits file and use a different analysis and plotting tool to create an energy spectrum plot using SHERPA or XSPEC, etc.\n",
    "You can download the file directly using this:"
   ]
  },
  {
   "cell_type": "code",
   "execution_count": null,
   "metadata": {
    "collapsed": true
   },
   "outputs": [],
   "source": [
    "# Python 3\n",
    "import urllib.request\n",
    "urllib.request.urlretrieve(spec_table[0]['SSA_reference'].decode(), \"my_M82_spectrum.fits\")\n",
    "# Python 2\n",
    "#import urllib2\n",
    "#urllib.urlretrieve(spec_table[0]['SSA_reference'].decode(), \"my_M82_spectrum.fits\")"
   ]
  },
  {
   "cell_type": "markdown",
   "metadata": {},
   "source": [
    "<a href = \"#toc\">Table of Contents</a>"
   ]
  },
  {
   "cell_type": "code",
   "execution_count": null,
   "metadata": {
    "collapsed": true
   },
   "outputs": [],
   "source": []
  }
 ],
 "metadata": {
  "kernelspec": {
   "display_name": "Python 3",
   "language": "python",
   "name": "python3"
  }
 },
 "nbformat": 4,
 "nbformat_minor": 2
}
