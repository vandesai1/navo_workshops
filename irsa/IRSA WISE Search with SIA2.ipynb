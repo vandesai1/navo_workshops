{
 "cells": [
  {
   "cell_type": "markdown",
   "metadata": {},
   "source": [
    "# IRSA AllWISE Example (SIA2)"
   ]
  },
  {
   "cell_type": "code",
   "execution_count": 3,
   "metadata": {
    "collapsed": false
   },
   "outputs": [],
   "source": [
    "\n",
    "import shutil"
   ]
  },
  {
   "cell_type": "markdown",
   "metadata": {},
   "source": [
    "## Send a URL request to IRSA."
   ]
  },
  {
   "cell_type": "code",
   "execution_count": 14,
   "metadata": {
    "collapsed": true
   },
   "outputs": [],
   "source": [
    "ra_deg = -164.7\n",
    "dec_deg = 5.8\n",
    "radius = 0.0027777"
   ]
  },
  {
   "cell_type": "code",
   "execution_count": 21,
   "metadata": {
    "collapsed": false
   },
   "outputs": [],
   "source": [
    "irsa_image_base_url = 'https://irsa.ipac.caltech.edu/SIA?'"
   ]
  },
  {
   "cell_type": "code",
   "execution_count": 34,
   "metadata": {
    "collapsed": false
   },
   "outputs": [],
   "source": [
    "request_url = irsa_image_base_url+'COLLECTION=wise_allwise&POS=circle+'+str(ra_deg)+'+'+str(dec_deg)+'+'+str(radius)"
   ]
  },
  {
   "cell_type": "code",
   "execution_count": 36,
   "metadata": {
    "collapsed": false
   },
   "outputs": [],
   "source": [
    "import requests #http://docs.python-requests.org/en/master/\n",
    "r = requests.get(request_url)"
   ]
  },
  {
   "cell_type": "code",
   "execution_count": 37,
   "metadata": {
    "collapsed": false
   },
   "outputs": [
    {
     "data": {
      "text/plain": [
       "200"
      ]
     },
     "execution_count": 37,
     "metadata": {},
     "output_type": "execute_result"
    }
   ],
   "source": [
    "r.status_code"
   ]
  },
  {
   "cell_type": "markdown",
   "metadata": {},
   "source": [
    "## Write the output to a file."
   ]
  },
  {
   "cell_type": "code",
   "execution_count": 54,
   "metadata": {
    "collapsed": true
   },
   "outputs": [],
   "source": [
    "file = open('file.xml', 'w')"
   ]
  },
  {
   "cell_type": "code",
   "execution_count": 55,
   "metadata": {
    "collapsed": false
   },
   "outputs": [
    {
     "data": {
      "text/plain": [
       "59204"
      ]
     },
     "execution_count": 55,
     "metadata": {},
     "output_type": "execute_result"
    }
   ],
   "source": [
    "file.write(r.text)"
   ]
  },
  {
   "cell_type": "code",
   "execution_count": 56,
   "metadata": {
    "collapsed": true
   },
   "outputs": [],
   "source": [
    "file.close()"
   ]
  },
  {
   "cell_type": "markdown",
   "metadata": {},
   "source": [
    "# Convert the XML table format to an astropy table"
   ]
  },
  {
   "cell_type": "code",
   "execution_count": 60,
   "metadata": {
    "collapsed": false
   },
   "outputs": [],
   "source": [
    "from astropy.io.votable import parse\n",
    "table = votable.get_first_table()"
   ]
  },
  {
   "cell_type": "code",
   "execution_count": 84,
   "metadata": {
    "collapsed": false
   },
   "outputs": [],
   "source": [
    "newtable = table1.to_table()"
   ]
  },
  {
   "cell_type": "code",
   "execution_count": 85,
   "metadata": {
    "collapsed": false
   },
   "outputs": [
    {
     "name": "stderr",
     "output_type": "stream",
     "text": [
      "/Users/desai/anaconda/lib/python3.5/site-packages/astropy/table/column.py:268: FutureWarning: elementwise comparison failed; returning scalar instead, but in the future will perform elementwise comparison\n",
      "  return self.data.__eq__(other)\n"
     ]
    },
    {
     "data": {
      "text/plain": [
       "<Table masked=True length=30>\n",
       "           name            dtype   unit format                                 description                                 n_bad\n",
       "------------------------- ------- ----- ------ --------------------------------------------------------------------------- -----\n",
       "                 s_region  object   deg                                               AstroCoordArea Region covered in STC     0\n",
       "           obs_collection  object                                              Data collection this observation belongs to     0\n",
       "               obs_intent  object                                  Intended purpose of data (one of: science, calibration)     0\n",
       "           algorithm_name  object                                                   Algorithm that defines the observation     0\n",
       "           telescope_name  object                                            Name of telescope used to acquire observation     0\n",
       "       telescope_keywords  object                                            Telescope keywords formatted as a JSON string     0\n",
       "          instrument_name  object                                           Name of instrument used to acquire observation     0\n",
       "      instrument_keywords  object                                           Instrument keywords formatted as a JSON string     0\n",
       "  environment_photometric    bool                                            Conditions were photometric (0=false, 1=true)    30\n",
       "              proposal_id  object                                           Collection-specific unique proposal identifier     0\n",
       "              proposal_pi  object                                                          Proposal principal investigator     0\n",
       "         proposal_project  object                                            Project that created/acquired the observation     0\n",
       "           proposal_title  object                                                                           Proposal title     0\n",
       "              target_name  object                                                                       Object of interest     0\n",
       "              target_type  object                                   Classification of intended target ('object' or 'field'     0\n",
       "          target_standard    bool                                          Intended target is a standard (0=false, 1=true)     0\n",
       "            target_moving    bool                                              Intended target is moving (0=false, 1=true)     0\n",
       "          target_keywords  object                                               Target keywords formatted as a JSON string     0\n",
       "              calib_level   int16                                    Calibration level of the observation: in {0, 1, 2, 3}     0\n",
       "         dataproduct_type  object                                                 Data product (file content) primary type     0\n",
       "position_dimension_naxis1   int64                                   Dimensions (number of pixels) along first spatial axis     0\n",
       "position_dimension_naxis2   int64                                  Dimensions (number of pixels) along second spatial axis     0\n",
       "      position_samplesize float64   deg     %r                                  Median sample (pixel) size on spatial axes     0\n",
       "   position_timedependent    bool                                             Position is time-dependent (0=false, 1=true)     0\n",
       "            energy_emband  object                     Generic name for energy band (Radio,Millimeter,Infrared,Optical,...)     0\n",
       "      energy_bandpassname  object                              Collection-specific name for energy band (e.g. filter name)     0\n",
       "                    t_min float64     d     %r                              Lower bound on time axis (Modified Julian Day)     0\n",
       "                    t_max float64     d     %r                              Upper bound on time axis (Modified Julian Day)     0\n",
       "                t_exptime float64     s     %r                                              Median exposure time per pixel     0\n",
       "             t_resolution float64     s     %r                                          Median resolution on the time axis    30\n",
       "               access_url  object                                                            URI for the physical artifact     0\n",
       "            access_format  object                                                Content-Type of the representation at uri     0\n",
       "           access_estsize   int64 kbyte                                                  Size of the representation at uri    30\n",
       "                   obs_id  object                                                  Internal ID given by the ObsTAP service     0\n",
       "        obs_publisher_did  object                                                   IVOA Dataset ID given by the publisher     0\n",
       "                     s_ra float64   deg     %r                            Central Spatial Position in ICRS Right ascension     0\n",
       "                    s_dec float64   deg     %r                                Central Spatial Position in ICRS Declination     0\n",
       "                    s_fov float64   deg     %r Estimated size of the covered region as the diameter of a containing circle     0\n",
       "             s_resolution float64   deg     %r                                            Median spatial resolution (FWHM)     0\n",
       "                   em_min float64     m     %r                         Lower bound on energy axis (barycentric wavelength)     0\n",
       "                   em_max float64     m     %r                         Upper bound on energy axis (barycentric wavelength)     0\n",
       "             em_res_power float64           %r                                         Median spectral resolving power (R)    30\n",
       "                    o_ucd  object                                                            Nature of the observable axis     0"
      ]
     },
     "execution_count": 85,
     "metadata": {},
     "output_type": "execute_result"
    }
   ],
   "source": [
    "newtable.info"
   ]
  },
  {
   "cell_type": "code",
   "execution_count": 86,
   "metadata": {
    "collapsed": false
   },
   "outputs": [
    {
     "name": "stdout",
     "output_type": "stream",
     "text": [
      "energy_bandpassname   access_format   \n",
      "------------------- ------------------\n",
      "                 W4         image/fits\n",
      "                 W4         text/plain\n",
      "                 W4         text/plain\n",
      "                 W4 application/x-gzip\n",
      "                 W4         text/plain\n",
      "                 W4         text/plain\n",
      "                 W4         text/plain\n",
      "                 W4 application/x-gzip\n",
      "                 W1         text/plain\n",
      "                 W1         text/plain\n",
      "                ...                ...\n",
      "                 W2         text/plain\n",
      "                 W2 application/x-gzip\n",
      "                 W2         image/fits\n",
      "                 W3         text/plain\n",
      "                 W3         text/plain\n",
      "                 W3         text/plain\n",
      "                 W3 application/x-gzip\n",
      "                 W3         text/plain\n",
      "                 W3 application/x-gzip\n",
      "                 W3         image/fits\n",
      "                 W3         text/plain\n",
      "Length = 30 rows\n"
     ]
    }
   ],
   "source": [
    "print(newtable['energy_bandpassname', 'access_format'])"
   ]
  },
  {
   "cell_type": "markdown",
   "metadata": {},
   "source": [
    "## Put the results in an astropy table. \n",
    "http://docs.astropy.org/en/stable/table/access_table.html"
   ]
  },
  {
   "cell_type": "code",
   "execution_count": 5,
   "metadata": {
    "collapsed": true
   },
   "outputs": [],
   "source": [
    "from io import BytesIO\n",
    "from astropy.table import Table\n",
    "table = Table.read(BytesIO(r.content), hdu=1)"
   ]
  },
  {
   "cell_type": "markdown",
   "metadata": {},
   "source": [
    "## Give me some basic info about the table that was returned."
   ]
  },
  {
   "cell_type": "code",
   "execution_count": 6,
   "metadata": {
    "collapsed": false
   },
   "outputs": [
    {
     "name": "stderr",
     "output_type": "stream",
     "text": [
      "/Users/desai/anaconda/lib/python3.5/site-packages/astropy/table/column.py:268: FutureWarning: elementwise comparison failed; returning scalar instead, but in the future will perform elementwise comparison\n",
      "  return self.data.__eq__(other)\n"
     ]
    },
    {
     "data": {
      "text/plain": [
       "<Table length=27>\n",
       "           name            dtype  shape  unit n_bad\n",
       "------------------------- ------- ----- ----- -----\n",
       "      null_bitfield_flags   uint8  (6,)           0\n",
       "                 s_region  str181         deg     0\n",
       "           obs_collection   str12                 0\n",
       "               obs_intent    str7                 0\n",
       "           algorithm_name    str6                 0\n",
       "           telescope_name    str4                 0\n",
       "       telescope_keywords    str1                 0\n",
       "          instrument_name    str4                 0\n",
       "      instrument_keywords    str1                 0\n",
       "  environment_photometric    bool                 0\n",
       "              proposal_id    str1                 0\n",
       "              proposal_pi   str16                 0\n",
       "         proposal_project    str4                 0\n",
       "           proposal_title   str58                 0\n",
       "              target_name    str1                 0\n",
       "              target_type    str5                 0\n",
       "          target_standard    bool                 0\n",
       "            target_moving    bool                 0\n",
       "          target_keywords    str1                 0\n",
       "              calib_level   int16                 0\n",
       "         dataproduct_type    str5                 0\n",
       "position_dimension_naxis1   int64                 0\n",
       "position_dimension_naxis2   int64                 0\n",
       "      position_samplesize float64         deg     0\n",
       "   position_timedependent    bool                 0\n",
       "            energy_emband    str8                 0\n",
       "      energy_bandpassname    str2                 0\n",
       "                    t_min float64           d     0\n",
       "                    t_max float64           d     0\n",
       "                t_exptime float64           s     0\n",
       "             t_resolution float64           s    27\n",
       "               access_url  str113                 0\n",
       "            access_format   str18                 0\n",
       "           access_estsize   int64       kbyte     0\n",
       "                   obs_id   str36                 0\n",
       "        obs_publisher_did   str42                 0\n",
       "                     s_ra float64         deg     0\n",
       "                    s_dec float64         deg     0\n",
       "                    s_fov float64         deg     0\n",
       "             s_resolution float64         deg     0\n",
       "                   em_min float64           m     0\n",
       "                   em_max float64           m     0\n",
       "             em_res_power float64                27\n",
       "                    o_ucd    str1                 0"
      ]
     },
     "execution_count": 6,
     "metadata": {},
     "output_type": "execute_result"
    }
   ],
   "source": [
    "table.info"
   ]
  },
  {
   "cell_type": "markdown",
   "metadata": {},
   "source": [
    "# Print a selection of columns."
   ]
  },
  {
   "cell_type": "code",
   "execution_count": 7,
   "metadata": {
    "collapsed": false
   },
   "outputs": [
    {
     "name": "stdout",
     "output_type": "stream",
     "text": [
      "energy_bandpassname   access_format   \n",
      "------------------- ------------------\n",
      "                 W3 application/x-gzip\n",
      "                 W3 image/fits        \n",
      "                 W3 text/plain        \n",
      "                 W3 text/plain        \n",
      "                 W3 application/x-gzip\n",
      "                 W3 text/plain        \n",
      "                 W3 text/plain        \n",
      "                 W1 text/plain        \n",
      "                 W1 text/plain        \n",
      "                 W1 image/fits        \n",
      "                ...                ...\n",
      "                 W2 text/plain        \n",
      "                 W2 application/x-gzip\n",
      "                 W2 application/x-gzip\n",
      "                 W2 image/fits        \n",
      "                 W2 text/plain        \n",
      "                 W2 text/plain        \n",
      "                 W4 text/plain        \n",
      "                 W4 application/x-gzip\n",
      "                 W4 image/fits        \n",
      "                 W4 application/x-gzip\n",
      "                 W4 text/plain        \n",
      "Length = 27 rows\n"
     ]
    }
   ],
   "source": [
    "print(table['energy_bandpassname', 'access_format'])"
   ]
  },
  {
   "cell_type": "markdown",
   "metadata": {},
   "source": [
    "## Choose FITS files taken in the W1 filter."
   ]
  },
  {
   "cell_type": "code",
   "execution_count": 8,
   "metadata": {
    "collapsed": false
   },
   "outputs": [],
   "source": [
    "index = (table['energy_bandpassname'] == 'W1') & (table['access_format'] == 'image/fits        ')"
   ]
  },
  {
   "cell_type": "code",
   "execution_count": 9,
   "metadata": {
    "collapsed": false
   },
   "outputs": [
    {
     "data": {
      "text/html": [
       "&lt;Table length=1&gt;\n",
       "<table id=\"table4547650616\">\n",
       "<thead><tr><th>null_bitfield_flags [6]</th><th>s_region</th><th>obs_collection</th><th>obs_intent</th><th>algorithm_name</th><th>telescope_name</th><th>telescope_keywords</th><th>instrument_name</th><th>instrument_keywords</th><th>environment_photometric</th><th>proposal_id</th><th>proposal_pi</th><th>proposal_project</th><th>proposal_title</th><th>target_name</th><th>target_type</th><th>target_standard</th><th>target_moving</th><th>target_keywords</th><th>calib_level</th><th>dataproduct_type</th><th>position_dimension_naxis1</th><th>position_dimension_naxis2</th><th>position_samplesize</th><th>position_timedependent</th><th>energy_emband</th><th>energy_bandpassname</th><th>t_min</th><th>t_max</th><th>t_exptime</th><th>t_resolution</th><th>access_url</th><th>access_format</th><th>access_estsize</th><th>obs_id</th><th>obs_publisher_did</th><th>s_ra</th><th>s_dec</th><th>s_fov</th><th>s_resolution</th><th>em_min</th><th>em_max</th><th>em_res_power</th><th>o_ucd</th></tr></thead>\n",
       "<thead><tr><th></th><th>deg</th><th></th><th></th><th></th><th></th><th></th><th></th><th></th><th></th><th></th><th></th><th></th><th></th><th></th><th></th><th></th><th></th><th></th><th></th><th></th><th></th><th></th><th>deg</th><th></th><th></th><th></th><th>d</th><th>d</th><th>s</th><th>s</th><th></th><th></th><th>kbyte</th><th></th><th></th><th>deg</th><th>deg</th><th>deg</th><th>deg</th><th>m</th><th>m</th><th></th><th></th></tr></thead>\n",
       "<thead><tr><th>uint8</th><th>str181</th><th>str12</th><th>str7</th><th>str6</th><th>str4</th><th>str1</th><th>str4</th><th>str1</th><th>bool</th><th>str1</th><th>str16</th><th>str4</th><th>str58</th><th>str1</th><th>str5</th><th>bool</th><th>bool</th><th>str1</th><th>int16</th><th>str5</th><th>int64</th><th>int64</th><th>float64</th><th>bool</th><th>str8</th><th>str2</th><th>float64</th><th>float64</th><th>float64</th><th>float64</th><th>str113</th><th>str18</th><th>int64</th><th>str36</th><th>str42</th><th>float64</th><th>float64</th><th>float64</th><th>float64</th><th>float64</th><th>float64</th><th>float64</th><th>str1</th></tr></thead>\n",
       "<tr><td>5 .. 64</td><td>POLYGON ICRS -163.261860888792 -6.839647613318 -164.83756839366 -6.839648167653 -164.835289092986 -5.275156783985 -163.264141302672 -5.275156231255 -163.261860888792 -6.839647613318</td><td>wise_allwise</td><td>science</td><td>mosaic</td><td>WISE</td><td></td><td>WISE</td><td></td><td>True</td><td></td><td>Edward L. Wright</td><td>WISE</td><td>Wide-field Infrared Survey Explorer - AllWISE Atlas Images</td><td></td><td>field</td><td>False</td><td>False</td><td></td><td>3</td><td>image</td><td>4095</td><td>4095</td><td>2.75</td><td>False</td><td>Infrared</td><td>W1</td><td>55203.0879785</td><td>55570.6052799</td><td>196.3962</td><td>nan</td><td>https://irsa.ipac.caltech.edu/ibe/data/wise/allwise/p3am_cdd/19/1959/1959m061_ac51/1959m061_ac51-w1-int-3.fits</td><td>image/fits</td><td>9223372036854775807</td><td>3a1d748d-67ff-423a-9868-7971693dfc03</td><td>ivo://irsa.ipac/wise_allwise/1959m061_ac51</td><td>-164.049907</td><td>-6.057778</td><td>3.128125</td><td>6.1</td><td>3.15e-06</td><td>3.78e-06</td><td>nan</td><td></td></tr>\n",
       "</table>"
      ],
      "text/plain": [
       "<Table length=1>\n",
       "null_bitfield_flags [6] ... o_ucd\n",
       "                        ...      \n",
       "         uint8          ...  str1\n",
       "----------------------- ... -----\n",
       "                5 .. 64 ...      "
      ]
     },
     "execution_count": 9,
     "metadata": {},
     "output_type": "execute_result"
    }
   ],
   "source": [
    "table[index]"
   ]
  },
  {
   "cell_type": "markdown",
   "metadata": {},
   "source": [
    "## Get URL of file that you want."
   ]
  },
  {
   "cell_type": "code",
   "execution_count": 10,
   "metadata": {
    "collapsed": false
   },
   "outputs": [],
   "source": [
    "url = table['access_url'][index][0].strip()"
   ]
  },
  {
   "cell_type": "code",
   "execution_count": 11,
   "metadata": {
    "collapsed": false
   },
   "outputs": [
    {
     "data": {
      "text/plain": [
       "'https://irsa.ipac.caltech.edu/ibe/data/wise/allwise/p3am_cdd/19/1959/1959m061_ac51/1959m061_ac51-w1-int-3.fits'"
      ]
     },
     "execution_count": 11,
     "metadata": {},
     "output_type": "execute_result"
    }
   ],
   "source": [
    "url"
   ]
  },
  {
   "cell_type": "markdown",
   "metadata": {},
   "source": [
    "## Query for the image."
   ]
  },
  {
   "cell_type": "code",
   "execution_count": 12,
   "metadata": {
    "collapsed": false
   },
   "outputs": [],
   "source": [
    "response = requests.get(url, stream=True)"
   ]
  },
  {
   "cell_type": "markdown",
   "metadata": {},
   "source": [
    "## Create a cutout of the image."
   ]
  },
  {
   "cell_type": "code",
   "execution_count": null,
   "metadata": {
    "collapsed": true
   },
   "outputs": [],
   "source": [
    "position = SkyCoord()"
   ]
  },
  {
   "cell_type": "markdown",
   "metadata": {},
   "source": [
    "## Save the image to your disk."
   ]
  },
  {
   "cell_type": "code",
   "execution_count": 13,
   "metadata": {
    "collapsed": true
   },
   "outputs": [],
   "source": [
    "import shutil\n",
    "with open('image.fits', 'wb') as out_file:\n",
    "    shutil.copyfileobj(response.raw,out_file)"
   ]
  },
  {
   "cell_type": "code",
   "execution_count": null,
   "metadata": {
    "collapsed": true
   },
   "outputs": [],
   "source": []
  }
 ],
 "metadata": {
  "kernelspec": {
   "display_name": "Python 3",
   "language": "python",
   "name": "python3"
  },
  "language_info": {
   "codemirror_mode": {
    "name": "ipython",
    "version": 3
   },
   "file_extension": ".py",
   "mimetype": "text/x-python",
   "name": "python",
   "nbconvert_exporter": "python",
   "pygments_lexer": "ipython3",
   "version": "3.5.1"
  }
 },
 "nbformat": 4,
 "nbformat_minor": 2
}
