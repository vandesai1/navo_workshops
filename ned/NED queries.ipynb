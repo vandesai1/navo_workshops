{
 "cells": [
  {
   "cell_type": "code",
   "execution_count": 2,
   "metadata": {
    "collapsed": false
   },
   "outputs": [
    {
     "name": "stdout",
     "output_type": "stream",
     "text": [
      "No.       Object Name             RA(deg)       ... Diameter Points Associations\n",
      "                                  degrees       ...                             \n",
      "--- ------------------------ ------------------ ... --------------- ------------\n",
      "  1  2MASX J03313680-2801280 52.903039999999997 ...               2            0\n",
      "  2  2MASX J03322979-2733434 53.124090000000002 ...               2            0\n",
      "  3  2MASX J03325649-2758482 53.235230000000001 ...               2            0\n",
      "  4  SARS 052.81283-27.98680 53.335790000000003 ...               2            0\n",
      "  5  SARS 052.81366-27.96606 53.336869999999998 ...               2            0\n",
      "  6  2MASX J10300561+0540243 157.52333999999999 ...              10            0\n",
      "  7  2MASX J10313863+0527242          157.91109 ...              10            0\n",
      "  8  2MASX J12545375+0109332          193.72377 ...              10            0\n",
      "  9  2MASX J12550805+0108357          193.78357 ...              10            0\n",
      " 10  2MASX J12564141+0053589 194.17260999999999 ...              10            0\n",
      "...                      ...                ... ...             ...          ...\n",
      "117  2MASX J14370497+3419398          219.27086 ...              10            0\n",
      "118  2MASX J14370699+3418508 219.27923000000001 ...              10            1\n",
      "119 SDSS J143716.72+351356.2          219.31967 ...               8            1\n",
      "120  2MASX J14371764+3418227 219.32362000000001 ...              10            0\n",
      "121 SDSS J143718.16+354122.5          219.32567 ...               8            0\n",
      "122  2MASX J14372034+3538167 219.33466999999999 ...               6            0\n",
      "123  2MASX J14372180+3434557 219.34108000000001 ...               8            0\n",
      "124  2MASX J14380841+3510004 219.53494000000001 ...              10            0\n",
      "125 SDSS J143822.03+353653.7          219.59179 ...               4            0\n",
      "126  2MASX J14384505+3523377 219.68781999999999 ...              10            0\n",
      "Length = 126 rows\n"
     ]
    }
   ],
   "source": [
    "from astroquery.ned import Ned\n",
    "result_table = Ned.query_refcode('2005AJ....130.2647V')\n",
    "print(result_table)"
   ]
  },
  {
   "cell_type": "markdown",
   "metadata": {
    "collapsed": true
   },
   "source": [
    "Simple Spectral Access:\n",
    "\n",
    "http://vao.stsci.edu/directory/getRecord.aspx?id=ivo://ned.ipac/SED_Data_Near_Position"
   ]
  },
  {
   "cell_type": "code",
   "execution_count": 16,
   "metadata": {
    "collapsed": false
   },
   "outputs": [
    {
     "name": "stderr",
     "output_type": "stream",
     "text": [
      "WARNING: W20: None:9:0: W20: No version number specified in file.  Assuming 1.2 [astropy.io.votable.tree]\n",
      "WARNING: W22: None:15:0: W22: The DEFINITIONS element is deprecated in VOTable 1.1.  Ignoring [astropy.io.votable.tree]\n",
      "WARNING: W27: None:16:0: W27: COOSYS deprecated in VOTable 1.2 [astropy.io.votable.tree]\n",
      "WARNING: W35: None:22:0: W35: 'value' attribute required for INFO elements [astropy.io.votable.tree]\n",
      "WARNING: W35: None:23:0: W35: 'value' attribute required for INFO elements [astropy.io.votable.tree]\n",
      "WARNING: W35: None:24:0: W35: 'value' attribute required for INFO elements [astropy.io.votable.tree]\n",
      "WARNING: W04: None:28:0: W04: content-type 'char' must be a valid MIME content type [astropy.io.votable.xmlutil]\n"
     ]
    },
    {
     "data": {
      "text/html": [
       "&lt;Table masked=True length=5&gt;\n",
       "<table id=\"table4544849904\">\n",
       "<thead><tr><th>ObjectName</th><th>NumberPhotometricPoints</th><th>ACREF</th></tr></thead>\n",
       "<thead><tr><th>object</th><th>int32</th><th>object</th></tr></thead>\n",
       "<tr><td>UGC 00418</td><td>18</td><td>/services/accessSED?REQUEST=getData&amp;TARGETNAME=UGC 00418</td></tr>\n",
       "<tr><td>GALEXASC J003937.48+085644.3</td><td>3</td><td>/services/accessSED?REQUEST=getData&amp;TARGETNAME=GALEXASC J003937.48+085644.3</td></tr>\n",
       "<tr><td>GALEXASC J003940.58+085731.8</td><td>2</td><td>/services/accessSED?REQUEST=getData&amp;TARGETNAME=GALEXASC J003940.58+085731.8</td></tr>\n",
       "<tr><td>GALEXASC J003935.54+085800.1</td><td>4</td><td>/services/accessSED?REQUEST=getData&amp;TARGETNAME=GALEXASC J003935.54+085800.1</td></tr>\n",
       "<tr><td>GALEXASC J003940.10+085750.7</td><td>4</td><td>/services/accessSED?REQUEST=getData&amp;TARGETNAME=GALEXASC J003940.10+085750.7</td></tr>\n",
       "</table>"
      ],
      "text/plain": [
       "<Table masked=True length=5>\n",
       "         ObjectName          ...\n",
       "           object            ...\n",
       "---------------------------- ...\n",
       "                   UGC 00418 ...\n",
       "GALEXASC J003937.48+085644.3 ...\n",
       "GALEXASC J003940.58+085731.8 ...\n",
       "GALEXASC J003935.54+085800.1 ...\n",
       "GALEXASC J003940.10+085750.7 ..."
      ]
     },
     "execution_count": 16,
     "metadata": {},
     "output_type": "execute_result"
    }
   ],
   "source": [
    "import requests\n",
    "import io\n",
    "from astropy.table import Table\n",
    "base_url = \"http://vo.ned.ipac.caltech.edu/services/querySED?\"\n",
    "params = \"REQUEST=queryData&POS=9.90704,8.96507&SIZE=0.02\"\n",
    "url = base_url + params\n",
    "r = requests.get(url)\n",
    "table = Table.read(io.BytesIO(r.content))\n",
    "table"
   ]
  },
  {
   "cell_type": "code",
   "execution_count": 33,
   "metadata": {
    "collapsed": false
   },
   "outputs": [
    {
     "name": "stderr",
     "output_type": "stream",
     "text": [
      "WARNING: W42: None:2:0: W42: No XML namespace specified [astropy.io.votable.tree]\n",
      "WARNING: W22: None:3:0: W22: The DEFINITIONS element is deprecated in VOTable 1.1.  Ignoring [astropy.io.votable.tree]\n",
      "WARNING: W04: None:17:0: W04: content-type 'char' must be a valid MIME content type [astropy.io.votable.xmlutil]\n"
     ]
    },
    {
     "data": {
      "text/html": [
       "&lt;Table masked=True length=18&gt;\n",
       "<table id=\"table4545800232\">\n",
       "<thead><tr><th>DataPointNumber</th><th>DataSpectralPassBand</th><th>DataFluxPublishedValue</th><th>DataFluxPublishedStatErr</th><th>DataFluxPublishedUnit</th><th>DataSpectralValue</th><th>DataFluxValue</th><th>DataFluxStatErr</th><th>DataFluxUnit</th><th>DataRefcode</th><th>DataSignificance</th><th>DataSpectralPublishedValue</th><th>DataFrequencyMode</th><th>DataTargetPos</th><th>DataSpatialMode</th><th>DataQualifiers</th><th>DataComments</th></tr></thead>\n",
       "<thead><tr><th></th><th></th><th></th><th></th><th></th><th>Hz</th><th>Jy</th><th>Jy</th><th></th><th></th><th></th><th></th><th></th><th></th><th></th><th></th><th></th></tr></thead>\n",
       "<thead><tr><th>int32</th><th>object</th><th>float64</th><th>float64</th><th>object</th><th>float64</th><th>float64</th><th>float64</th><th>object</th><th>object</th><th>object</th><th>object</th><th>object</th><th>object</th><th>object</th><th>object</th><th>object</th></tr></thead>\n",
       "<tr><td>1</td><td>FUV (GALEX) AB</td><td>20.276800000000001</td><td>0.23053599999999999</td><td>mag</td><td>1950000000000000.0</td><td>2.8099999999999999e-05</td><td>5.9699999999999996e-06</td><td>Jy</td><td>2012GASC..C...0000S</td><td>uncertainty</td><td>1538.6     A</td><td>Broad-band measurement</td><td>9.9069362444010 8.9653795366379 (J2000)</td><td>Flux integrated from map</td><td>Kron flux in elliptical aperture</td><td>From new raw data</td></tr>\n",
       "<tr><td>2</td><td>FUV (GALEX) AB</td><td>21.626300000000001</td><td>0.44261899999999998</td><td>mag</td><td>1950000000000000.0</td><td>8.1200000000000002e-06</td><td>3.3100000000000001e-06</td><td>Jy</td><td>2012GASC..C...0000S</td><td>uncertainty</td><td>1538.6     A</td><td>Broad-band measurement</td><td>9.9069362444010 8.9653795366379 (J2000)</td><td>Flux in fixed aperture</td><td>Flux in 7.5 arcsec diameter aperture</td><td>From new raw data</td></tr>\n",
       "<tr><td>3</td><td>NUV (GALEX) AB</td><td>19.561</td><td>0.099566100000000005</td><td>mag</td><td>1290000000000000.0</td><td>5.4400000000000001e-05</td><td>4.9899999999999997e-06</td><td>Jy</td><td>2012GASC..C...0000S</td><td>uncertainty</td><td>2315.7     A</td><td>Broad-band measurement</td><td>9.9069362444010 8.9653795366379 (J2000)</td><td>Flux integrated from map</td><td>Kron flux in elliptical aperture</td><td>From new raw data</td></tr>\n",
       "<tr><td>4</td><td>NUV (GALEX) AB</td><td>21.238299999999999</td><td>0.19688800000000001</td><td>mag</td><td>1290000000000000.0</td><td>1.1600000000000001e-05</td><td>2.0999999999999998e-06</td><td>Jy</td><td>2012GASC..C...0000S</td><td>uncertainty</td><td>2315.7     A</td><td>Broad-band measurement</td><td>9.9069362444010 8.9653795366379 (J2000)</td><td>Flux in fixed aperture</td><td>Flux in 7.5 arcsec diameter aperture</td><td>From new raw data</td></tr>\n",
       "<tr><td>5</td><td>m_p</td><td>15.199999999999999</td><td>0.40000000000000002</td><td>mag</td><td>681000000000000.0</td><td>0.0035400000000000002</td><td>0.00158</td><td>Jy</td><td>1965CGCG5.C...0000Z</td><td>rms noise</td><td>4400       A</td><td>Broad-band measurement</td><td>003700.0 +084100. (B1950)</td><td>Estimated by eye</td><td></td><td>From new raw data</td></tr>\n",
       "<tr><td>6</td><td>B (m_B)</td><td>14.94</td><td>0.17999999999999999</td><td>mag</td><td>681000000000000.0</td><td>0.0044999999999999997</td><td>0.000812</td><td>Jy</td><td>1991RC3.9.C...0000d</td><td>rms uncertainty</td><td>4400       A</td><td>Broad-band measurement</td><td>0037.0 +0841 (B1950)</td><td>Multiple methods</td><td></td><td>Homogenized from new and previously published data; StandardJohnson UBVRI filters assumed</td></tr>\n",
       "<tr><td>7</td><td>B (m_B^0)</td><td>13.43</td><td>--</td><td>mag</td><td>681000000000000.0</td><td>0.018100000000000002</td><td>--</td><td>Jy</td><td>1991RC3.9.C...0000d</td><td>no uncertainty reported</td><td>4400       A</td><td>Broad-band measurement</td><td>0037.0 +0841 (B1950)</td><td>Multiple methods</td><td></td><td>Homogenized from new and previously published data;Extinction-corrected for internal and Milky Way andK-correction applied; Standard Johnson UBVRI filtersassumed</td></tr>\n",
       "<tr><td>8</td><td>I</td><td>12.880000000000001</td><td>0.02</td><td>mag</td><td>379000000000000.0</td><td>0.017999999999999999</td><td>0.00033100000000000002</td><td>Jy</td><td>2007ApJS..172..599S</td><td>uncertainty</td><td>7900 A</td><td>Broad-band measurement</td><td>00 39 37.6 +08 57 55 (J2000)</td><td>Total flux</td><td>Observed magnitude</td><td>Averaged new and previously published data; Standard CousinsR_C, I_C filters assumed</td></tr>\n",
       "<tr><td>9</td><td>I</td><td>12.34</td><td>--</td><td>mag</td><td>379000000000000.0</td><td>0.029499999999999998</td><td>--</td><td>Jy</td><td>2007ApJS..172..599S</td><td>no uncertainty reported</td><td>7900 A</td><td>Broad-band measurement</td><td>00 39 37.6 +08 57 55 (J2000)</td><td>Total flux</td><td></td><td>Averaged new and previously published data;Extinction-corrected for Milky Way; Standard Cousins R_C, I_Cfilters assumed</td></tr>\n",
       "<tr><td>10</td><td>J_14arcsec (2MASS)</td><td>12.509</td><td>0.012</td><td>mag</td><td>240000000000000.0</td><td>0.015800000000000002</td><td>0.000175</td><td>Jy</td><td>20032MASX.C.......:</td><td>1 sigma uncert.</td><td>1.25      microns</td><td>Broad-band measurement</td><td>003937.67 +085755.5 (J2000)</td><td>Flux in fixed aperture</td><td>14.0 x 14.0 arcsec aperture.</td><td>From new raw data</td></tr>\n",
       "<tr><td>11</td><td>J</td><td>11.771000000000001</td><td>0.039</td><td>mag</td><td>240000000000000.0</td><td>0.031199999999999999</td><td>0.00114</td><td>Jy</td><td>20032MASX.C.......:</td><td>1 sigma uncert.</td><td>1.25      microns</td><td>Broad-band measurement</td><td>003937.67 +085755.5 (J2000)</td><td>Flux in fixed aperture</td><td></td><td>From new raw data</td></tr>\n",
       "<tr><td>12</td><td>J</td><td>11.92</td><td>0.028000000000000001</td><td>mag</td><td>240000000000000.0</td><td>0.027199999999999998</td><td>0.00071000000000000002</td><td>Jy</td><td>20032MASX.C.......:</td><td>1 sigma uncert.</td><td>1.25      microns</td><td>Broad-band measurement</td><td>003937.67 +085755.5 (J2000)</td><td>Flux in fixed aperture</td><td>53.6 x   20.4 arcsec integration area.</td><td>From new raw data</td></tr>\n",
       "<tr><td>13</td><td>H</td><td>10.983000000000001</td><td>0.041000000000000002</td><td>mag</td><td>182000000000000.0</td><td>0.041399999999999999</td><td>0.0015900000000000001</td><td>Jy</td><td>20032MASX.C.......:</td><td>1 sigma uncert.</td><td>1.65      microns</td><td>Broad-band measurement</td><td>003937.67 +085755.5 (J2000)</td><td>Flux in fixed aperture</td><td></td><td>From new raw data</td></tr>\n",
       "<tr><td>14</td><td>H_14arcsec (2MASS)</td><td>11.613</td><td>0.012999999999999999</td><td>mag</td><td>182000000000000.0</td><td>0.023199999999999998</td><td>0.00027900000000000001</td><td>Jy</td><td>20032MASX.C.......:</td><td>1 sigma uncert.</td><td>1.65      microns</td><td>Broad-band measurement</td><td>003937.67 +085755.5 (J2000)</td><td>Flux in fixed aperture</td><td>14.0 x 14.0 arcsec aperture.</td><td>From new raw data</td></tr>\n",
       "<tr><td>15</td><td>H</td><td>11.08</td><td>0.034000000000000002</td><td>mag</td><td>182000000000000.0</td><td>0.037900000000000003</td><td>0.0011999999999999999</td><td>Jy</td><td>20032MASX.C.......:</td><td>1 sigma uncert.</td><td>1.65      microns</td><td>Broad-band measurement</td><td>003937.67 +085755.5 (J2000)</td><td>Flux in fixed aperture</td><td>53.6 x   20.4 arcsec integration area.</td><td>From new raw data</td></tr>\n",
       "<tr><td>16</td><td>K_s</td><td>10.561999999999999</td><td>0.044999999999999998</td><td>mag</td><td>138000000000000.0</td><td>0.039699999999999999</td><td>0.0016800000000000001</td><td>Jy</td><td>20032MASX.C.......:</td><td>1 sigma uncert.</td><td>2.17      microns</td><td>Broad-band measurement</td><td>003937.67 +085755.5 (J2000)</td><td>Flux in fixed aperture</td><td></td><td>From new raw data</td></tr>\n",
       "<tr><td>17</td><td>K_s_14arcsec (2MASS)</td><td>11.212</td><td>0.014999999999999999</td><td>mag</td><td>138000000000000.0</td><td>0.0218</td><td>0.00030400000000000002</td><td>Jy</td><td>20032MASX.C.......:</td><td>1 sigma uncert.</td><td>2.17      microns</td><td>Broad-band measurement</td><td>003937.67 +085755.5 (J2000)</td><td>Flux in fixed aperture</td><td>14.0 x 14.0 arcsec aperture.</td><td>From new raw data</td></tr>\n",
       "<tr><td>18</td><td>K_s</td><td>10.669</td><td>0.043999999999999997</td><td>mag</td><td>138000000000000.0</td><td>0.035999999999999997</td><td>0.00149</td><td>Jy</td><td>20032MASX.C.......:</td><td>1 sigma uncert.</td><td>2.17      microns</td><td>Broad-band measurement</td><td>003937.67 +085755.5 (J2000)</td><td>Flux in fixed aperture</td><td>53.6 x   20.4 arcsec integration area.</td><td>From new raw data</td></tr>\n",
       "</table>"
      ],
      "text/plain": [
       "<Table masked=True length=18>\n",
       "DataPointNumber ...\n",
       "                ...\n",
       "     int32      ...\n",
       "--------------- ...\n",
       "              1 ...\n",
       "              2 ...\n",
       "              3 ...\n",
       "              4 ...\n",
       "              5 ...\n",
       "              6 ...\n",
       "              7 ...\n",
       "              8 ...\n",
       "              9 ...\n",
       "             10 ...\n",
       "             11 ...\n",
       "             12 ...\n",
       "             13 ...\n",
       "             14 ...\n",
       "             15 ...\n",
       "             16 ...\n",
       "             17 ...\n",
       "             18 ..."
      ]
     },
     "execution_count": 33,
     "metadata": {},
     "output_type": "execute_result"
    }
   ],
   "source": [
    "url2 = \"http://vo.ned.ipac.caltech.edu/services/accessSED?REQUEST=getData&TARGETNAME=UGC 00418\"\n",
    "r2 = requests.get(url2)\n",
    "table2 = Table.read(io.BytesIO(r2.content))\n",
    "table2"
   ]
  },
  {
   "cell_type": "code",
   "execution_count": 36,
   "metadata": {
    "collapsed": false
   },
   "outputs": [
    {
     "data": {
      "text/html": [
       "&lt;MaskedColumn name=&apos;DataSpectralPassBand&apos; dtype=&apos;object&apos; description=&apos;Colloquial descriptions of the frequency or wavelength at which the data were collected, identifying the bandpass by name e.g., &quot;V&quot;,&quot;1.4GHz&quot;, &quot;6 cm&quot;, &quot;HI&quot;, etc.&apos; length=18&gt;\n",
       "<table>\n",
       "<tr><td>FUV (GALEX) AB</td></tr>\n",
       "<tr><td>FUV (GALEX) AB</td></tr>\n",
       "<tr><td>NUV (GALEX) AB</td></tr>\n",
       "<tr><td>NUV (GALEX) AB</td></tr>\n",
       "<tr><td>m_p</td></tr>\n",
       "<tr><td>B (m_B)</td></tr>\n",
       "<tr><td>B (m_B^0)</td></tr>\n",
       "<tr><td>I</td></tr>\n",
       "<tr><td>I</td></tr>\n",
       "<tr><td>J_14arcsec (2MASS)</td></tr>\n",
       "<tr><td>J</td></tr>\n",
       "<tr><td>J</td></tr>\n",
       "<tr><td>H</td></tr>\n",
       "<tr><td>H_14arcsec (2MASS)</td></tr>\n",
       "<tr><td>H</td></tr>\n",
       "<tr><td>K_s</td></tr>\n",
       "<tr><td>K_s_14arcsec (2MASS)</td></tr>\n",
       "<tr><td>K_s</td></tr>\n",
       "</table>"
      ],
      "text/plain": [
       "<MaskedColumn name='DataSpectralPassBand' dtype='object' description='Colloquial descriptions of the frequency or wavelength at which the data were collected, identifying the bandpass by name e.g., \"V\",\"1.4GHz\", \"6 cm\", \"HI\", etc.' length=18>\n",
       "      FUV (GALEX) AB\n",
       "      FUV (GALEX) AB\n",
       "      NUV (GALEX) AB\n",
       "      NUV (GALEX) AB\n",
       "                 m_p\n",
       "             B (m_B)\n",
       "           B (m_B^0)\n",
       "                   I\n",
       "                   I\n",
       "  J_14arcsec (2MASS)\n",
       "                   J\n",
       "                   J\n",
       "                   H\n",
       "  H_14arcsec (2MASS)\n",
       "                   H\n",
       "                 K_s\n",
       "K_s_14arcsec (2MASS)\n",
       "                 K_s"
      ]
     },
     "execution_count": 36,
     "metadata": {},
     "output_type": "execute_result"
    }
   ],
   "source": [
    "list = table2['DataSpectralPassBand']\n",
    "list"
   ]
  },
  {
   "cell_type": "markdown",
   "metadata": {},
   "source": [
    "Simple Cone Search:\n",
    "http://vao.stsci.edu/directory/getRecord.aspx?id=ivo://ned.ipac/Basic_Data_Near_Position"
   ]
  },
  {
   "cell_type": "markdown",
   "metadata": {},
   "source": [
    "Simple Image Access:\n",
    "http://vao.stsci.edu/directory/getRecord.aspx?id=ivo://ned.ipac/SIA"
   ]
  }
 ],
 "metadata": {
  "kernelspec": {
   "display_name": "Python 3",
   "language": "python",
   "name": "python3"
  },
  "language_info": {
   "codemirror_mode": {
    "name": "ipython",
    "version": 3
   },
   "file_extension": ".py",
   "mimetype": "text/x-python",
   "name": "python",
   "nbconvert_exporter": "python",
   "pygments_lexer": "ipython3",
   "version": "3.5.1"
  }
 },
 "nbformat": 4,
 "nbformat_minor": 2
}
